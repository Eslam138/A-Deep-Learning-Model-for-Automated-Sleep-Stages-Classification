{
  "cells": [
    {
      "cell_type": "code",
      "execution_count": null,
      "metadata": {
        "colab": {
          "base_uri": "https://localhost:8080/"
        },
        "id": "aSTXiCmx9SYs",
        "outputId": "42b49853-fcb6-4653-e9bc-28e534527a67"
      },
      "outputs": [
        {
          "output_type": "stream",
          "name": "stdout",
          "text": [
            "Collecting mne\n",
            "  Downloading mne-0.24.1-py3-none-any.whl (7.4 MB)\n",
            "\u001b[K     |████████████████████████████████| 7.4 MB 2.2 MB/s \n",
            "\u001b[?25hRequirement already satisfied: scipy>=1.1.0 in /usr/local/lib/python3.7/dist-packages (from mne) (1.4.1)\n",
            "Requirement already satisfied: numpy>=1.15.4 in /usr/local/lib/python3.7/dist-packages (from mne) (1.19.5)\n",
            "Installing collected packages: mne\n",
            "Successfully installed mne-0.24.1\n"
          ]
        }
      ],
      "source": [
        "!pip install mne"
      ]
    },
    {
      "cell_type": "code",
      "execution_count": null,
      "metadata": {
        "id": "KiTfK2Qz9WrD"
      },
      "outputs": [],
      "source": [
        "import numpy as np\n",
        "import matplotlib.pyplot as plt\n",
        "\n",
        "import mne\n",
        "from mne.datasets.sleep_physionet.age import fetch_data\n",
        "from mne.time_frequency import psd_welch\n",
        "\n",
        "from sklearn.ensemble import RandomForestClassifier\n",
        "from sklearn.metrics import accuracy_score\n",
        "from sklearn.metrics import confusion_matrix\n",
        "from sklearn.metrics import classification_report\n",
        "from sklearn.pipeline import make_pipeline\n",
        "from sklearn.preprocessing import FunctionTransformer"
      ]
    },
    {
      "cell_type": "code",
      "execution_count": null,
      "metadata": {
        "id": "_XCQSmnaETKT"
      },
      "outputs": [],
      "source": [
        ""
      ]
    },
    {
      "cell_type": "code",
      "execution_count": null,
      "metadata": {
        "id": "iKrS_z90EiDo"
      },
      "outputs": [],
      "source": [
        "def eeg_power_band(epochs):\n",
        "    FREQ_BANDS = {\"delta\": [0.5, 4.5],\n",
        "                  \"theta\": [4.5, 8.5],\n",
        "                  \"alpha\": [8.5, 11.5],\n",
        "                  \"sigma\": [11.5, 15.5],\n",
        "                  \"beta\": [15.5, 30]}\n",
        "    psds, freqs = psd_welch(epochs, picks='eeg', fmin=0.5, fmax=30.)\n",
        "\n",
        "    psds /= np.sum(psds, axis=-1, keepdims=True)\n",
        "    X = []\n",
        "    for fmin, fmax in FREQ_BANDS.values():\n",
        "        psds_band = psds[:, :, (freqs >= fmin) & (freqs < fmax)].mean(axis=-1)\n",
        "        X.append(psds_band.reshape(len(psds), -1))\n",
        "\n",
        "    return np.concatenate(X, axis=1)"
      ]
    },
    {
      "cell_type": "code",
      "execution_count": null,
      "metadata": {
        "colab": {
          "base_uri": "https://localhost:8080/"
        },
        "id": "OK6CZriV9iqU",
        "outputId": "1b917d26-5326-4b0e-cc78-bac10f80e102"
      },
      "outputs": [
        {
          "output_type": "stream",
          "name": "stdout",
          "text": [
            "Using default location ~/mne_data for PHYSIONET_SLEEP...\n",
            "Creating ~/mne_data\n"
          ]
        },
        {
          "output_type": "stream",
          "name": "stderr",
          "text": [
            "Downloading data from 'https://physionet.org/physiobank/database/sleep-edfx/sleep-cassette//SC4001E0-PSG.edf' to file '/root/mne_data/physionet-sleep-data/SC4001E0-PSG.edf'.\n",
            "Downloading data from 'https://physionet.org/physiobank/database/sleep-edfx/sleep-cassette//SC4001EC-Hypnogram.edf' to file '/root/mne_data/physionet-sleep-data/SC4001EC-Hypnogram.edf'.\n"
          ]
        },
        {
          "output_type": "stream",
          "name": "stdout",
          "text": [
            "Extracting EDF parameters from /root/mne_data/physionet-sleep-data/SC4001E0-PSG.edf...\n",
            "EDF file detected\n",
            "Setting channel info structure...\n",
            "Creating raw.info structure...\n",
            "Used Annotations descriptions: ['Sleep stage 1', 'Sleep stage 2', 'Sleep stage 3', 'Sleep stage 4', 'Sleep stage R', 'Sleep stage W']\n",
            "Not setting metadata\n",
            "Not setting metadata\n",
            "841 matching events found\n",
            "No baseline correction applied\n",
            "0 projection items activated\n",
            "Loading data for 841 events and 3000 original time points ...\n",
            "0 bad epochs dropped\n",
            "Effective window size : 2.560 (s)\n"
          ]
        },
        {
          "output_type": "execute_result",
          "data": {
            "text/plain": [
              "(841, 35)"
            ]
          },
          "metadata": {},
          "execution_count": 5
        }
      ],
      "source": [
        "def get_data(count):\n",
        "\n",
        "    [alice_files] = fetch_data(subjects=[count], recording=[1])\n",
        "\n",
        "    raw_train = mne.io.read_raw_edf(alice_files[0], stim_channel='marker',\n",
        "                                    misc=['rectal'])\n",
        "    annot_train = mne.read_annotations(alice_files[1])\n",
        "\n",
        "    raw_train.set_annotations(annot_train, emit_warning=False)\n",
        "\n",
        "    annotation_desc_2_event_id = {'Sleep stage W': 1,\n",
        "                                  'Sleep stage 1': 2,\n",
        "                                  'Sleep stage 2': 3,\n",
        "                                  'Sleep stage 3': 4,\n",
        "                                  'Sleep stage 4': 4,\n",
        "                                  'Sleep stage R': 5}\n",
        "\n",
        "    annot_train.crop(annot_train[1]['onset'] - 30 * 60,\n",
        "                 annot_train[-2]['onset'] + 30 * 60)\n",
        "    raw_train.set_annotations(annot_train, emit_warning=False)\n",
        "\n",
        "    events_train, _ = mne.events_from_annotations(\n",
        "        raw_train, event_id=annotation_desc_2_event_id, chunk_duration=30.)\n",
        "\n",
        "# create a new event_id that unifies stages 3 and 4\n",
        "    event_id = {'Sleep stage W': 1,\n",
        "                'Sleep stage 1': 2,\n",
        "                'Sleep stage 2': 3,\n",
        "                'Sleep stage 3/4': 4,\n",
        "                'Sleep stage R': 5}\n",
        "    tmax = 30. - 1. / raw_train.info['sfreq']  # tmax in included\n",
        "\n",
        "    epochs_train = mne.Epochs(raw=raw_train, events=events_train,\n",
        "                              event_id=event_id, tmin=0., tmax=tmax, baseline=None)\n",
        "\n",
        "    x = eeg_power_band(epochs_train)\n",
        "    y = epochs_train.events[:,2]\n",
        "    return x,y\n",
        "x,y=get_data(0)\n",
        "x.shape"
      ]
    },
    {
      "cell_type": "code",
      "execution_count": null,
      "metadata": {
        "id": "Hoks6Pae9pSk"
      },
      "outputs": [],
      "source": [
        "def  feature_importance(importance):\n",
        "\n",
        "    # summarize feature importance\n",
        "    for i,v in enumerate(importance):\n",
        "\t    print('Feature: %0d, Score: %.5f' % (i,v))\n",
        "    # plot feature importance\n",
        "    pyplot.bar([x for x in range(len(importance))], importance)\n",
        "    pyplot.show()"
      ]
    },
    {
      "cell_type": "code",
      "execution_count": null,
      "metadata": {
        "id": "Vpo_JBb98DFX"
      },
      "outputs": [],
      "source": [
        ""
      ]
    },
    {
      "cell_type": "code",
      "execution_count": null,
      "metadata": {
        "colab": {
          "base_uri": "https://localhost:8080/"
        },
        "id": "G4uvv9V29s4z",
        "outputId": "052bda2a-0c7a-4a8f-fd86-7714f2dd78b2"
      },
      "outputs": [
        {
          "output_type": "stream",
          "name": "stdout",
          "text": [
            "Using default location ~/mne_data for PHYSIONET_SLEEP...\n",
            "Extracting EDF parameters from /root/mne_data/physionet-sleep-data/SC4001E0-PSG.edf...\n",
            "EDF file detected\n",
            "Setting channel info structure...\n",
            "Creating raw.info structure...\n",
            "Used Annotations descriptions: ['Sleep stage 1', 'Sleep stage 2', 'Sleep stage 3', 'Sleep stage 4', 'Sleep stage R', 'Sleep stage W']\n",
            "Not setting metadata\n",
            "Not setting metadata\n",
            "841 matching events found\n",
            "No baseline correction applied\n",
            "0 projection items activated\n",
            "Loading data for 841 events and 3000 original time points ...\n",
            "0 bad epochs dropped\n",
            "Effective window size : 2.560 (s)\n",
            "Using default location ~/mne_data for PHYSIONET_SLEEP...\n"
          ]
        },
        {
          "output_type": "stream",
          "name": "stderr",
          "text": [
            "Downloading data from 'https://physionet.org/physiobank/database/sleep-edfx/sleep-cassette//SC4011E0-PSG.edf' to file '/root/mne_data/physionet-sleep-data/SC4011E0-PSG.edf'.\n",
            "Downloading data from 'https://physionet.org/physiobank/database/sleep-edfx/sleep-cassette//SC4011EH-Hypnogram.edf' to file '/root/mne_data/physionet-sleep-data/SC4011EH-Hypnogram.edf'.\n"
          ]
        },
        {
          "output_type": "stream",
          "name": "stdout",
          "text": [
            "Extracting EDF parameters from /root/mne_data/physionet-sleep-data/SC4011E0-PSG.edf...\n",
            "EDF file detected\n",
            "Setting channel info structure...\n",
            "Creating raw.info structure...\n",
            "Used Annotations descriptions: ['Sleep stage 1', 'Sleep stage 2', 'Sleep stage 3', 'Sleep stage 4', 'Sleep stage R', 'Sleep stage W']\n",
            "Not setting metadata\n",
            "Not setting metadata\n",
            "1103 matching events found\n",
            "No baseline correction applied\n",
            "0 projection items activated\n",
            "Loading data for 1103 events and 3000 original time points ...\n",
            "0 bad epochs dropped\n",
            "Effective window size : 2.560 (s)\n",
            "Using default location ~/mne_data for PHYSIONET_SLEEP...\n"
          ]
        },
        {
          "output_type": "stream",
          "name": "stderr",
          "text": [
            "Downloading data from 'https://physionet.org/physiobank/database/sleep-edfx/sleep-cassette//SC4021E0-PSG.edf' to file '/root/mne_data/physionet-sleep-data/SC4021E0-PSG.edf'.\n",
            "Downloading data from 'https://physionet.org/physiobank/database/sleep-edfx/sleep-cassette//SC4021EH-Hypnogram.edf' to file '/root/mne_data/physionet-sleep-data/SC4021EH-Hypnogram.edf'.\n"
          ]
        },
        {
          "output_type": "stream",
          "name": "stdout",
          "text": [
            "Extracting EDF parameters from /root/mne_data/physionet-sleep-data/SC4021E0-PSG.edf...\n",
            "EDF file detected\n",
            "Setting channel info structure...\n",
            "Creating raw.info structure...\n",
            "Used Annotations descriptions: ['Sleep stage 1', 'Sleep stage 2', 'Sleep stage 3', 'Sleep stage 4', 'Sleep stage R', 'Sleep stage W']\n",
            "Not setting metadata\n",
            "Not setting metadata\n",
            "1025 matching events found\n",
            "No baseline correction applied\n",
            "0 projection items activated\n",
            "Loading data for 1025 events and 3000 original time points ...\n",
            "0 bad epochs dropped\n",
            "Effective window size : 2.560 (s)\n",
            "Using default location ~/mne_data for PHYSIONET_SLEEP...\n"
          ]
        },
        {
          "output_type": "stream",
          "name": "stderr",
          "text": [
            "Downloading data from 'https://physionet.org/physiobank/database/sleep-edfx/sleep-cassette//SC4031E0-PSG.edf' to file '/root/mne_data/physionet-sleep-data/SC4031E0-PSG.edf'.\n",
            "Downloading data from 'https://physionet.org/physiobank/database/sleep-edfx/sleep-cassette//SC4031EC-Hypnogram.edf' to file '/root/mne_data/physionet-sleep-data/SC4031EC-Hypnogram.edf'.\n"
          ]
        },
        {
          "output_type": "stream",
          "name": "stdout",
          "text": [
            "Extracting EDF parameters from /root/mne_data/physionet-sleep-data/SC4031E0-PSG.edf...\n",
            "EDF file detected\n",
            "Setting channel info structure...\n",
            "Creating raw.info structure...\n",
            "Used Annotations descriptions: ['Sleep stage 1', 'Sleep stage 2', 'Sleep stage 3', 'Sleep stage 4', 'Sleep stage R', 'Sleep stage W']\n",
            "Not setting metadata\n",
            "Not setting metadata\n",
            "952 matching events found\n",
            "No baseline correction applied\n",
            "0 projection items activated\n",
            "Loading data for 952 events and 3000 original time points ...\n",
            "0 bad epochs dropped\n",
            "Effective window size : 2.560 (s)\n",
            "Using default location ~/mne_data for PHYSIONET_SLEEP...\n"
          ]
        },
        {
          "output_type": "stream",
          "name": "stderr",
          "text": [
            "Downloading data from 'https://physionet.org/physiobank/database/sleep-edfx/sleep-cassette//SC4041E0-PSG.edf' to file '/root/mne_data/physionet-sleep-data/SC4041E0-PSG.edf'.\n",
            "Downloading data from 'https://physionet.org/physiobank/database/sleep-edfx/sleep-cassette//SC4041EC-Hypnogram.edf' to file '/root/mne_data/physionet-sleep-data/SC4041EC-Hypnogram.edf'.\n"
          ]
        },
        {
          "output_type": "stream",
          "name": "stdout",
          "text": [
            "Extracting EDF parameters from /root/mne_data/physionet-sleep-data/SC4041E0-PSG.edf...\n",
            "EDF file detected\n",
            "Setting channel info structure...\n",
            "Creating raw.info structure...\n",
            "Used Annotations descriptions: ['Sleep stage 1', 'Sleep stage 2', 'Sleep stage 3', 'Sleep stage R', 'Sleep stage W']\n",
            "Not setting metadata\n",
            "Not setting metadata\n",
            "1235 matching events found\n",
            "No baseline correction applied\n",
            "0 projection items activated\n",
            "Loading data for 1235 events and 3000 original time points ...\n",
            "0 bad epochs dropped\n",
            "Effective window size : 2.560 (s)\n",
            "Using default location ~/mne_data for PHYSIONET_SLEEP...\n"
          ]
        },
        {
          "output_type": "stream",
          "name": "stderr",
          "text": [
            "Downloading data from 'https://physionet.org/physiobank/database/sleep-edfx/sleep-cassette//SC4051E0-PSG.edf' to file '/root/mne_data/physionet-sleep-data/SC4051E0-PSG.edf'.\n",
            "Downloading data from 'https://physionet.org/physiobank/database/sleep-edfx/sleep-cassette//SC4051EC-Hypnogram.edf' to file '/root/mne_data/physionet-sleep-data/SC4051EC-Hypnogram.edf'.\n"
          ]
        },
        {
          "output_type": "stream",
          "name": "stdout",
          "text": [
            "Extracting EDF parameters from /root/mne_data/physionet-sleep-data/SC4051E0-PSG.edf...\n",
            "EDF file detected\n",
            "Setting channel info structure...\n",
            "Creating raw.info structure...\n",
            "Used Annotations descriptions: ['Sleep stage 1', 'Sleep stage 2', 'Sleep stage 3', 'Sleep stage 4', 'Sleep stage R', 'Sleep stage W']\n",
            "Not setting metadata\n",
            "Not setting metadata\n",
            "672 matching events found\n",
            "No baseline correction applied\n",
            "0 projection items activated\n",
            "Loading data for 672 events and 3000 original time points ...\n",
            "0 bad epochs dropped\n",
            "Effective window size : 2.560 (s)\n",
            "Using default location ~/mne_data for PHYSIONET_SLEEP...\n"
          ]
        },
        {
          "output_type": "stream",
          "name": "stderr",
          "text": [
            "Downloading data from 'https://physionet.org/physiobank/database/sleep-edfx/sleep-cassette//SC4061E0-PSG.edf' to file '/root/mne_data/physionet-sleep-data/SC4061E0-PSG.edf'.\n",
            "Downloading data from 'https://physionet.org/physiobank/database/sleep-edfx/sleep-cassette//SC4061EC-Hypnogram.edf' to file '/root/mne_data/physionet-sleep-data/SC4061EC-Hypnogram.edf'.\n"
          ]
        },
        {
          "output_type": "stream",
          "name": "stdout",
          "text": [
            "Extracting EDF parameters from /root/mne_data/physionet-sleep-data/SC4061E0-PSG.edf...\n",
            "EDF file detected\n",
            "Setting channel info structure...\n",
            "Creating raw.info structure...\n",
            "Used Annotations descriptions: ['Sleep stage 1', 'Sleep stage 2', 'Sleep stage 3', 'Sleep stage 4', 'Sleep stage R', 'Sleep stage W']\n",
            "Not setting metadata\n",
            "Not setting metadata\n",
            "843 matching events found\n",
            "No baseline correction applied\n",
            "0 projection items activated\n",
            "Loading data for 843 events and 3000 original time points ...\n",
            "0 bad epochs dropped\n",
            "Effective window size : 2.560 (s)\n",
            "Using default location ~/mne_data for PHYSIONET_SLEEP...\n"
          ]
        },
        {
          "output_type": "stream",
          "name": "stderr",
          "text": [
            "Downloading data from 'https://physionet.org/physiobank/database/sleep-edfx/sleep-cassette//SC4071E0-PSG.edf' to file '/root/mne_data/physionet-sleep-data/SC4071E0-PSG.edf'.\n",
            "Downloading data from 'https://physionet.org/physiobank/database/sleep-edfx/sleep-cassette//SC4071EC-Hypnogram.edf' to file '/root/mne_data/physionet-sleep-data/SC4071EC-Hypnogram.edf'.\n"
          ]
        },
        {
          "output_type": "stream",
          "name": "stdout",
          "text": [
            "Extracting EDF parameters from /root/mne_data/physionet-sleep-data/SC4071E0-PSG.edf...\n",
            "EDF file detected\n",
            "Setting channel info structure...\n",
            "Creating raw.info structure...\n",
            "Used Annotations descriptions: ['Sleep stage 1', 'Sleep stage 2', 'Sleep stage 3', 'Sleep stage 4', 'Sleep stage R', 'Sleep stage W']\n",
            "Not setting metadata\n",
            "Not setting metadata\n",
            "976 matching events found\n",
            "No baseline correction applied\n",
            "0 projection items activated\n",
            "Loading data for 976 events and 3000 original time points ...\n",
            "0 bad epochs dropped\n",
            "Effective window size : 2.560 (s)\n",
            "Using default location ~/mne_data for PHYSIONET_SLEEP...\n"
          ]
        },
        {
          "output_type": "stream",
          "name": "stderr",
          "text": [
            "Downloading data from 'https://physionet.org/physiobank/database/sleep-edfx/sleep-cassette//SC4081E0-PSG.edf' to file '/root/mne_data/physionet-sleep-data/SC4081E0-PSG.edf'.\n",
            "Downloading data from 'https://physionet.org/physiobank/database/sleep-edfx/sleep-cassette//SC4081EC-Hypnogram.edf' to file '/root/mne_data/physionet-sleep-data/SC4081EC-Hypnogram.edf'.\n"
          ]
        },
        {
          "output_type": "stream",
          "name": "stdout",
          "text": [
            "Extracting EDF parameters from /root/mne_data/physionet-sleep-data/SC4081E0-PSG.edf...\n",
            "EDF file detected\n",
            "Setting channel info structure...\n",
            "Creating raw.info structure...\n",
            "Used Annotations descriptions: ['Sleep stage 1', 'Sleep stage 2', 'Sleep stage 3', 'Sleep stage 4', 'Sleep stage R', 'Sleep stage W']\n",
            "Not setting metadata\n",
            "Not setting metadata\n",
            "1134 matching events found\n",
            "No baseline correction applied\n",
            "0 projection items activated\n",
            "Loading data for 1134 events and 3000 original time points ...\n",
            "0 bad epochs dropped\n",
            "Effective window size : 2.560 (s)\n",
            "Using default location ~/mne_data for PHYSIONET_SLEEP...\n"
          ]
        },
        {
          "output_type": "stream",
          "name": "stderr",
          "text": [
            "Downloading data from 'https://physionet.org/physiobank/database/sleep-edfx/sleep-cassette//SC4091E0-PSG.edf' to file '/root/mne_data/physionet-sleep-data/SC4091E0-PSG.edf'.\n",
            "Downloading data from 'https://physionet.org/physiobank/database/sleep-edfx/sleep-cassette//SC4091EC-Hypnogram.edf' to file '/root/mne_data/physionet-sleep-data/SC4091EC-Hypnogram.edf'.\n"
          ]
        },
        {
          "output_type": "stream",
          "name": "stdout",
          "text": [
            "Extracting EDF parameters from /root/mne_data/physionet-sleep-data/SC4091E0-PSG.edf...\n",
            "EDF file detected\n",
            "Setting channel info structure...\n",
            "Creating raw.info structure...\n",
            "Used Annotations descriptions: ['Sleep stage 1', 'Sleep stage 2', 'Sleep stage 3', 'Sleep stage 4', 'Sleep stage R', 'Sleep stage W']\n",
            "Not setting metadata\n",
            "Not setting metadata\n",
            "1132 matching events found\n",
            "No baseline correction applied\n",
            "0 projection items activated\n",
            "Loading data for 1132 events and 3000 original time points ...\n",
            "0 bad epochs dropped\n",
            "Effective window size : 2.560 (s)\n",
            "Using default location ~/mne_data for PHYSIONET_SLEEP...\n"
          ]
        },
        {
          "output_type": "stream",
          "name": "stderr",
          "text": [
            "Downloading data from 'https://physionet.org/physiobank/database/sleep-edfx/sleep-cassette//SC4101E0-PSG.edf' to file '/root/mne_data/physionet-sleep-data/SC4101E0-PSG.edf'.\n",
            "Downloading data from 'https://physionet.org/physiobank/database/sleep-edfx/sleep-cassette//SC4101EC-Hypnogram.edf' to file '/root/mne_data/physionet-sleep-data/SC4101EC-Hypnogram.edf'.\n"
          ]
        },
        {
          "output_type": "stream",
          "name": "stdout",
          "text": [
            "Extracting EDF parameters from /root/mne_data/physionet-sleep-data/SC4101E0-PSG.edf...\n",
            "EDF file detected\n",
            "Setting channel info structure...\n",
            "Creating raw.info structure...\n",
            "Used Annotations descriptions: ['Sleep stage 1', 'Sleep stage 2', 'Sleep stage 3', 'Sleep stage R', 'Sleep stage W']\n",
            "Not setting metadata\n",
            "Not setting metadata\n",
            "1104 matching events found\n",
            "No baseline correction applied\n",
            "0 projection items activated\n",
            "Loading data for 1104 events and 3000 original time points ...\n",
            "0 bad epochs dropped\n",
            "Effective window size : 2.560 (s)\n",
            "Using default location ~/mne_data for PHYSIONET_SLEEP...\n"
          ]
        },
        {
          "output_type": "stream",
          "name": "stderr",
          "text": [
            "Downloading data from 'https://physionet.org/physiobank/database/sleep-edfx/sleep-cassette//SC4111E0-PSG.edf' to file '/root/mne_data/physionet-sleep-data/SC4111E0-PSG.edf'.\n",
            "Downloading data from 'https://physionet.org/physiobank/database/sleep-edfx/sleep-cassette//SC4111EC-Hypnogram.edf' to file '/root/mne_data/physionet-sleep-data/SC4111EC-Hypnogram.edf'.\n"
          ]
        },
        {
          "output_type": "stream",
          "name": "stdout",
          "text": [
            "Extracting EDF parameters from /root/mne_data/physionet-sleep-data/SC4111E0-PSG.edf...\n",
            "EDF file detected\n",
            "Setting channel info structure...\n",
            "Creating raw.info structure...\n",
            "Used Annotations descriptions: ['Sleep stage 1', 'Sleep stage 2', 'Sleep stage 3', 'Sleep stage 4', 'Sleep stage R', 'Sleep stage W']\n",
            "Not setting metadata\n",
            "Not setting metadata\n",
            "928 matching events found\n",
            "No baseline correction applied\n",
            "0 projection items activated\n",
            "Loading data for 928 events and 3000 original time points ...\n",
            "0 bad epochs dropped\n",
            "Effective window size : 2.560 (s)\n",
            "Using default location ~/mne_data for PHYSIONET_SLEEP...\n"
          ]
        },
        {
          "output_type": "stream",
          "name": "stderr",
          "text": [
            "Downloading data from 'https://physionet.org/physiobank/database/sleep-edfx/sleep-cassette//SC4121E0-PSG.edf' to file '/root/mne_data/physionet-sleep-data/SC4121E0-PSG.edf'.\n",
            "Downloading data from 'https://physionet.org/physiobank/database/sleep-edfx/sleep-cassette//SC4121EC-Hypnogram.edf' to file '/root/mne_data/physionet-sleep-data/SC4121EC-Hypnogram.edf'.\n"
          ]
        },
        {
          "output_type": "stream",
          "name": "stdout",
          "text": [
            "Extracting EDF parameters from /root/mne_data/physionet-sleep-data/SC4121E0-PSG.edf...\n",
            "EDF file detected\n",
            "Setting channel info structure...\n",
            "Creating raw.info structure...\n",
            "Used Annotations descriptions: ['Sleep stage 1', 'Sleep stage 2', 'Sleep stage 3', 'Sleep stage 4', 'Sleep stage R', 'Sleep stage W']\n",
            "Not setting metadata\n",
            "Not setting metadata\n",
            "1783 matching events found\n",
            "No baseline correction applied\n",
            "0 projection items activated\n",
            "Loading data for 1783 events and 3000 original time points ...\n",
            "0 bad epochs dropped\n",
            "Effective window size : 2.560 (s)\n",
            "Using default location ~/mne_data for PHYSIONET_SLEEP...\n"
          ]
        },
        {
          "output_type": "stream",
          "name": "stderr",
          "text": [
            "Downloading data from 'https://physionet.org/physiobank/database/sleep-edfx/sleep-cassette//SC4131E0-PSG.edf' to file '/root/mne_data/physionet-sleep-data/SC4131E0-PSG.edf'.\n",
            "Downloading data from 'https://physionet.org/physiobank/database/sleep-edfx/sleep-cassette//SC4131EC-Hypnogram.edf' to file '/root/mne_data/physionet-sleep-data/SC4131EC-Hypnogram.edf'.\n"
          ]
        },
        {
          "output_type": "stream",
          "name": "stdout",
          "text": [
            "Extracting EDF parameters from /root/mne_data/physionet-sleep-data/SC4131E0-PSG.edf...\n",
            "EDF file detected\n",
            "Setting channel info structure...\n",
            "Creating raw.info structure...\n",
            "Used Annotations descriptions: ['Sleep stage 1', 'Sleep stage 2', 'Sleep stage 3', 'Sleep stage 4', 'Sleep stage R', 'Sleep stage W']\n",
            "Not setting metadata\n",
            "Not setting metadata\n",
            "1028 matching events found\n",
            "No baseline correction applied\n",
            "0 projection items activated\n",
            "Loading data for 1028 events and 3000 original time points ...\n",
            "0 bad epochs dropped\n",
            "Effective window size : 2.560 (s)\n",
            "Using default location ~/mne_data for PHYSIONET_SLEEP...\n"
          ]
        },
        {
          "output_type": "stream",
          "name": "stderr",
          "text": [
            "Downloading data from 'https://physionet.org/physiobank/database/sleep-edfx/sleep-cassette//SC4141E0-PSG.edf' to file '/root/mne_data/physionet-sleep-data/SC4141E0-PSG.edf'.\n",
            "Downloading data from 'https://physionet.org/physiobank/database/sleep-edfx/sleep-cassette//SC4141EU-Hypnogram.edf' to file '/root/mne_data/physionet-sleep-data/SC4141EU-Hypnogram.edf'.\n"
          ]
        },
        {
          "output_type": "stream",
          "name": "stdout",
          "text": [
            "Extracting EDF parameters from /root/mne_data/physionet-sleep-data/SC4141E0-PSG.edf...\n",
            "EDF file detected\n",
            "Setting channel info structure...\n",
            "Creating raw.info structure...\n",
            "Used Annotations descriptions: ['Sleep stage 1', 'Sleep stage 2', 'Sleep stage 3', 'Sleep stage 4', 'Sleep stage R', 'Sleep stage W']\n",
            "Not setting metadata\n",
            "Not setting metadata\n",
            "1004 matching events found\n",
            "No baseline correction applied\n",
            "0 projection items activated\n",
            "Loading data for 1004 events and 3000 original time points ...\n",
            "0 bad epochs dropped\n",
            "Effective window size : 2.560 (s)\n",
            "Using default location ~/mne_data for PHYSIONET_SLEEP...\n"
          ]
        },
        {
          "output_type": "stream",
          "name": "stderr",
          "text": [
            "Downloading data from 'https://physionet.org/physiobank/database/sleep-edfx/sleep-cassette//SC4151E0-PSG.edf' to file '/root/mne_data/physionet-sleep-data/SC4151E0-PSG.edf'.\n",
            "Downloading data from 'https://physionet.org/physiobank/database/sleep-edfx/sleep-cassette//SC4151EC-Hypnogram.edf' to file '/root/mne_data/physionet-sleep-data/SC4151EC-Hypnogram.edf'.\n"
          ]
        },
        {
          "output_type": "stream",
          "name": "stdout",
          "text": [
            "Extracting EDF parameters from /root/mne_data/physionet-sleep-data/SC4151E0-PSG.edf...\n",
            "EDF file detected\n",
            "Setting channel info structure...\n",
            "Creating raw.info structure...\n",
            "Used Annotations descriptions: ['Sleep stage 1', 'Sleep stage 2', 'Sleep stage 3', 'Sleep stage 4', 'Sleep stage R', 'Sleep stage W']\n",
            "Not setting metadata\n",
            "Not setting metadata\n",
            "952 matching events found\n",
            "No baseline correction applied\n",
            "0 projection items activated\n",
            "Loading data for 952 events and 3000 original time points ...\n",
            "0 bad epochs dropped\n",
            "Effective window size : 2.560 (s)\n",
            "Using default location ~/mne_data for PHYSIONET_SLEEP...\n"
          ]
        },
        {
          "output_type": "stream",
          "name": "stderr",
          "text": [
            "Downloading data from 'https://physionet.org/physiobank/database/sleep-edfx/sleep-cassette//SC4161E0-PSG.edf' to file '/root/mne_data/physionet-sleep-data/SC4161E0-PSG.edf'.\n",
            "Downloading data from 'https://physionet.org/physiobank/database/sleep-edfx/sleep-cassette//SC4161EC-Hypnogram.edf' to file '/root/mne_data/physionet-sleep-data/SC4161EC-Hypnogram.edf'.\n"
          ]
        },
        {
          "output_type": "stream",
          "name": "stdout",
          "text": [
            "Extracting EDF parameters from /root/mne_data/physionet-sleep-data/SC4161E0-PSG.edf...\n",
            "EDF file detected\n",
            "Setting channel info structure...\n",
            "Creating raw.info structure...\n",
            "Used Annotations descriptions: ['Sleep stage 1', 'Sleep stage 2', 'Sleep stage 3', 'Sleep stage 4', 'Sleep stage R', 'Sleep stage W']\n",
            "Not setting metadata\n",
            "Not setting metadata\n",
            "1144 matching events found\n",
            "No baseline correction applied\n",
            "0 projection items activated\n",
            "Loading data for 1144 events and 3000 original time points ...\n",
            "0 bad epochs dropped\n",
            "Effective window size : 2.560 (s)\n",
            "Using default location ~/mne_data for PHYSIONET_SLEEP...\n",
            "Extracting EDF parameters from /root/mne_data/physionet-sleep-data/SC4161E0-PSG.edf...\n",
            "EDF file detected\n",
            "Setting channel info structure...\n",
            "Creating raw.info structure...\n",
            "Used Annotations descriptions: ['Sleep stage 1', 'Sleep stage 2', 'Sleep stage 3', 'Sleep stage 4', 'Sleep stage R', 'Sleep stage W']\n",
            "Not setting metadata\n",
            "Not setting metadata\n",
            "1144 matching events found\n",
            "No baseline correction applied\n",
            "0 projection items activated\n",
            "Loading data for 1144 events and 3000 original time points ...\n",
            "0 bad epochs dropped\n",
            "Effective window size : 2.560 (s)\n",
            "Using default location ~/mne_data for PHYSIONET_SLEEP...\n"
          ]
        },
        {
          "output_type": "stream",
          "name": "stderr",
          "text": [
            "Downloading data from 'https://physionet.org/physiobank/database/sleep-edfx/sleep-cassette//SC4171E0-PSG.edf' to file '/root/mne_data/physionet-sleep-data/SC4171E0-PSG.edf'.\n",
            "Downloading data from 'https://physionet.org/physiobank/database/sleep-edfx/sleep-cassette//SC4171EU-Hypnogram.edf' to file '/root/mne_data/physionet-sleep-data/SC4171EU-Hypnogram.edf'.\n"
          ]
        },
        {
          "output_type": "stream",
          "name": "stdout",
          "text": [
            "Extracting EDF parameters from /root/mne_data/physionet-sleep-data/SC4171E0-PSG.edf...\n",
            "EDF file detected\n",
            "Setting channel info structure...\n",
            "Creating raw.info structure...\n",
            "Used Annotations descriptions: ['Sleep stage 1', 'Sleep stage 2', 'Sleep stage 3', 'Sleep stage 4', 'Sleep stage R', 'Sleep stage W']\n",
            "Not setting metadata\n",
            "Not setting metadata\n",
            "1002 matching events found\n",
            "No baseline correction applied\n",
            "0 projection items activated\n",
            "Loading data for 1002 events and 3000 original time points ...\n",
            "0 bad epochs dropped\n",
            "Effective window size : 2.560 (s)\n",
            "Using default location ~/mne_data for PHYSIONET_SLEEP...\n"
          ]
        },
        {
          "output_type": "stream",
          "name": "stderr",
          "text": [
            "Downloading data from 'https://physionet.org/physiobank/database/sleep-edfx/sleep-cassette//SC4181E0-PSG.edf' to file '/root/mne_data/physionet-sleep-data/SC4181E0-PSG.edf'.\n",
            "Downloading data from 'https://physionet.org/physiobank/database/sleep-edfx/sleep-cassette//SC4181EC-Hypnogram.edf' to file '/root/mne_data/physionet-sleep-data/SC4181EC-Hypnogram.edf'.\n"
          ]
        },
        {
          "output_type": "stream",
          "name": "stdout",
          "text": [
            "Extracting EDF parameters from /root/mne_data/physionet-sleep-data/SC4181E0-PSG.edf...\n",
            "EDF file detected\n",
            "Setting channel info structure...\n",
            "Creating raw.info structure...\n",
            "Used Annotations descriptions: ['Sleep stage 1', 'Sleep stage 2', 'Sleep stage 3', 'Sleep stage 4', 'Sleep stage R', 'Sleep stage W']\n",
            "Not setting metadata\n",
            "Not setting metadata\n",
            "964 matching events found\n",
            "No baseline correction applied\n",
            "0 projection items activated\n",
            "Loading data for 964 events and 3000 original time points ...\n",
            "0 bad epochs dropped\n",
            "Effective window size : 2.560 (s)\n",
            "Using default location ~/mne_data for PHYSIONET_SLEEP...\n"
          ]
        },
        {
          "output_type": "stream",
          "name": "stderr",
          "text": [
            "Downloading data from 'https://physionet.org/physiobank/database/sleep-edfx/sleep-cassette//SC4191E0-PSG.edf' to file '/root/mne_data/physionet-sleep-data/SC4191E0-PSG.edf'.\n",
            "Downloading data from 'https://physionet.org/physiobank/database/sleep-edfx/sleep-cassette//SC4191EP-Hypnogram.edf' to file '/root/mne_data/physionet-sleep-data/SC4191EP-Hypnogram.edf'.\n"
          ]
        },
        {
          "output_type": "stream",
          "name": "stdout",
          "text": [
            "Extracting EDF parameters from /root/mne_data/physionet-sleep-data/SC4191E0-PSG.edf...\n",
            "EDF file detected\n",
            "Setting channel info structure...\n",
            "Creating raw.info structure...\n",
            "Used Annotations descriptions: ['Sleep stage 1', 'Sleep stage 2', 'Sleep stage 3', 'Sleep stage 4', 'Sleep stage R', 'Sleep stage W']\n",
            "Not setting metadata\n",
            "Not setting metadata\n",
            "1535 matching events found\n",
            "No baseline correction applied\n",
            "0 projection items activated\n",
            "Loading data for 1535 events and 3000 original time points ...\n",
            "0 bad epochs dropped\n",
            "Effective window size : 2.560 (s)\n",
            "Using default location ~/mne_data for PHYSIONET_SLEEP...\n"
          ]
        },
        {
          "output_type": "stream",
          "name": "stderr",
          "text": [
            "Downloading data from 'https://physionet.org/physiobank/database/sleep-edfx/sleep-cassette//SC4201E0-PSG.edf' to file '/root/mne_data/physionet-sleep-data/SC4201E0-PSG.edf'.\n",
            "Downloading data from 'https://physionet.org/physiobank/database/sleep-edfx/sleep-cassette//SC4201EC-Hypnogram.edf' to file '/root/mne_data/physionet-sleep-data/SC4201EC-Hypnogram.edf'.\n"
          ]
        },
        {
          "output_type": "stream",
          "name": "stdout",
          "text": [
            "Extracting EDF parameters from /root/mne_data/physionet-sleep-data/SC4201E0-PSG.edf...\n",
            "EDF file detected\n",
            "Setting channel info structure...\n",
            "Creating raw.info structure...\n",
            "Used Annotations descriptions: ['Sleep stage 1', 'Sleep stage 2', 'Sleep stage 3', 'Sleep stage R', 'Sleep stage W']\n",
            "Not setting metadata\n",
            "Not setting metadata\n",
            "1022 matching events found\n",
            "No baseline correction applied\n",
            "0 projection items activated\n",
            "Loading data for 1022 events and 3000 original time points ...\n",
            "0 bad epochs dropped\n",
            "Effective window size : 2.560 (s)\n"
          ]
        }
      ],
      "source": [
        "x,y=get_data(0)\n",
        "for i in range(1,16):\n",
        "    temp_x,temp_y=get_data(i)\n",
        "    x=np.vstack((x,temp_x))\n",
        "    y=np.vstack((y.reshape((y.shape[0],1)),temp_y.reshape((temp_y.shape[0],1))))\n",
        "x_test,y_test=get_data(16)\n",
        "for i in range(16,21):\n",
        "    temp_x,temp_y=get_data(i)\n",
        "    x_test=np.vstack((x_test,temp_x))\n",
        "    y_test=np.vstack((y_test.reshape((y_test.shape[0],1)),temp_y.reshape((temp_y.shape[0],1))))"
      ]
    },
    {
      "cell_type": "code",
      "execution_count": null,
      "metadata": {
        "colab": {
          "base_uri": "https://localhost:8080/"
        },
        "id": "InAQYjhR9F6T",
        "outputId": "dd387ca0-7b4c-42a8-9a8d-e739f9d52935"
      },
      "outputs": [
        {
          "output_type": "stream",
          "name": "stdout",
          "text": [
            "(16712, 35)\n",
            "(16712, 1)\n",
            "(6811, 35)\n",
            "(6811, 1)\n"
          ]
        }
      ],
      "source": [
        "print(x.shape)\n",
        "print(y.shape)\n",
        "print(x_test.shape)\n",
        "print(y_test.shape)"
      ]
    },
    {
      "cell_type": "code",
      "execution_count": null,
      "metadata": {
        "colab": {
          "base_uri": "https://localhost:8080/"
        },
        "id": "F9oiVLl89w53",
        "outputId": "1899d8e6-0cd0-4d09-fde1-f1a38594bffa"
      },
      "outputs": [
        {
          "output_type": "stream",
          "name": "stderr",
          "text": [
            "/usr/local/lib/python3.7/dist-packages/sklearn/neural_network/_multilayer_perceptron.py:1109: DataConversionWarning: A column-vector y was passed when a 1d array was expected. Please change the shape of y to (n_samples, ), for example using ravel().\n",
            "  y = column_or_1d(y, warn=True)\n"
          ]
        },
        {
          "output_type": "execute_result",
          "data": {
            "text/plain": [
              "MLPClassifier(hidden_layer_sizes=(500, 3), max_iter=1000, random_state=20)"
            ]
          },
          "metadata": {},
          "execution_count": 9
        }
      ],
      "source": [
        "from sklearn.neural_network import MLPClassifier\n",
        "\n",
        "mlp = MLPClassifier(hidden_layer_sizes=(500,3),random_state=20, max_iter=1000)\n",
        "mlp.fit(x,y)\n"
      ]
    },
    {
      "cell_type": "code",
      "execution_count": null,
      "metadata": {
        "colab": {
          "base_uri": "https://localhost:8080/"
        },
        "id": "Cq0uL2NR90uf",
        "outputId": "974348d9-3fc6-46f0-8ede-63be90485a3a"
      },
      "outputs": [
        {
          "output_type": "stream",
          "name": "stdout",
          "text": [
            "Accuracy score: 0.7277932755836147\n",
            "[[1028    0   60    7  102]\n",
            " [ 141    1  100    1   74]\n",
            " [  57    1 2741   65  120]\n",
            " [   4    0  463  479    4]\n",
            " [ 250    1  400    4  708]]\n",
            "                 precision    recall  f1-score   support\n",
            "\n",
            "  Sleep stage R       0.69      0.86      0.77      1197\n",
            "  Sleep stage W       0.33      0.00      0.01       317\n",
            "Sleep stage 3/4       0.73      0.92      0.81      2984\n",
            "  Sleep stage 1       0.86      0.50      0.64       950\n",
            "  Sleep stage 2       0.70      0.52      0.60      1363\n",
            "\n",
            "       accuracy                           0.73      6811\n",
            "      macro avg       0.66      0.56      0.56      6811\n",
            "   weighted avg       0.72      0.73      0.70      6811\n",
            "\n",
            "--------------------------------------------------------\n"
          ]
        }
      ],
      "source": [
        "from sklearn.metrics import accuracy_score\n",
        "from sklearn.metrics import confusion_matrix\n",
        "from sklearn.metrics import classification_report\n",
        "\n",
        "y_pred = mlp.predict(x_test)\n",
        "\n",
        "acc = accuracy_score(y_test, y_pred)\n",
        "\n",
        "print(\"Accuracy score: {}\".format(acc))\n",
        "print(confusion_matrix(y_test, y_pred))\n",
        "print(classification_report(y_test, y_pred, target_names={'Sleep stage W',\n",
        "                    'Sleep stage 1',\n",
        "                    'Sleep stage 2',\n",
        "                    'Sleep stage 3/4',\n",
        "                    'Sleep stage R'}))\n",
        "print('--------------------------------------------------------')\n"
      ]
    },
    {
      "cell_type": "code",
      "execution_count": null,
      "metadata": {
        "colab": {
          "base_uri": "https://localhost:8080/"
        },
        "id": "mYYBB4VzqL2t",
        "outputId": "9330fc69-88ff-45fe-fe6a-844705adb0f5"
      },
      "outputs": [
        {
          "output_type": "stream",
          "name": "stdout",
          "text": [
            "Feature: 0, Score: 0.04272\n",
            "Feature: 1, Score: 0.22415\n",
            "Feature: 2, Score: 0.00562\n",
            "Feature: 3, Score: -0.00004\n",
            "Feature: 4, Score: 0.00004\n",
            "Feature: 5, Score: -0.00004\n",
            "Feature: 6, Score: 0.00006\n",
            "Feature: 7, Score: 0.10438\n",
            "Feature: 8, Score: 0.06249\n",
            "Feature: 9, Score: 0.00452\n",
            "Feature: 10, Score: 0.00055\n",
            "Feature: 11, Score: 0.00022\n",
            "Feature: 12, Score: -0.00001\n",
            "Feature: 13, Score: 0.00023\n",
            "Feature: 14, Score: 0.03438\n",
            "Feature: 15, Score: 0.02329\n",
            "Feature: 16, Score: 0.01199\n",
            "Feature: 17, Score: 0.00030\n",
            "Feature: 18, Score: 0.00013\n",
            "Feature: 19, Score: 0.00002\n",
            "Feature: 20, Score: 0.00005\n",
            "Feature: 21, Score: 0.04512\n",
            "Feature: 22, Score: 0.05164\n",
            "Feature: 23, Score: 0.02987\n",
            "Feature: 24, Score: 0.00007\n",
            "Feature: 25, Score: 0.00002\n",
            "Feature: 26, Score: 0.00004\n",
            "Feature: 27, Score: 0.00008\n",
            "Feature: 28, Score: 0.04878\n",
            "Feature: 29, Score: 0.09830\n",
            "Feature: 30, Score: 0.00450\n",
            "Feature: 31, Score: 0.00008\n",
            "Feature: 32, Score: 0.00002\n",
            "Feature: 33, Score: 0.00000\n",
            "Feature: 34, Score: 0.00000\n"
          ]
        }
      ],
      "source": [
        "from sklearn.inspection import permutation_importance\n",
        "results = permutation_importance(mlp, x, y, scoring='accuracy')\n",
        "importance = results.importances_mean\n",
        "for i,v in enumerate(importance):\n",
        "    print('Feature: %0d, Score: %.5f' % (i,v))"
      ]
    },
    {
      "cell_type": "code",
      "execution_count": null,
      "metadata": {
        "colab": {
          "base_uri": "https://localhost:8080/",
          "height": 265
        },
        "id": "UweOf92RtJ4O",
        "outputId": "337444d7-99f1-4d00-ffd1-876f67690091"
      },
      "outputs": [
        {
          "output_type": "display_data",
          "data": {
            "image/png": "[encoded data removed]",
            "text/plain": [
              "<Figure size 432x288 with 1 Axes>"
            ]
          },
          "metadata": {
            "needs_background": "light"
          }
        }
      ],
      "source": [
        "plt.bar([x for x in range(len(importance))], importance)\n",
        "plt.show()"
      ]
    },
    {
      "cell_type": "code",
      "execution_count": null,
      "metadata": {
        "colab": {
          "base_uri": "https://localhost:8080/"
        },
        "id": "75CpeniU95ny",
        "outputId": "93deae3c-9d8b-42a0-f57a-b0c8f2058c6d"
      },
      "outputs": [
        {
          "output_type": "stream",
          "name": "stderr",
          "text": [
            "/usr/local/lib/python3.7/dist-packages/sklearn/neighbors/_classification.py:198: DataConversionWarning: A column-vector y was passed when a 1d array was expected. Please change the shape of y to (n_samples,), for example using ravel().\n",
            "  return self._fit(X, y)\n"
          ]
        },
        {
          "output_type": "execute_result",
          "data": {
            "text/plain": [
              "KNeighborsClassifier()"
            ]
          },
          "metadata": {},
          "execution_count": 13
        }
      ],
      "source": [
        "from sklearn.neighbors import KNeighborsClassifier\n",
        "neigh = KNeighborsClassifier(n_neighbors=5)\n",
        "neigh.fit(x,y)\n"
      ]
    },
    {
      "cell_type": "code",
      "execution_count": null,
      "metadata": {
        "colab": {
          "base_uri": "https://localhost:8080/"
        },
        "id": "_FV_BEBy-AmR",
        "outputId": "ee1f6000-d6f7-491f-8769-dbc3d50173b7"
      },
      "outputs": [
        {
          "output_type": "stream",
          "name": "stdout",
          "text": [
            "Accuracy score: 0.691822052562032\n",
            "[[ 852   56  191   20   78]\n",
            " [ 113   54   98    2   50]\n",
            " [  50   60 2647   96  131]\n",
            " [   5    1  385  558    1]\n",
            " [ 208   67  465   22  601]]\n",
            "                 precision    recall  f1-score   support\n",
            "\n",
            "  Sleep stage R       0.69      0.71      0.70      1197\n",
            "  Sleep stage W       0.23      0.17      0.19       317\n",
            "Sleep stage 3/4       0.70      0.89      0.78      2984\n",
            "  Sleep stage 1       0.80      0.59      0.68       950\n",
            "  Sleep stage 2       0.70      0.44      0.54      1363\n",
            "\n",
            "       accuracy                           0.69      6811\n",
            "      macro avg       0.62      0.56      0.58      6811\n",
            "   weighted avg       0.69      0.69      0.68      6811\n",
            "\n",
            "--------------------------------------------------------\n"
          ]
        }
      ],
      "source": [
        "from sklearn.metrics import accuracy_score\n",
        "from sklearn.metrics import confusion_matrix\n",
        "from sklearn.metrics import classification_report\n",
        "\n",
        "y_pred = neigh.predict(x_test)\n",
        "\n",
        "acc = accuracy_score(y_test, y_pred)\n",
        "\n",
        "print(\"Accuracy score: {}\".format(acc))\n",
        "print(confusion_matrix(y_test, y_pred))\n",
        "print(classification_report(y_test, y_pred, target_names={'Sleep stage W',\n",
        "                    'Sleep stage 1',\n",
        "                    'Sleep stage 2',\n",
        "                    'Sleep stage 3/4',\n",
        "                    'Sleep stage R'}))\n",
        "print('--------------------------------------------------------')\n",
        "\n",
        "\n"
      ]
    },
    {
      "cell_type": "code",
      "execution_count": null,
      "metadata": {
        "colab": {
          "base_uri": "https://localhost:8080/",
          "height": 265
        },
        "id": "6SKxkKBztaqr",
        "outputId": "8e0595a2-2026-43ee-e464-c2b4e27cac9b"
      },
      "outputs": [
        {
          "output_type": "display_data",
          "data": {
            "image/png": "[encoded data removed]",
            "text/plain": [
              "<Figure size 432x288 with 1 Axes>"
            ]
          },
          "metadata": {
            "needs_background": "light"
          }
        }
      ],
      "source": [
        "from sklearn.inspection import permutation_importance\n",
        "results = permutation_importance(neigh, x, y, scoring='accuracy')\n",
        "importance = results.importances_mean\n",
        "plt.bar([x for x in range(len(importance))], importance)\n",
        "plt.show()"
      ]
    },
    {
      "cell_type": "code",
      "execution_count": null,
      "metadata": {
        "colab": {
          "base_uri": "https://localhost:8080/"
        },
        "id": "kBYYPkA1-EL9",
        "outputId": "2e303ec4-4aa6-4d4d-8351-e730bb5de06f"
      },
      "outputs": [
        {
          "output_type": "stream",
          "name": "stderr",
          "text": [
            "/usr/local/lib/python3.7/dist-packages/sklearn/utils/validation.py:985: DataConversionWarning: A column-vector y was passed when a 1d array was expected. Please change the shape of y to (n_samples, ), for example using ravel().\n",
            "  y = column_or_1d(y, warn=True)\n"
          ]
        },
        {
          "output_type": "stream",
          "name": "stdout",
          "text": [
            "Accuracy score: 0.7260314197621495\n",
            "[[ 999   26   74    5   93]\n",
            " [ 134   33  104    1   45]\n",
            " [  42   36 2728   71  107]\n",
            " [   3    0  419  526    2]\n",
            " [ 220   20  456    8  659]]\n",
            "                 precision    recall  f1-score   support\n",
            "\n",
            "  Sleep stage R       0.71      0.83      0.77      1197\n",
            "  Sleep stage W       0.29      0.10      0.15       317\n",
            "Sleep stage 3/4       0.72      0.91      0.81      2984\n",
            "  Sleep stage 1       0.86      0.55      0.67       950\n",
            "  Sleep stage 2       0.73      0.48      0.58      1363\n",
            "\n",
            "       accuracy                           0.73      6811\n",
            "      macro avg       0.66      0.58      0.60      6811\n",
            "   weighted avg       0.72      0.73      0.71      6811\n",
            "\n",
            "--------------------------------------------------------\n"
          ]
        }
      ],
      "source": [
        "from sklearn.svm import SVC\n",
        "sgd = SVC(kernel='poly',degree=15,random_state=50)\n",
        "sgd.fit(x,y)\n",
        "\n",
        "y_pred = sgd.predict(x_test)\n",
        "\n",
        "acc = accuracy_score(y_test, y_pred)\n",
        "\n",
        "print(\"Accuracy score: {}\".format(acc))\n",
        "print(confusion_matrix(y_test, y_pred))\n",
        "print(classification_report(y_test, y_pred, target_names={'Sleep stage W',\n",
        "                    'Sleep stage 1',\n",
        "                    'Sleep stage 2',\n",
        "                    'Sleep stage 3/4',\n",
        "                    'Sleep stage R'}))\n",
        "print('--------------------------------------------------------')\n"
      ]
    },
    {
      "cell_type": "code",
      "execution_count": null,
      "metadata": {
        "id": "L_Vc4cPEiQre",
        "colab": {
          "base_uri": "https://localhost:8080/",
          "height": 265
        },
        "outputId": "65cbdae1-ba43-4b09-a0a3-ab9a39c1353f"
      },
      "outputs": [
        {
          "output_type": "display_data",
          "data": {
            "image/png": "[encoded data removed]",
            "text/plain": [
              "<Figure size 432x288 with 1 Axes>"
            ]
          },
          "metadata": {
            "needs_background": "light"
          }
        }
      ],
      "source": [
        "from sklearn.inspection import permutation_importance\n",
        "results = permutation_importance(sgd, x, y, scoring='accuracy')\n",
        "importance = results.importances_mean\n",
        "plt.bar([x for x in range(len(importance))], importance)\n",
        "plt.show()\n"
      ]
    },
    {
      "cell_type": "code",
      "execution_count": null,
      "metadata": {
        "id": "S8h3FWdLfmWY",
        "colab": {
          "base_uri": "https://localhost:8080/"
        },
        "outputId": "e34a53e0-d8a4-4944-a10d-733057ce0876"
      },
      "outputs": [
        {
          "output_type": "stream",
          "name": "stderr",
          "text": [
            "/usr/local/lib/python3.7/dist-packages/sklearn/utils/validation.py:985: DataConversionWarning: A column-vector y was passed when a 1d array was expected. Please change the shape of y to (n_samples, ), for example using ravel().\n",
            "  y = column_or_1d(y, warn=True)\n"
          ]
        },
        {
          "output_type": "stream",
          "name": "stdout",
          "text": [
            "Accuracy score: 0.6523271178975187\n",
            "[[ 772   21   44  224  136]\n",
            " [ 166   18   70   15   48]\n",
            " [  93   13 2417  374   87]\n",
            " [   5    0  115  825    5]\n",
            " [ 343   26  255  328  411]]\n",
            "                 precision    recall  f1-score   support\n",
            "\n",
            "  Sleep stage R       0.56      0.64      0.60      1197\n",
            "  Sleep stage W       0.23      0.06      0.09       317\n",
            "Sleep stage 3/4       0.83      0.81      0.82      2984\n",
            "  Sleep stage 1       0.47      0.87      0.61       950\n",
            "  Sleep stage 2       0.60      0.30      0.40      1363\n",
            "\n",
            "       accuracy                           0.65      6811\n",
            "      macro avg       0.54      0.54      0.50      6811\n",
            "   weighted avg       0.66      0.65      0.63      6811\n",
            "\n",
            "--------------------------------------------------------\n"
          ]
        }
      ],
      "source": [
        "from sklearn.linear_model import PassiveAggressiveClassifier\n",
        "pac = PassiveAggressiveClassifier(max_iter=1000, random_state=20,tol=1e-3)\n",
        "pac.fit(x,y)\n",
        "\n",
        "y_pred = pac.predict(x_test)\n",
        "\n",
        "acc = accuracy_score(y_test, y_pred)\n",
        "\n",
        "print(\"Accuracy score: {}\".format(acc))\n",
        "print(confusion_matrix(y_test, y_pred))\n",
        "print(classification_report(y_test, y_pred, target_names={'Sleep stage W',\n",
        "                    'Sleep stage 1',\n",
        "                    'Sleep stage 2',\n",
        "                    'Sleep stage 3/4',\n",
        "                    'Sleep stage R'}))\n",
        "print('--------------------------------------------------------')"
      ]
    },
    {
      "cell_type": "code",
      "execution_count": null,
      "metadata": {
        "id": "Q1YxGSIfj-vS",
        "colab": {
          "base_uri": "https://localhost:8080/",
          "height": 265
        },
        "outputId": "5ebec1f4-eb1b-4a77-e706-6fce10eee004"
      },
      "outputs": [
        {
          "output_type": "display_data",
          "data": {
            "image/png": "[encoded data removed]",
            "text/plain": [
              "<Figure size 432x288 with 1 Axes>"
            ]
          },
          "metadata": {
            "needs_background": "light"
          }
        }
      ],
      "source": [
        "from sklearn.inspection import permutation_importance\n",
        "results = permutation_importance(pac, x, y, scoring='accuracy')\n",
        "importance = results.importances_mean\n",
        "plt.bar([x for x in range(len(importance))], importance)\n",
        "plt.show()"
      ]
    },
    {
      "cell_type": "code",
      "execution_count": null,
      "metadata": {
        "id": "tCZ471YRZULq",
        "colab": {
          "base_uri": "https://localhost:8080/"
        },
        "outputId": "dab2acce-408c-48de-e02c-f9a7e655d49e"
      },
      "outputs": [
        {
          "output_type": "stream",
          "name": "stderr",
          "text": [
            "/usr/local/lib/python3.7/dist-packages/sklearn/utils/validation.py:985: DataConversionWarning: A column-vector y was passed when a 1d array was expected. Please change the shape of y to (n_samples, ), for example using ravel().\n",
            "  y = column_or_1d(y, warn=True)\n",
            "/usr/local/lib/python3.7/dist-packages/sklearn/metrics/_classification.py:1308: UndefinedMetricWarning: Precision and F-score are ill-defined and being set to 0.0 in labels with no predicted samples. Use `zero_division` parameter to control this behavior.\n",
            "  _warn_prf(average, modifier, msg_start, len(result))\n"
          ]
        },
        {
          "output_type": "stream",
          "name": "stdout",
          "text": [
            "Accuracy score: 0.5338423139039788\n",
            "[[ 663    0  514    9   11]\n",
            " [ 109    0  207    0    1]\n",
            " [  71    0 2912    1    0]\n",
            " [   4    0  891   55    0]\n",
            " [ 565    0  770   22    6]]\n",
            "                 precision    recall  f1-score   support\n",
            "\n",
            "  Sleep stage R       0.47      0.55      0.51      1197\n",
            "  Sleep stage W       0.00      0.00      0.00       317\n",
            "Sleep stage 3/4       0.55      0.98      0.70      2984\n",
            "  Sleep stage 1       0.63      0.06      0.11       950\n",
            "  Sleep stage 2       0.33      0.00      0.01      1363\n",
            "\n",
            "       accuracy                           0.53      6811\n",
            "      macro avg       0.40      0.32      0.27      6811\n",
            "   weighted avg       0.48      0.53      0.41      6811\n",
            "\n",
            "--------------------------------------------------------\n"
          ]
        },
        {
          "output_type": "stream",
          "name": "stderr",
          "text": [
            "/usr/local/lib/python3.7/dist-packages/sklearn/metrics/_classification.py:1308: UndefinedMetricWarning: Precision and F-score are ill-defined and being set to 0.0 in labels with no predicted samples. Use `zero_division` parameter to control this behavior.\n",
            "  _warn_prf(average, modifier, msg_start, len(result))\n",
            "/usr/local/lib/python3.7/dist-packages/sklearn/metrics/_classification.py:1308: UndefinedMetricWarning: Precision and F-score are ill-defined and being set to 0.0 in labels with no predicted samples. Use `zero_division` parameter to control this behavior.\n",
            "  _warn_prf(average, modifier, msg_start, len(result))\n"
          ]
        }
      ],
      "source": [
        " from sklearn.linear_model import SGDClassifier\n",
        " sgd = SGDClassifier(max_iter=1000, random_state=20,tol=1e-3)\n",
        "sgd.fit(x,y)\n",
        "\n",
        "y_pred = sgd.predict(x_test)\n",
        "\n",
        "acc = accuracy_score(y_test, y_pred)\n",
        "\n",
        "print(\"Accuracy score: {}\".format(acc))\n",
        "print(confusion_matrix(y_test, y_pred))\n",
        "print(classification_report(y_test, y_pred, target_names={'Sleep stage W',\n",
        "                    'Sleep stage 1',\n",
        "                    'Sleep stage 2',\n",
        "                    'Sleep stage 3/4',\n",
        "                    'Sleep stage R'}))\n",
        "print('--------------------------------------------------------')"
      ]
    },
    {
      "cell_type": "code",
      "execution_count": null,
      "metadata": {
        "id": "gTtCKrPgZdDa",
        "colab": {
          "base_uri": "https://localhost:8080/",
          "height": 266
        },
        "outputId": "cc259bb2-cca5-41a2-a1b4-e64a1525636f"
      },
      "outputs": [
        {
          "output_type": "display_data",
          "data": {
            "image/png": "[encoded data removed]",
            "text/plain": [
              "<Figure size 432x288 with 1 Axes>"
            ]
          },
          "metadata": {
            "needs_background": "light"
          }
        }
      ],
      "source": [
        "from sklearn.inspection import permutation_importance\n",
        "results = permutation_importance(sgd, x, y, scoring='accuracy')\n",
        "importance = results.importances_mean\n",
        "plt.bar([x for x in range(len(importance))], importance)\n",
        "plt.show()"
      ]
    },
    {
      "cell_type": "code",
      "execution_count": null,
      "metadata": {
        "id": "Dh7yYqGUaUXU",
        "colab": {
          "base_uri": "https://localhost:8080/"
        },
        "outputId": "bd7e6c82-fa53-4be3-b079-2698329eff44"
      },
      "outputs": [
        {
          "output_type": "stream",
          "name": "stderr",
          "text": [
            "/usr/local/lib/python3.7/dist-packages/sklearn/utils/validation.py:985: DataConversionWarning: A column-vector y was passed when a 1d array was expected. Please change the shape of y to (n_samples, ), for example using ravel().\n",
            "  y = column_or_1d(y, warn=True)\n"
          ]
        },
        {
          "output_type": "stream",
          "name": "stdout",
          "text": [
            "Accuracy score: 0.6448392306562913\n",
            "[[ 846  137  114   14   86]\n",
            " [ 109   54  106    6   42]\n",
            " [  62  161 2342  228  191]\n",
            " [   6   10  339  587    8]\n",
            " [ 214  202  367   17  563]]\n",
            "                 precision    recall  f1-score   support\n",
            "\n",
            "  Sleep stage R       0.68      0.71      0.70      1197\n",
            "  Sleep stage W       0.10      0.17      0.12       317\n",
            "Sleep stage 3/4       0.72      0.78      0.75      2984\n",
            "  Sleep stage 1       0.69      0.62      0.65       950\n",
            "  Sleep stage 2       0.63      0.41      0.50      1363\n",
            "\n",
            "       accuracy                           0.64      6811\n",
            "      macro avg       0.56      0.54      0.54      6811\n",
            "   weighted avg       0.66      0.64      0.65      6811\n",
            "\n",
            "--------------------------------------------------------\n"
          ]
        }
      ],
      "source": [
        "\n",
        "from sklearn.ensemble import AdaBoostClassifier\n",
        "#Import Tree model as a base classifier\n",
        "from sklearn import tree\n",
        "####Create an AdaBoost Ensemble Classifier\n",
        "\n",
        "clf=AdaBoostClassifier(tree.DecisionTreeClassifier(),n_estimators=100,algorithm='SAMME', random_state=None,learning_rate=0.8)\n",
        "clf.fit(x,y)\n",
        "\n",
        "y_pred = clf.predict(x_test)\n",
        "\n",
        "acc = accuracy_score(y_test, y_pred)\n",
        "\n",
        "print(\"Accuracy score: {}\".format(acc))\n",
        "print(confusion_matrix(y_test, y_pred))\n",
        "print(classification_report(y_test, y_pred, target_names={'Sleep stage W',\n",
        "                    'Sleep stage 1',\n",
        "                    'Sleep stage 2',\n",
        "                    'Sleep stage 3/4',\n",
        "                    'Sleep stage R'}))\n",
        "print('--------------------------------------------------------')"
      ]
    },
    {
      "cell_type": "code",
      "execution_count": null,
      "metadata": {
        "id": "Kw7dFCGIaocV",
        "colab": {
          "base_uri": "https://localhost:8080/",
          "height": 268
        },
        "outputId": "9d5c0ff5-8e3e-4d04-8d3c-8998262c7258"
      },
      "outputs": [
        {
          "output_type": "display_data",
          "data": {
            "image/png": "[encoded data removed]",
            "text/plain": [
              "<Figure size 432x288 with 1 Axes>"
            ]
          },
          "metadata": {
            "needs_background": "light"
          }
        }
      ],
      "source": [
        "from sklearn.inspection import permutation_importance\n",
        "results = permutation_importance(clf, x, y, scoring='accuracy')\n",
        "importance = results.importances_mean\n",
        "plt.bar([x for x in range(len(importance))], importance)\n",
        "plt.show()"
      ]
    },
    {
      "cell_type": "code",
      "execution_count": null,
      "metadata": {
        "id": "S2GcVmr2bQox",
        "colab": {
          "base_uri": "https://localhost:8080/"
        },
        "outputId": "aee2ddcd-f85a-40b4-e36d-f3ded7715044"
      },
      "outputs": [
        {
          "output_type": "stream",
          "name": "stderr",
          "text": [
            "/usr/local/lib/python3.7/dist-packages/sklearn/ensemble/_gb.py:494: DataConversionWarning: A column-vector y was passed when a 1d array was expected. Please change the shape of y to (n_samples, ), for example using ravel().\n",
            "  y = column_or_1d(y, warn=True)\n"
          ]
        },
        {
          "output_type": "stream",
          "name": "stdout",
          "text": [
            "Accuracy score: 0.7301424166789018\n",
            "[[ 943   46  120    3   85]\n",
            " [ 111   66  106    2   32]\n",
            " [  48   53 2679  101  103]\n",
            " [   7    0  341  599    3]\n",
            " [ 197   61  418    1  686]]\n",
            "                 precision    recall  f1-score   support\n",
            "\n",
            "  Sleep stage R       0.72      0.79      0.75      1197\n",
            "  Sleep stage W       0.29      0.21      0.24       317\n",
            "Sleep stage 3/4       0.73      0.90      0.81      2984\n",
            "  Sleep stage 1       0.85      0.63      0.72       950\n",
            "  Sleep stage 2       0.75      0.50      0.60      1363\n",
            "\n",
            "       accuracy                           0.73      6811\n",
            "      macro avg       0.67      0.61      0.63      6811\n",
            "   weighted avg       0.73      0.73      0.72      6811\n",
            "\n",
            "--------------------------------------------------------\n"
          ]
        }
      ],
      "source": [
        " #Import Gradient Boosting ensemble model\n",
        "from sklearn.ensemble import GradientBoostingClassifier\n",
        "\n",
        "#Create the Model\n",
        "clf = GradientBoostingClassifier(n_estimators=100, learning_rate=1.0,max_depth=1, random_state=4)\n",
        "clf.fit(x,y)\n",
        "\n",
        "y_pred = clf.predict(x_test)\n",
        "\n",
        "acc = accuracy_score(y_test, y_pred)\n",
        "\n",
        "print(\"Accuracy score: {}\".format(acc))\n",
        "print(confusion_matrix(y_test, y_pred))\n",
        "print(classification_report(y_test, y_pred, target_names={'Sleep stage W',\n",
        "                    'Sleep stage 1',\n",
        "                    'Sleep stage 2',\n",
        "                    'Sleep stage 3/4',\n",
        "                    'Sleep stage R'}))\n",
        "print('--------------------------------------------------------')\n"
      ]
    },
    {
      "cell_type": "code",
      "execution_count": null,
      "metadata": {
        "id": "EfWCrmpTbQ58",
        "colab": {
          "base_uri": "https://localhost:8080/",
          "height": 265
        },
        "outputId": "b49d6d9f-bba5-4034-eb4d-f06cb9277f22"
      },
      "outputs": [
        {
          "output_type": "display_data",
          "data": {
            "image/png": "[encoded data removed]",
            "text/plain": [
              "<Figure size 432x288 with 1 Axes>"
            ]
          },
          "metadata": {
            "needs_background": "light"
          }
        }
      ],
      "source": [
        "from sklearn.inspection import permutation_importance\n",
        "results = permutation_importance(clf, x, y, scoring='accuracy')\n",
        "importance = results.importances_mean\n",
        "plt.bar([x for x in range(len(importance))], importance)\n",
        "plt.show()"
      ]
    },
    {
      "cell_type": "code",
      "execution_count": null,
      "metadata": {
        "id": "aPCpKayYbq-9",
        "colab": {
          "base_uri": "https://localhost:8080/"
        },
        "outputId": "81d541b9-9735-4468-d640-ac462f52f8ec"
      },
      "outputs": [
        {
          "output_type": "stream",
          "name": "stdout",
          "text": [
            "Accuracy score: 0.17574511819116137\n",
            "[[1197    0    0    0    0]\n",
            " [ 317    0    0    0    0]\n",
            " [2984    0    0    0    0]\n",
            " [ 950    0    0    0    0]\n",
            " [1363    0    0    0    0]]\n",
            "                 precision    recall  f1-score   support\n",
            "\n",
            "  Sleep stage R       0.18      1.00      0.30      1197\n",
            "  Sleep stage W       0.00      0.00      0.00       317\n",
            "Sleep stage 3/4       0.00      0.00      0.00      2984\n",
            "  Sleep stage 1       0.00      0.00      0.00       950\n",
            "  Sleep stage 2       0.00      0.00      0.00      1363\n",
            "\n",
            "       accuracy                           0.18      6811\n",
            "      macro avg       0.04      0.20      0.06      6811\n",
            "   weighted avg       0.03      0.18      0.05      6811\n",
            "\n",
            "--------------------------------------------------------\n"
          ]
        },
        {
          "output_type": "stream",
          "name": "stderr",
          "text": [
            "/usr/local/lib/python3.7/dist-packages/sklearn/utils/validation.py:985: DataConversionWarning: A column-vector y was passed when a 1d array was expected. Please change the shape of y to (n_samples, ), for example using ravel().\n",
            "  y = column_or_1d(y, warn=True)\n",
            "/usr/local/lib/python3.7/dist-packages/sklearn/metrics/_classification.py:1308: UndefinedMetricWarning: Precision and F-score are ill-defined and being set to 0.0 in labels with no predicted samples. Use `zero_division` parameter to control this behavior.\n",
            "  _warn_prf(average, modifier, msg_start, len(result))\n",
            "/usr/local/lib/python3.7/dist-packages/sklearn/metrics/_classification.py:1308: UndefinedMetricWarning: Precision and F-score are ill-defined and being set to 0.0 in labels with no predicted samples. Use `zero_division` parameter to control this behavior.\n",
            "  _warn_prf(average, modifier, msg_start, len(result))\n",
            "/usr/local/lib/python3.7/dist-packages/sklearn/metrics/_classification.py:1308: UndefinedMetricWarning: Precision and F-score are ill-defined and being set to 0.0 in labels with no predicted samples. Use `zero_division` parameter to control this behavior.\n",
            "  _warn_prf(average, modifier, msg_start, len(result))\n"
          ]
        }
      ],
      "source": [
        "#Import LDA model\n",
        "from sklearn.discriminant_analysis import LinearDiscriminantAnalysis \n",
        "#Create a LDA Classifier\n",
        "clf = LinearDiscriminantAnalysis(solver='lsqr', shrinkage=None)\n",
        "clf.fit(x,y)\n",
        "\n",
        "y_pred = clf.predict(x_test)\n",
        "\n",
        "acc = accuracy_score(y_test, y_pred)\n",
        "\n",
        "print(\"Accuracy score: {}\".format(acc))\n",
        "print(confusion_matrix(y_test, y_pred))\n",
        "print(classification_report(y_test, y_pred, target_names={'Sleep stage W',\n",
        "                    'Sleep stage 1',\n",
        "                    'Sleep stage 2',\n",
        "                    'Sleep stage 3/4',\n",
        "                    'Sleep stage R'}))\n",
        "print('--------------------------------------------------------')"
      ]
    },
    {
      "cell_type": "code",
      "execution_count": null,
      "metadata": {
        "id": "naMdIcQIbrJ2",
        "colab": {
          "base_uri": "https://localhost:8080/",
          "height": 265
        },
        "outputId": "936baee5-5352-49d2-9809-3b39b5388549"
      },
      "outputs": [
        {
          "output_type": "display_data",
          "data": {
            "image/png": "[encoded data removed]",
            "text/plain": [
              "<Figure size 432x288 with 1 Axes>"
            ]
          },
          "metadata": {
            "needs_background": "light"
          }
        }
      ],
      "source": [
        "from sklearn.inspection import permutation_importance\n",
        "results = permutation_importance(clf, x, y, scoring='accuracy')\n",
        "importance = results.importances_mean\n",
        "plt.bar([x for x in range(len(importance))], importance)\n",
        "plt.show()"
      ]
    },
    {
      "cell_type": "code",
      "execution_count": null,
      "metadata": {
        "id": "KieK8ycTb372",
        "colab": {
          "base_uri": "https://localhost:8080/"
        },
        "outputId": "5a9b40c4-9f76-479f-afa0-fd7a3bb023c8"
      },
      "outputs": [
        {
          "output_type": "stream",
          "name": "stdout",
          "text": [
            "Accuracy score: 0.6300102774922919\n",
            "[[ 725  187  129   34  122]\n",
            " [  97  110   48    2   60]\n",
            " [ 140  263 2166  250  165]\n",
            " [  41   10  154  731   14]\n",
            " [ 317  162  292   33  559]]\n",
            "                 precision    recall  f1-score   support\n",
            "\n",
            "  Sleep stage R       0.55      0.61      0.58      1197\n",
            "  Sleep stage W       0.15      0.35      0.21       317\n",
            "Sleep stage 3/4       0.78      0.73      0.75      2984\n",
            "  Sleep stage 1       0.70      0.77      0.73       950\n",
            "  Sleep stage 2       0.61      0.41      0.49      1363\n",
            "\n",
            "       accuracy                           0.63      6811\n",
            "      macro avg       0.56      0.57      0.55      6811\n",
            "   weighted avg       0.66      0.63      0.64      6811\n",
            "\n",
            "--------------------------------------------------------\n"
          ]
        },
        {
          "output_type": "stream",
          "name": "stderr",
          "text": [
            "/usr/local/lib/python3.7/dist-packages/sklearn/utils/validation.py:985: DataConversionWarning: A column-vector y was passed when a 1d array was expected. Please change the shape of y to (n_samples, ), for example using ravel().\n",
            "  y = column_or_1d(y, warn=True)\n"
          ]
        }
      ],
      "source": [
        "#Import Gaussian Naive Bayes model\n",
        "from sklearn.naive_bayes import GaussianNB\n",
        "#Create a Gaussian Classifier\n",
        "clf = GaussianNB()\n",
        "clf.fit(x,y)\n",
        "\n",
        "y_pred = clf.predict(x_test)\n",
        "\n",
        "acc = accuracy_score(y_test, y_pred)\n",
        "\n",
        "print(\"Accuracy score: {}\".format(acc))\n",
        "print(confusion_matrix(y_test, y_pred))\n",
        "print(classification_report(y_test, y_pred, target_names={'Sleep stage W',\n",
        "                    'Sleep stage 1',\n",
        "                    'Sleep stage 2',\n",
        "                    'Sleep stage 3/4',\n",
        "                    'Sleep stage R'}))\n",
        "print('--------------------------------------------------------')"
      ]
    },
    {
      "cell_type": "code",
      "execution_count": null,
      "metadata": {
        "id": "9-PXI6leb4Ji",
        "colab": {
          "base_uri": "https://localhost:8080/",
          "height": 266
        },
        "outputId": "312a3c3e-57f6-4948-cdd0-58c1696ceea2"
      },
      "outputs": [
        {
          "output_type": "display_data",
          "data": {
            "image/png": "[encoded data removed]",
            "text/plain": [
              "<Figure size 432x288 with 1 Axes>"
            ]
          },
          "metadata": {
            "needs_background": "light"
          }
        }
      ],
      "source": [
        "from sklearn.inspection import permutation_importance\n",
        "results = permutation_importance(clf, x, y, scoring='accuracy')\n",
        "importance = results.importances_mean\n",
        "plt.bar([x for x in range(len(importance))], importance)\n",
        "plt.show()"
      ]
    },
    {
      "cell_type": "code",
      "execution_count": null,
      "metadata": {
        "id": "1IjYiQl4cDC4",
        "colab": {
          "base_uri": "https://localhost:8080/"
        },
        "outputId": "44b19126-ec7b-4c97-dee3-ce7632027c61"
      },
      "outputs": [
        {
          "output_type": "stream",
          "name": "stdout",
          "text": [
            "Accuracy score: 0.6325062399060344\n",
            "[[ 676  277   39   17  188]\n",
            " [  89  118   29    1   80]\n",
            " [ 115  254 2107  270  238]\n",
            " [  29   20  204  667   30]\n",
            " [ 248  161  199   15  740]]\n",
            "                 precision    recall  f1-score   support\n",
            "\n",
            "  Sleep stage R       0.58      0.56      0.57      1197\n",
            "  Sleep stage W       0.14      0.37      0.21       317\n",
            "Sleep stage 3/4       0.82      0.71      0.76      2984\n",
            "  Sleep stage 1       0.69      0.70      0.69       950\n",
            "  Sleep stage 2       0.58      0.54      0.56      1363\n",
            "\n",
            "       accuracy                           0.63      6811\n",
            "      macro avg       0.56      0.58      0.56      6811\n",
            "   weighted avg       0.68      0.63      0.65      6811\n",
            "\n",
            "--------------------------------------------------------\n"
          ]
        },
        {
          "output_type": "stream",
          "name": "stderr",
          "text": [
            "/usr/local/lib/python3.7/dist-packages/sklearn/utils/validation.py:985: DataConversionWarning: A column-vector y was passed when a 1d array was expected. Please change the shape of y to (n_samples, ), for example using ravel().\n",
            "  y = column_or_1d(y, warn=True)\n",
            "/usr/local/lib/python3.7/dist-packages/sklearn/discriminant_analysis.py:878: UserWarning: Variables are collinear\n",
            "  warnings.warn(\"Variables are collinear\")\n"
          ]
        }
      ],
      "source": [
        "from sklearn.discriminant_analysis import QuadraticDiscriminantAnalysis\n",
        "clf = QuadraticDiscriminantAnalysis(store_covariance=True) \n",
        "clf.fit(x,y)\n",
        "\n",
        "y_pred = clf.predict(x_test)\n",
        "\n",
        "acc = accuracy_score(y_test, y_pred)\n",
        "\n",
        "print(\"Accuracy score: {}\".format(acc))\n",
        "print(confusion_matrix(y_test, y_pred))\n",
        "print(classification_report(y_test, y_pred, target_names={'Sleep stage W',\n",
        "                    'Sleep stage 1',\n",
        "                    'Sleep stage 2',\n",
        "                    'Sleep stage 3/4',\n",
        "                    'Sleep stage R'}))\n",
        "print('--------------------------------------------------------')"
      ]
    },
    {
      "cell_type": "code",
      "execution_count": null,
      "metadata": {
        "id": "f_UBOaCjcDe5",
        "colab": {
          "base_uri": "https://localhost:8080/",
          "height": 266
        },
        "outputId": "7bb3a9fa-f807-428c-8e8d-1258095826ff"
      },
      "outputs": [
        {
          "output_type": "display_data",
          "data": {
            "image/png": "[encoded data removed]",
            "text/plain": [
              "<Figure size 432x288 with 1 Axes>"
            ]
          },
          "metadata": {
            "needs_background": "light"
          }
        }
      ],
      "source": [
        "from sklearn.inspection import permutation_importance\n",
        "results = permutation_importance(clf, x, y, scoring='accuracy')\n",
        "importance = results.importances_mean\n",
        "plt.bar([x for x in range(len(importance))], importance)\n",
        "plt.show()"
      ]
    },
    {
      "cell_type": "code",
      "execution_count": null,
      "metadata": {
        "id": "mAUsKaX3cQTb",
        "colab": {
          "base_uri": "https://localhost:8080/"
        },
        "outputId": "6f53011b-462d-4d5f-f2a0-55fae0d753d2"
      },
      "outputs": [
        {
          "output_type": "stream",
          "name": "stdout",
          "text": [
            "Requirement already satisfied: mne in /usr/local/lib/python3.7/dist-packages (0.24.1)\n",
            "Requirement already satisfied: scipy>=1.1.0 in /usr/local/lib/python3.7/dist-packages (from mne) (1.4.1)\n",
            "Requirement already satisfied: numpy>=1.15.4 in /usr/local/lib/python3.7/dist-packages (from mne) (1.19.5)\n"
          ]
        }
      ],
      "source": [
        "!pip install mne\n",
        "import numpy as np\n",
        "import matplotlib.pyplot as plt\n",
        "\n",
        "import mne\n",
        "from mne.datasets.sleep_physionet.age import fetch_data\n",
        "from mne.time_frequency import psd_welch\n",
        "\n",
        "from sklearn.ensemble import RandomForestClassifier\n",
        "from sklearn.metrics import accuracy_score\n",
        "from sklearn.metrics import confusion_matrix\n",
        "from sklearn.metrics import classification_report\n",
        "from sklearn.pipeline import make_pipeline"
      ]
    },
    {
      "cell_type": "code",
      "execution_count": null,
      "metadata": {
        "id": "ulzNuBuBeWw9"
      },
      "outputs": [],
      "source": [
        "import numpy as np\n",
        "import matplotlib.pyplot as plt\n",
        "import mne\n",
        "from mne.datasets.sleep_physionet.age import fetch_data"
      ]
    },
    {
      "cell_type": "code",
      "execution_count": null,
      "metadata": {
        "id": "9KrqPHcregAm",
        "colab": {
          "base_uri": "https://localhost:8080/"
        },
        "outputId": "18724a34-2003-433a-dc23-4827900bb8fb"
      },
      "outputs": [
        {
          "output_type": "stream",
          "name": "stdout",
          "text": [
            "Using default location ~/mne_data for PHYSIONET_SLEEP...\n"
          ]
        }
      ],
      "source": [
        "[x,y] = fetch_data(subjects=[0,1], recording=[1])"
      ]
    },
    {
      "cell_type": "code",
      "execution_count": null,
      "metadata": {
        "id": "z7Xwjoqveifv",
        "colab": {
          "base_uri": "https://localhost:8080/"
        },
        "outputId": "801f9358-bb57-46f8-de12-8c34c16bf70e"
      },
      "outputs": [
        {
          "output_type": "stream",
          "name": "stdout",
          "text": [
            "Using default location ~/mne_data for PHYSIONET_SLEEP...\n",
            "Extracting EDF parameters from /root/mne_data/physionet-sleep-data/SC4001E0-PSG.edf...\n",
            "EDF file detected\n",
            "Setting channel info structure...\n",
            "Creating raw.info structure...\n",
            "Used Annotations descriptions: ['Sleep stage 1', 'Sleep stage 2', 'Sleep stage 3', 'Sleep stage 4', 'Sleep stage R', 'Sleep stage W']\n",
            "Not setting metadata\n",
            "Not setting metadata\n",
            "841 matching events found\n",
            "No baseline correction applied\n",
            "0 projection items activated\n",
            "Loading data for 841 events and 3000 original time points ...\n",
            "0 bad epochs dropped\n"
          ]
        },
        {
          "output_type": "execute_result",
          "data": {
            "text/plain": [
              "(841, 2, 3000)"
            ]
          },
          "metadata": {},
          "execution_count": 35
        }
      ],
      "source": [
        "def get_data(count):\n",
        "\n",
        "    [alice_files] = fetch_data(subjects=[count], recording=[1])\n",
        "\n",
        "    raw_train = mne.io.read_raw_edf(alice_files[0], stim_channel='marker',\n",
        "                                    misc=['rectal'])\n",
        "    annot_train = mne.read_annotations(alice_files[1])\n",
        "\n",
        "    raw_train.set_annotations(annot_train, emit_warning=False)\n",
        "\n",
        "    annotation_desc_2_event_id = {'Sleep stage W': 1,\n",
        "                                  'Sleep stage 1': 2,\n",
        "                                  'Sleep stage 2': 3,\n",
        "                                  'Sleep stage 3': 4,\n",
        "                                  'Sleep stage 4': 4,\n",
        "                                  'Sleep stage R': 5}\n",
        "\n",
        "    annot_train.crop(annot_train[1]['onset'] - 30 * 60,\n",
        "                 annot_train[-2]['onset'] + 30 * 60)\n",
        "    raw_train.set_annotations(annot_train, emit_warning=False)\n",
        "\n",
        "    events_train, _ = mne.events_from_annotations(\n",
        "        raw_train, event_id=annotation_desc_2_event_id, chunk_duration=30.)\n",
        "\n",
        "# create a new event_id that unifies stages 3 and 4\n",
        "    event_id = {'Sleep stage W': 1,\n",
        "                'Sleep stage 1': 2,\n",
        "                'Sleep stage 2': 3,\n",
        "                'Sleep stage 3/4': 4,\n",
        "                'Sleep stage R': 5}\n",
        "    tmax = 30. - 1. / raw_train.info['sfreq']  # tmax in included\n",
        "\n",
        "    epochs_train = mne.Epochs(raw=raw_train, events=events_train,\n",
        "                              event_id=event_id, tmin=0., tmax=tmax, baseline=None)\n",
        "\n",
        "    x = epochs_train.get_data()[:,:2,:]\n",
        "    y = epochs_train.events[:,2]\n",
        "    return x,y\n",
        "x,y=get_data(0)\n",
        "x.shape"
      ]
    },
    {
      "cell_type": "code",
      "execution_count": null,
      "metadata": {
        "id": "COTxiOoRemLa",
        "colab": {
          "base_uri": "https://localhost:8080/"
        },
        "outputId": "acf35bf1-802b-490d-eaae-c4dbbcbe3014"
      },
      "outputs": [
        {
          "output_type": "stream",
          "name": "stdout",
          "text": [
            "Using default location ~/mne_data for PHYSIONET_SLEEP...\n",
            "Extracting EDF parameters from /root/mne_data/physionet-sleep-data/SC4001E0-PSG.edf...\n",
            "EDF file detected\n",
            "Setting channel info structure...\n",
            "Creating raw.info structure...\n",
            "Used Annotations descriptions: ['Sleep stage 1', 'Sleep stage 2', 'Sleep stage 3', 'Sleep stage 4', 'Sleep stage R', 'Sleep stage W']\n",
            "Not setting metadata\n",
            "Not setting metadata\n",
            "841 matching events found\n",
            "No baseline correction applied\n",
            "0 projection items activated\n",
            "Loading data for 841 events and 3000 original time points ...\n",
            "0 bad epochs dropped\n",
            "Using default location ~/mne_data for PHYSIONET_SLEEP...\n",
            "Extracting EDF parameters from /root/mne_data/physionet-sleep-data/SC4011E0-PSG.edf...\n",
            "EDF file detected\n",
            "Setting channel info structure...\n",
            "Creating raw.info structure...\n",
            "Used Annotations descriptions: ['Sleep stage 1', 'Sleep stage 2', 'Sleep stage 3', 'Sleep stage 4', 'Sleep stage R', 'Sleep stage W']\n",
            "Not setting metadata\n",
            "Not setting metadata\n",
            "1103 matching events found\n",
            "No baseline correction applied\n",
            "0 projection items activated\n",
            "Loading data for 1103 events and 3000 original time points ...\n",
            "0 bad epochs dropped\n",
            "Using default location ~/mne_data for PHYSIONET_SLEEP...\n",
            "Extracting EDF parameters from /root/mne_data/physionet-sleep-data/SC4021E0-PSG.edf...\n",
            "EDF file detected\n",
            "Setting channel info structure...\n",
            "Creating raw.info structure...\n",
            "Used Annotations descriptions: ['Sleep stage 1', 'Sleep stage 2', 'Sleep stage 3', 'Sleep stage 4', 'Sleep stage R', 'Sleep stage W']\n",
            "Not setting metadata\n",
            "Not setting metadata\n",
            "1025 matching events found\n",
            "No baseline correction applied\n",
            "0 projection items activated\n",
            "Loading data for 1025 events and 3000 original time points ...\n",
            "0 bad epochs dropped\n",
            "Using default location ~/mne_data for PHYSIONET_SLEEP...\n",
            "Extracting EDF parameters from /root/mne_data/physionet-sleep-data/SC4031E0-PSG.edf...\n",
            "EDF file detected\n",
            "Setting channel info structure...\n",
            "Creating raw.info structure...\n",
            "Used Annotations descriptions: ['Sleep stage 1', 'Sleep stage 2', 'Sleep stage 3', 'Sleep stage 4', 'Sleep stage R', 'Sleep stage W']\n",
            "Not setting metadata\n",
            "Not setting metadata\n",
            "952 matching events found\n",
            "No baseline correction applied\n",
            "0 projection items activated\n",
            "Loading data for 952 events and 3000 original time points ...\n",
            "0 bad epochs dropped\n",
            "Using default location ~/mne_data for PHYSIONET_SLEEP...\n",
            "Extracting EDF parameters from /root/mne_data/physionet-sleep-data/SC4041E0-PSG.edf...\n",
            "EDF file detected\n",
            "Setting channel info structure...\n",
            "Creating raw.info structure...\n",
            "Used Annotations descriptions: ['Sleep stage 1', 'Sleep stage 2', 'Sleep stage 3', 'Sleep stage R', 'Sleep stage W']\n",
            "Not setting metadata\n",
            "Not setting metadata\n",
            "1235 matching events found\n",
            "No baseline correction applied\n",
            "0 projection items activated\n",
            "Loading data for 1235 events and 3000 original time points ...\n",
            "0 bad epochs dropped\n",
            "Using default location ~/mne_data for PHYSIONET_SLEEP...\n",
            "Extracting EDF parameters from /root/mne_data/physionet-sleep-data/SC4051E0-PSG.edf...\n",
            "EDF file detected\n",
            "Setting channel info structure...\n",
            "Creating raw.info structure...\n",
            "Used Annotations descriptions: ['Sleep stage 1', 'Sleep stage 2', 'Sleep stage 3', 'Sleep stage 4', 'Sleep stage R', 'Sleep stage W']\n",
            "Not setting metadata\n",
            "Not setting metadata\n",
            "672 matching events found\n",
            "No baseline correction applied\n",
            "0 projection items activated\n",
            "Loading data for 672 events and 3000 original time points ...\n",
            "0 bad epochs dropped\n",
            "Using default location ~/mne_data for PHYSIONET_SLEEP...\n",
            "Extracting EDF parameters from /root/mne_data/physionet-sleep-data/SC4061E0-PSG.edf...\n",
            "EDF file detected\n",
            "Setting channel info structure...\n",
            "Creating raw.info structure...\n",
            "Used Annotations descriptions: ['Sleep stage 1', 'Sleep stage 2', 'Sleep stage 3', 'Sleep stage 4', 'Sleep stage R', 'Sleep stage W']\n",
            "Not setting metadata\n",
            "Not setting metadata\n",
            "843 matching events found\n",
            "No baseline correction applied\n",
            "0 projection items activated\n",
            "Loading data for 843 events and 3000 original time points ...\n",
            "0 bad epochs dropped\n",
            "Using default location ~/mne_data for PHYSIONET_SLEEP...\n",
            "Extracting EDF parameters from /root/mne_data/physionet-sleep-data/SC4071E0-PSG.edf...\n",
            "EDF file detected\n",
            "Setting channel info structure...\n",
            "Creating raw.info structure...\n",
            "Used Annotations descriptions: ['Sleep stage 1', 'Sleep stage 2', 'Sleep stage 3', 'Sleep stage 4', 'Sleep stage R', 'Sleep stage W']\n",
            "Not setting metadata\n",
            "Not setting metadata\n",
            "976 matching events found\n",
            "No baseline correction applied\n",
            "0 projection items activated\n",
            "Loading data for 976 events and 3000 original time points ...\n",
            "0 bad epochs dropped\n",
            "Using default location ~/mne_data for PHYSIONET_SLEEP...\n",
            "Extracting EDF parameters from /root/mne_data/physionet-sleep-data/SC4081E0-PSG.edf...\n",
            "EDF file detected\n",
            "Setting channel info structure...\n",
            "Creating raw.info structure...\n",
            "Used Annotations descriptions: ['Sleep stage 1', 'Sleep stage 2', 'Sleep stage 3', 'Sleep stage 4', 'Sleep stage R', 'Sleep stage W']\n",
            "Not setting metadata\n",
            "Not setting metadata\n",
            "1134 matching events found\n",
            "No baseline correction applied\n",
            "0 projection items activated\n",
            "Loading data for 1134 events and 3000 original time points ...\n",
            "0 bad epochs dropped\n",
            "Using default location ~/mne_data for PHYSIONET_SLEEP...\n",
            "Extracting EDF parameters from /root/mne_data/physionet-sleep-data/SC4091E0-PSG.edf...\n",
            "EDF file detected\n",
            "Setting channel info structure...\n",
            "Creating raw.info structure...\n",
            "Used Annotations descriptions: ['Sleep stage 1', 'Sleep stage 2', 'Sleep stage 3', 'Sleep stage 4', 'Sleep stage R', 'Sleep stage W']\n",
            "Not setting metadata\n",
            "Not setting metadata\n",
            "1132 matching events found\n",
            "No baseline correction applied\n",
            "0 projection items activated\n",
            "Loading data for 1132 events and 3000 original time points ...\n",
            "0 bad epochs dropped\n",
            "Using default location ~/mne_data for PHYSIONET_SLEEP...\n",
            "Extracting EDF parameters from /root/mne_data/physionet-sleep-data/SC4101E0-PSG.edf...\n",
            "EDF file detected\n",
            "Setting channel info structure...\n",
            "Creating raw.info structure...\n",
            "Used Annotations descriptions: ['Sleep stage 1', 'Sleep stage 2', 'Sleep stage 3', 'Sleep stage R', 'Sleep stage W']\n",
            "Not setting metadata\n",
            "Not setting metadata\n",
            "1104 matching events found\n",
            "No baseline correction applied\n",
            "0 projection items activated\n",
            "Loading data for 1104 events and 3000 original time points ...\n",
            "0 bad epochs dropped\n",
            "Using default location ~/mne_data for PHYSIONET_SLEEP...\n",
            "Extracting EDF parameters from /root/mne_data/physionet-sleep-data/SC4111E0-PSG.edf...\n",
            "EDF file detected\n",
            "Setting channel info structure...\n",
            "Creating raw.info structure...\n",
            "Used Annotations descriptions: ['Sleep stage 1', 'Sleep stage 2', 'Sleep stage 3', 'Sleep stage 4', 'Sleep stage R', 'Sleep stage W']\n",
            "Not setting metadata\n",
            "Not setting metadata\n",
            "928 matching events found\n",
            "No baseline correction applied\n",
            "0 projection items activated\n",
            "Loading data for 928 events and 3000 original time points ...\n",
            "0 bad epochs dropped\n",
            "Using default location ~/mne_data for PHYSIONET_SLEEP...\n",
            "Extracting EDF parameters from /root/mne_data/physionet-sleep-data/SC4121E0-PSG.edf...\n",
            "EDF file detected\n",
            "Setting channel info structure...\n",
            "Creating raw.info structure...\n",
            "Used Annotations descriptions: ['Sleep stage 1', 'Sleep stage 2', 'Sleep stage 3', 'Sleep stage 4', 'Sleep stage R', 'Sleep stage W']\n",
            "Not setting metadata\n",
            "Not setting metadata\n",
            "1783 matching events found\n",
            "No baseline correction applied\n",
            "0 projection items activated\n",
            "Loading data for 1783 events and 3000 original time points ...\n",
            "0 bad epochs dropped\n",
            "Using default location ~/mne_data for PHYSIONET_SLEEP...\n",
            "Extracting EDF parameters from /root/mne_data/physionet-sleep-data/SC4131E0-PSG.edf...\n",
            "EDF file detected\n",
            "Setting channel info structure...\n",
            "Creating raw.info structure...\n",
            "Used Annotations descriptions: ['Sleep stage 1', 'Sleep stage 2', 'Sleep stage 3', 'Sleep stage 4', 'Sleep stage R', 'Sleep stage W']\n",
            "Not setting metadata\n",
            "Not setting metadata\n",
            "1028 matching events found\n",
            "No baseline correction applied\n",
            "0 projection items activated\n",
            "Loading data for 1028 events and 3000 original time points ...\n",
            "0 bad epochs dropped\n",
            "Using default location ~/mne_data for PHYSIONET_SLEEP...\n",
            "Extracting EDF parameters from /root/mne_data/physionet-sleep-data/SC4141E0-PSG.edf...\n",
            "EDF file detected\n",
            "Setting channel info structure...\n",
            "Creating raw.info structure...\n",
            "Used Annotations descriptions: ['Sleep stage 1', 'Sleep stage 2', 'Sleep stage 3', 'Sleep stage 4', 'Sleep stage R', 'Sleep stage W']\n",
            "Not setting metadata\n",
            "Not setting metadata\n",
            "1004 matching events found\n",
            "No baseline correction applied\n",
            "0 projection items activated\n",
            "Loading data for 1004 events and 3000 original time points ...\n",
            "0 bad epochs dropped\n",
            "Using default location ~/mne_data for PHYSIONET_SLEEP...\n",
            "Extracting EDF parameters from /root/mne_data/physionet-sleep-data/SC4151E0-PSG.edf...\n",
            "EDF file detected\n",
            "Setting channel info structure...\n",
            "Creating raw.info structure...\n",
            "Used Annotations descriptions: ['Sleep stage 1', 'Sleep stage 2', 'Sleep stage 3', 'Sleep stage 4', 'Sleep stage R', 'Sleep stage W']\n",
            "Not setting metadata\n",
            "Not setting metadata\n",
            "952 matching events found\n",
            "No baseline correction applied\n",
            "0 projection items activated\n",
            "Loading data for 952 events and 3000 original time points ...\n",
            "0 bad epochs dropped\n",
            "Using default location ~/mne_data for PHYSIONET_SLEEP...\n",
            "Extracting EDF parameters from /root/mne_data/physionet-sleep-data/SC4161E0-PSG.edf...\n",
            "EDF file detected\n",
            "Setting channel info structure...\n",
            "Creating raw.info structure...\n",
            "Used Annotations descriptions: ['Sleep stage 1', 'Sleep stage 2', 'Sleep stage 3', 'Sleep stage 4', 'Sleep stage R', 'Sleep stage W']\n",
            "Not setting metadata\n",
            "Not setting metadata\n",
            "1144 matching events found\n",
            "No baseline correction applied\n",
            "0 projection items activated\n",
            "Loading data for 1144 events and 3000 original time points ...\n",
            "0 bad epochs dropped\n",
            "Using default location ~/mne_data for PHYSIONET_SLEEP...\n",
            "Extracting EDF parameters from /root/mne_data/physionet-sleep-data/SC4171E0-PSG.edf...\n",
            "EDF file detected\n",
            "Setting channel info structure...\n",
            "Creating raw.info structure...\n",
            "Used Annotations descriptions: ['Sleep stage 1', 'Sleep stage 2', 'Sleep stage 3', 'Sleep stage 4', 'Sleep stage R', 'Sleep stage W']\n",
            "Not setting metadata\n",
            "Not setting metadata\n",
            "1002 matching events found\n",
            "No baseline correction applied\n",
            "0 projection items activated\n",
            "Loading data for 1002 events and 3000 original time points ...\n",
            "0 bad epochs dropped\n",
            "Using default location ~/mne_data for PHYSIONET_SLEEP...\n",
            "Extracting EDF parameters from /root/mne_data/physionet-sleep-data/SC4181E0-PSG.edf...\n",
            "EDF file detected\n",
            "Setting channel info structure...\n",
            "Creating raw.info structure...\n",
            "Used Annotations descriptions: ['Sleep stage 1', 'Sleep stage 2', 'Sleep stage 3', 'Sleep stage 4', 'Sleep stage R', 'Sleep stage W']\n",
            "Not setting metadata\n",
            "Not setting metadata\n",
            "964 matching events found\n",
            "No baseline correction applied\n",
            "0 projection items activated\n",
            "Loading data for 964 events and 3000 original time points ...\n",
            "0 bad epochs dropped\n",
            "Using default location ~/mne_data for PHYSIONET_SLEEP...\n",
            "Extracting EDF parameters from /root/mne_data/physionet-sleep-data/SC4191E0-PSG.edf...\n",
            "EDF file detected\n",
            "Setting channel info structure...\n",
            "Creating raw.info structure...\n",
            "Used Annotations descriptions: ['Sleep stage 1', 'Sleep stage 2', 'Sleep stage 3', 'Sleep stage 4', 'Sleep stage R', 'Sleep stage W']\n",
            "Not setting metadata\n",
            "Not setting metadata\n",
            "1535 matching events found\n",
            "No baseline correction applied\n",
            "0 projection items activated\n",
            "Loading data for 1535 events and 3000 original time points ...\n",
            "0 bad epochs dropped\n",
            "Using default location ~/mne_data for PHYSIONET_SLEEP...\n",
            "Extracting EDF parameters from /root/mne_data/physionet-sleep-data/SC4201E0-PSG.edf...\n",
            "EDF file detected\n",
            "Setting channel info structure...\n",
            "Creating raw.info structure...\n",
            "Used Annotations descriptions: ['Sleep stage 1', 'Sleep stage 2', 'Sleep stage 3', 'Sleep stage R', 'Sleep stage W']\n",
            "Not setting metadata\n",
            "Not setting metadata\n",
            "1022 matching events found\n",
            "No baseline correction applied\n",
            "0 projection items activated\n",
            "Loading data for 1022 events and 3000 original time points ...\n",
            "0 bad epochs dropped\n"
          ]
        }
      ],
      "source": [
        "x1,y1=get_data(0)\n",
        "x2,y2=get_data(1)\n",
        "x3,y3=get_data(2)\n",
        "x4,y4=get_data(3)\n",
        "x5,y5=get_data(4)\n",
        "x6,y6=get_data(5)\n",
        "x7,y7=get_data(6)\n",
        "x8,y8=get_data(7)\n",
        "x9,y9=get_data(8)\n",
        "x10,y10=get_data(9)\n",
        "x11,y11=get_data(10)\n",
        "x12,y12=get_data(11)\n",
        "x13,y13=get_data(12)\n",
        "x14,y14=get_data(13)\n",
        "x15,y15=get_data(14)\n",
        "x16,y16=get_data(15)\n",
        "x17,y17=get_data(16)\n",
        "x18,y18=get_data(17)\n",
        "x19,y19=get_data(18)\n",
        "x20,y20=get_data(19)\n",
        "x21,y21=get_data(20)"
      ]
    },
    {
      "cell_type": "code",
      "source": [
        "#features.shape\n",
        "for i in range(21):\n",
        "    globals()['x'+str(i+1)] = np.std(globals()['x'+str(i+1)], axis=2)"
      ],
      "metadata": {
        "id": "ns8sN_F7PVWJ"
      },
      "execution_count": null,
      "outputs": []
    },
    {
      "cell_type": "code",
      "execution_count": null,
      "metadata": {
        "id": "0JIHSfvIeql5"
      },
      "outputs": [],
      "source": [
        "from sklearn.neural_network import MLPClassifier\n",
        "\n",
        "mlp = MLPClassifier(random_state=1, max_iter=1000)\n",
        "#mlp.fit(x1,y1)\n",
        "mlp.partial_fit(globals()['x'+str(1)], globals()['y'+str(1)],[1,2,3,4,5]) \n",
        "for i in range(1,16):\n",
        "   mlp.partial_fit(globals()['x'+str(i+1)], globals()['y'+str(i+1)]) "
      ]
    },
    {
      "cell_type": "code",
      "execution_count": null,
      "metadata": {
        "id": "vvtUOWzweusc",
        "colab": {
          "base_uri": "https://localhost:8080/"
        },
        "outputId": "5b7626f3-77e9-49c8-c284-c6b696838eba"
      },
      "outputs": [
        {
          "output_type": "stream",
          "name": "stdout",
          "text": [
            "Accuracy score: 0.3916083916083916\n",
            "[[  0   0 216   0   0]\n",
            " [  0   0  55   0   0]\n",
            " [  0   0 448   0   0]\n",
            " [  0   0 165   0   0]\n",
            " [  0   0 260   0   0]]\n",
            "                 precision    recall  f1-score   support\n",
            "\n",
            "  Sleep stage R       0.00      0.00      0.00       216\n",
            "  Sleep stage W       0.00      0.00      0.00        55\n",
            "Sleep stage 3/4       0.39      1.00      0.56       448\n",
            "  Sleep stage 1       0.00      0.00      0.00       165\n",
            "  Sleep stage 2       0.00      0.00      0.00       260\n",
            "\n",
            "       accuracy                           0.39      1144\n",
            "      macro avg       0.08      0.20      0.11      1144\n",
            "   weighted avg       0.15      0.39      0.22      1144\n",
            "\n",
            "--------------------------------------------------------\n",
            "Accuracy score: 0.3273453093812375\n",
            "[[  0   0 176   0   0]\n",
            " [  0   0  21   0   0]\n",
            " [  0   0 328   0   0]\n",
            " [  0   0 215   0   0]\n",
            " [  0   0 262   0   0]]\n",
            "                 precision    recall  f1-score   support\n",
            "\n",
            "  Sleep stage R       0.00      0.00      0.00       176\n",
            "  Sleep stage W       0.00      0.00      0.00        21\n",
            "Sleep stage 3/4       0.33      1.00      0.49       328\n",
            "  Sleep stage 1       0.00      0.00      0.00       215\n",
            "  Sleep stage 2       0.00      0.00      0.00       262\n",
            "\n",
            "       accuracy                           0.33      1002\n",
            "      macro avg       0.07      0.20      0.10      1002\n",
            "   weighted avg       0.11      0.33      0.16      1002\n",
            "\n",
            "--------------------------------------------------------\n",
            "Accuracy score: 0.4024896265560166\n",
            "[[  0   0 138   0   0]\n",
            " [  0   0  29   0   0]\n",
            " [  0   0 388   0   0]\n",
            " [  0   0 291   0   0]\n",
            " [  0   0 118   0   0]]\n",
            "                 precision    recall  f1-score   support\n",
            "\n",
            "  Sleep stage R       0.00      0.00      0.00       138\n",
            "  Sleep stage W       0.00      0.00      0.00        29\n",
            "Sleep stage 3/4       0.40      1.00      0.57       388\n",
            "  Sleep stage 1       0.00      0.00      0.00       291\n",
            "  Sleep stage 2       0.00      0.00      0.00       118\n",
            "\n",
            "       accuracy                           0.40       964\n",
            "      macro avg       0.08      0.20      0.11       964\n",
            "   weighted avg       0.16      0.40      0.23       964\n",
            "\n",
            "--------------------------------------------------------\n",
            "Accuracy score: 0.542671009771987\n",
            "[[  0   0 188   0   0]\n",
            " [  0   0 118   0   0]\n",
            " [  0   0 833   0   0]\n",
            " [  0   0 110   0   0]\n",
            " [  0   0 286   0   0]]\n",
            "                 precision    recall  f1-score   support\n",
            "\n",
            "  Sleep stage R       0.00      0.00      0.00       188\n",
            "  Sleep stage W       0.00      0.00      0.00       118\n",
            "Sleep stage 3/4       0.54      1.00      0.70       833\n",
            "  Sleep stage 1       0.00      0.00      0.00       110\n",
            "  Sleep stage 2       0.00      0.00      0.00       286\n",
            "\n",
            "       accuracy                           0.54      1535\n",
            "      macro avg       0.11      0.20      0.14      1535\n",
            "   weighted avg       0.29      0.54      0.38      1535\n",
            "\n",
            "--------------------------------------------------------\n",
            "Accuracy score: 0.5273972602739726\n",
            "[[  0   0 263   0   0]\n",
            " [  0   0  39   0   0]\n",
            " [  0   0 539   0   0]\n",
            " [  0   0   4   0   0]\n",
            " [  0   0 177   0   0]]\n",
            "                 precision    recall  f1-score   support\n",
            "\n",
            "  Sleep stage R       0.00      0.00      0.00       263\n",
            "  Sleep stage W       0.00      0.00      0.00        39\n",
            "Sleep stage 3/4       0.53      1.00      0.69       539\n",
            "  Sleep stage 1       0.00      0.00      0.00         4\n",
            "  Sleep stage 2       0.00      0.00      0.00       177\n",
            "\n",
            "       accuracy                           0.53      1022\n",
            "      macro avg       0.11      0.20      0.14      1022\n",
            "   weighted avg       0.28      0.53      0.36      1022\n",
            "\n",
            "--------------------------------------------------------\n"
          ]
        },
        {
          "output_type": "stream",
          "name": "stderr",
          "text": [
            "/usr/local/lib/python3.7/dist-packages/sklearn/metrics/_classification.py:1308: UndefinedMetricWarning: Precision and F-score are ill-defined and being set to 0.0 in labels with no predicted samples. Use `zero_division` parameter to control this behavior.\n",
            "  _warn_prf(average, modifier, msg_start, len(result))\n",
            "/usr/local/lib/python3.7/dist-packages/sklearn/metrics/_classification.py:1308: UndefinedMetricWarning: Precision and F-score are ill-defined and being set to 0.0 in labels with no predicted samples. Use `zero_division` parameter to control this behavior.\n",
            "  _warn_prf(average, modifier, msg_start, len(result))\n",
            "/usr/local/lib/python3.7/dist-packages/sklearn/metrics/_classification.py:1308: UndefinedMetricWarning: Precision and F-score are ill-defined and being set to 0.0 in labels with no predicted samples. Use `zero_division` parameter to control this behavior.\n",
            "  _warn_prf(average, modifier, msg_start, len(result))\n",
            "/usr/local/lib/python3.7/dist-packages/sklearn/metrics/_classification.py:1308: UndefinedMetricWarning: Precision and F-score are ill-defined and being set to 0.0 in labels with no predicted samples. Use `zero_division` parameter to control this behavior.\n",
            "  _warn_prf(average, modifier, msg_start, len(result))\n",
            "/usr/local/lib/python3.7/dist-packages/sklearn/metrics/_classification.py:1308: UndefinedMetricWarning: Precision and F-score are ill-defined and being set to 0.0 in labels with no predicted samples. Use `zero_division` parameter to control this behavior.\n",
            "  _warn_prf(average, modifier, msg_start, len(result))\n",
            "/usr/local/lib/python3.7/dist-packages/sklearn/metrics/_classification.py:1308: UndefinedMetricWarning: Precision and F-score are ill-defined and being set to 0.0 in labels with no predicted samples. Use `zero_division` parameter to control this behavior.\n",
            "  _warn_prf(average, modifier, msg_start, len(result))\n",
            "/usr/local/lib/python3.7/dist-packages/sklearn/metrics/_classification.py:1308: UndefinedMetricWarning: Precision and F-score are ill-defined and being set to 0.0 in labels with no predicted samples. Use `zero_division` parameter to control this behavior.\n",
            "  _warn_prf(average, modifier, msg_start, len(result))\n",
            "/usr/local/lib/python3.7/dist-packages/sklearn/metrics/_classification.py:1308: UndefinedMetricWarning: Precision and F-score are ill-defined and being set to 0.0 in labels with no predicted samples. Use `zero_division` parameter to control this behavior.\n",
            "  _warn_prf(average, modifier, msg_start, len(result))\n",
            "/usr/local/lib/python3.7/dist-packages/sklearn/metrics/_classification.py:1308: UndefinedMetricWarning: Precision and F-score are ill-defined and being set to 0.0 in labels with no predicted samples. Use `zero_division` parameter to control this behavior.\n",
            "  _warn_prf(average, modifier, msg_start, len(result))\n",
            "/usr/local/lib/python3.7/dist-packages/sklearn/metrics/_classification.py:1308: UndefinedMetricWarning: Precision and F-score are ill-defined and being set to 0.0 in labels with no predicted samples. Use `zero_division` parameter to control this behavior.\n",
            "  _warn_prf(average, modifier, msg_start, len(result))\n",
            "/usr/local/lib/python3.7/dist-packages/sklearn/metrics/_classification.py:1308: UndefinedMetricWarning: Precision and F-score are ill-defined and being set to 0.0 in labels with no predicted samples. Use `zero_division` parameter to control this behavior.\n",
            "  _warn_prf(average, modifier, msg_start, len(result))\n",
            "/usr/local/lib/python3.7/dist-packages/sklearn/metrics/_classification.py:1308: UndefinedMetricWarning: Precision and F-score are ill-defined and being set to 0.0 in labels with no predicted samples. Use `zero_division` parameter to control this behavior.\n",
            "  _warn_prf(average, modifier, msg_start, len(result))\n",
            "/usr/local/lib/python3.7/dist-packages/sklearn/metrics/_classification.py:1308: UndefinedMetricWarning: Precision and F-score are ill-defined and being set to 0.0 in labels with no predicted samples. Use `zero_division` parameter to control this behavior.\n",
            "  _warn_prf(average, modifier, msg_start, len(result))\n",
            "/usr/local/lib/python3.7/dist-packages/sklearn/metrics/_classification.py:1308: UndefinedMetricWarning: Precision and F-score are ill-defined and being set to 0.0 in labels with no predicted samples. Use `zero_division` parameter to control this behavior.\n",
            "  _warn_prf(average, modifier, msg_start, len(result))\n",
            "/usr/local/lib/python3.7/dist-packages/sklearn/metrics/_classification.py:1308: UndefinedMetricWarning: Precision and F-score are ill-defined and being set to 0.0 in labels with no predicted samples. Use `zero_division` parameter to control this behavior.\n",
            "  _warn_prf(average, modifier, msg_start, len(result))\n"
          ]
        }
      ],
      "source": [
        "from sklearn.metrics import accuracy_score\n",
        "from sklearn.metrics import confusion_matrix\n",
        "from sklearn.metrics import classification_report\n",
        "for i in range(16,21):\n",
        "    y_pred = mlp.predict(globals()['x'+str(i+1)])\n",
        "\n",
        "    acc = accuracy_score(globals()['y'+str(i+1)], y_pred)\n",
        "\n",
        "    print(\"Accuracy score: {}\".format(acc))\n",
        "    print(confusion_matrix(globals()['y'+str(i+1)], y_pred))\n",
        "    print(classification_report(globals()['y'+str(i+1)], y_pred, target_names={'Sleep stage W',\n",
        "                    'Sleep stage 1',\n",
        "                    'Sleep stage 2',\n",
        "                    'Sleep stage 3/4',\n",
        "                    'Sleep stage R'}))\n",
        "    print('--------------------------------------------------------')\n",
        "\n"
      ]
    },
    {
      "cell_type": "code",
      "execution_count": null,
      "metadata": {
        "id": "rVqTR6V1exbC"
      },
      "outputs": [],
      "source": [
        "from sklearn.linear_model import PassiveAggressiveClassifier\n",
        "pac = PassiveAggressiveClassifier(max_iter=1000, random_state=20,tol=1e-3)\n",
        "#mlp.fit(x1,y1)\n",
        "pac.partial_fit(globals()['x'+str(1)], globals()['y'+str(1)],[1,2,3,4,5]) \n",
        "for i in range(1,16):\n",
        "   pac.partial_fit(globals()['x'+str(i+1)], globals()['y'+str(i+1)]) "
      ]
    },
    {
      "cell_type": "code",
      "execution_count": null,
      "metadata": {
        "id": "oKDWvYo_e3Ui",
        "colab": {
          "base_uri": "https://localhost:8080/"
        },
        "outputId": "f92a057f-d166-4770-eb3a-276e27a0bf6c"
      },
      "outputs": [
        {
          "output_type": "stream",
          "name": "stdout",
          "text": [
            "Accuracy score: 0.3916083916083916\n",
            "[[  0   0 216   0   0]\n",
            " [  0   0  55   0   0]\n",
            " [  0   0 448   0   0]\n",
            " [  0   0 165   0   0]\n",
            " [  0   0 260   0   0]]\n",
            "                 precision    recall  f1-score   support\n",
            "\n",
            "  Sleep stage R       0.00      0.00      0.00       216\n",
            "  Sleep stage W       0.00      0.00      0.00        55\n",
            "Sleep stage 3/4       0.39      1.00      0.56       448\n",
            "  Sleep stage 1       0.00      0.00      0.00       165\n",
            "  Sleep stage 2       0.00      0.00      0.00       260\n",
            "\n",
            "       accuracy                           0.39      1144\n",
            "      macro avg       0.08      0.20      0.11      1144\n",
            "   weighted avg       0.15      0.39      0.22      1144\n",
            "\n",
            "--------------------------------------------------------\n",
            "Accuracy score: 0.3273453093812375\n",
            "[[  0   0 176   0   0]\n",
            " [  0   0  21   0   0]\n",
            " [  0   0 328   0   0]\n",
            " [  0   0 215   0   0]\n",
            " [  0   0 262   0   0]]\n",
            "                 precision    recall  f1-score   support\n",
            "\n",
            "  Sleep stage R       0.00      0.00      0.00       176\n",
            "  Sleep stage W       0.00      0.00      0.00        21\n",
            "Sleep stage 3/4       0.33      1.00      0.49       328\n",
            "  Sleep stage 1       0.00      0.00      0.00       215\n",
            "  Sleep stage 2       0.00      0.00      0.00       262\n",
            "\n",
            "       accuracy                           0.33      1002\n",
            "      macro avg       0.07      0.20      0.10      1002\n",
            "   weighted avg       0.11      0.33      0.16      1002\n",
            "\n",
            "--------------------------------------------------------\n",
            "Accuracy score: 0.4024896265560166\n",
            "[[  0   0 138   0   0]\n",
            " [  0   0  29   0   0]\n",
            " [  0   0 388   0   0]\n",
            " [  0   0 291   0   0]\n",
            " [  0   0 118   0   0]]\n",
            "                 precision    recall  f1-score   support\n",
            "\n",
            "  Sleep stage R       0.00      0.00      0.00       138\n",
            "  Sleep stage W       0.00      0.00      0.00        29\n",
            "Sleep stage 3/4       0.40      1.00      0.57       388\n",
            "  Sleep stage 1       0.00      0.00      0.00       291\n",
            "  Sleep stage 2       0.00      0.00      0.00       118\n",
            "\n",
            "       accuracy                           0.40       964\n",
            "      macro avg       0.08      0.20      0.11       964\n",
            "   weighted avg       0.16      0.40      0.23       964\n",
            "\n",
            "--------------------------------------------------------\n",
            "Accuracy score: 0.542671009771987\n",
            "[[  0   0 188   0   0]\n",
            " [  0   0 118   0   0]\n",
            " [  0   0 833   0   0]\n",
            " [  0   0 110   0   0]\n",
            " [  0   0 286   0   0]]\n",
            "                 precision    recall  f1-score   support\n",
            "\n",
            "  Sleep stage R       0.00      0.00      0.00       188\n",
            "  Sleep stage W       0.00      0.00      0.00       118\n",
            "Sleep stage 3/4       0.54      1.00      0.70       833\n",
            "  Sleep stage 1       0.00      0.00      0.00       110\n",
            "  Sleep stage 2       0.00      0.00      0.00       286\n",
            "\n",
            "       accuracy                           0.54      1535\n",
            "      macro avg       0.11      0.20      0.14      1535\n",
            "   weighted avg       0.29      0.54      0.38      1535\n",
            "\n",
            "--------------------------------------------------------\n",
            "Accuracy score: 0.5273972602739726\n",
            "[[  0   0 263   0   0]\n",
            " [  0   0  39   0   0]\n",
            " [  0   0 539   0   0]\n",
            " [  0   0   4   0   0]\n",
            " [  0   0 177   0   0]]\n",
            "                 precision    recall  f1-score   support\n",
            "\n",
            "  Sleep stage R       0.00      0.00      0.00       263\n",
            "  Sleep stage W       0.00      0.00      0.00        39\n",
            "Sleep stage 3/4       0.53      1.00      0.69       539\n",
            "  Sleep stage 1       0.00      0.00      0.00         4\n",
            "  Sleep stage 2       0.00      0.00      0.00       177\n",
            "\n",
            "       accuracy                           0.53      1022\n",
            "      macro avg       0.11      0.20      0.14      1022\n",
            "   weighted avg       0.28      0.53      0.36      1022\n",
            "\n",
            "--------------------------------------------------------\n"
          ]
        },
        {
          "output_type": "stream",
          "name": "stderr",
          "text": [
            "/usr/local/lib/python3.7/dist-packages/sklearn/metrics/_classification.py:1308: UndefinedMetricWarning: Precision and F-score are ill-defined and being set to 0.0 in labels with no predicted samples. Use `zero_division` parameter to control this behavior.\n",
            "  _warn_prf(average, modifier, msg_start, len(result))\n",
            "/usr/local/lib/python3.7/dist-packages/sklearn/metrics/_classification.py:1308: UndefinedMetricWarning: Precision and F-score are ill-defined and being set to 0.0 in labels with no predicted samples. Use `zero_division` parameter to control this behavior.\n",
            "  _warn_prf(average, modifier, msg_start, len(result))\n",
            "/usr/local/lib/python3.7/dist-packages/sklearn/metrics/_classification.py:1308: UndefinedMetricWarning: Precision and F-score are ill-defined and being set to 0.0 in labels with no predicted samples. Use `zero_division` parameter to control this behavior.\n",
            "  _warn_prf(average, modifier, msg_start, len(result))\n",
            "/usr/local/lib/python3.7/dist-packages/sklearn/metrics/_classification.py:1308: UndefinedMetricWarning: Precision and F-score are ill-defined and being set to 0.0 in labels with no predicted samples. Use `zero_division` parameter to control this behavior.\n",
            "  _warn_prf(average, modifier, msg_start, len(result))\n",
            "/usr/local/lib/python3.7/dist-packages/sklearn/metrics/_classification.py:1308: UndefinedMetricWarning: Precision and F-score are ill-defined and being set to 0.0 in labels with no predicted samples. Use `zero_division` parameter to control this behavior.\n",
            "  _warn_prf(average, modifier, msg_start, len(result))\n",
            "/usr/local/lib/python3.7/dist-packages/sklearn/metrics/_classification.py:1308: UndefinedMetricWarning: Precision and F-score are ill-defined and being set to 0.0 in labels with no predicted samples. Use `zero_division` parameter to control this behavior.\n",
            "  _warn_prf(average, modifier, msg_start, len(result))\n",
            "/usr/local/lib/python3.7/dist-packages/sklearn/metrics/_classification.py:1308: UndefinedMetricWarning: Precision and F-score are ill-defined and being set to 0.0 in labels with no predicted samples. Use `zero_division` parameter to control this behavior.\n",
            "  _warn_prf(average, modifier, msg_start, len(result))\n",
            "/usr/local/lib/python3.7/dist-packages/sklearn/metrics/_classification.py:1308: UndefinedMetricWarning: Precision and F-score are ill-defined and being set to 0.0 in labels with no predicted samples. Use `zero_division` parameter to control this behavior.\n",
            "  _warn_prf(average, modifier, msg_start, len(result))\n",
            "/usr/local/lib/python3.7/dist-packages/sklearn/metrics/_classification.py:1308: UndefinedMetricWarning: Precision and F-score are ill-defined and being set to 0.0 in labels with no predicted samples. Use `zero_division` parameter to control this behavior.\n",
            "  _warn_prf(average, modifier, msg_start, len(result))\n",
            "/usr/local/lib/python3.7/dist-packages/sklearn/metrics/_classification.py:1308: UndefinedMetricWarning: Precision and F-score are ill-defined and being set to 0.0 in labels with no predicted samples. Use `zero_division` parameter to control this behavior.\n",
            "  _warn_prf(average, modifier, msg_start, len(result))\n",
            "/usr/local/lib/python3.7/dist-packages/sklearn/metrics/_classification.py:1308: UndefinedMetricWarning: Precision and F-score are ill-defined and being set to 0.0 in labels with no predicted samples. Use `zero_division` parameter to control this behavior.\n",
            "  _warn_prf(average, modifier, msg_start, len(result))\n",
            "/usr/local/lib/python3.7/dist-packages/sklearn/metrics/_classification.py:1308: UndefinedMetricWarning: Precision and F-score are ill-defined and being set to 0.0 in labels with no predicted samples. Use `zero_division` parameter to control this behavior.\n",
            "  _warn_prf(average, modifier, msg_start, len(result))\n",
            "/usr/local/lib/python3.7/dist-packages/sklearn/metrics/_classification.py:1308: UndefinedMetricWarning: Precision and F-score are ill-defined and being set to 0.0 in labels with no predicted samples. Use `zero_division` parameter to control this behavior.\n",
            "  _warn_prf(average, modifier, msg_start, len(result))\n",
            "/usr/local/lib/python3.7/dist-packages/sklearn/metrics/_classification.py:1308: UndefinedMetricWarning: Precision and F-score are ill-defined and being set to 0.0 in labels with no predicted samples. Use `zero_division` parameter to control this behavior.\n",
            "  _warn_prf(average, modifier, msg_start, len(result))\n",
            "/usr/local/lib/python3.7/dist-packages/sklearn/metrics/_classification.py:1308: UndefinedMetricWarning: Precision and F-score are ill-defined and being set to 0.0 in labels with no predicted samples. Use `zero_division` parameter to control this behavior.\n",
            "  _warn_prf(average, modifier, msg_start, len(result))\n"
          ]
        }
      ],
      "source": [
        "from sklearn.metrics import accuracy_score\n",
        "from sklearn.metrics import confusion_matrix\n",
        "from sklearn.metrics import classification_report\n",
        "for i in range(16,21):\n",
        "    y_pred = pac.predict(globals()['x'+str(i+1)])\n",
        "\n",
        "    acc = accuracy_score(globals()['y'+str(i+1)], y_pred)\n",
        "\n",
        "    print(\"Accuracy score: {}\".format(acc))\n",
        "    print(confusion_matrix(globals()['y'+str(i+1)], y_pred))\n",
        "    print(classification_report(globals()['y'+str(i+1)], y_pred, target_names={'Sleep stage W',\n",
        "                    'Sleep stage 1',\n",
        "                    'Sleep stage 2',\n",
        "                    'Sleep stage 3/4',\n",
        "                    'Sleep stage R'}))\n",
        "    print('--------------------------------------------------------')\n",
        "\n"
      ]
    },
    {
      "cell_type": "code",
      "execution_count": null,
      "metadata": {
        "id": "3hXoifQIe6Hs",
        "colab": {
          "base_uri": "https://localhost:8080/"
        },
        "outputId": "ff5a1a47-cfcd-404f-84cc-1973a53f9790"
      },
      "outputs": [
        {
          "output_type": "stream",
          "name": "stdout",
          "text": [
            "Accuracy score: 0.3916083916083916\n",
            "[[  0   0 216   0   0]\n",
            " [  0   0  55   0   0]\n",
            " [  0   0 448   0   0]\n",
            " [  0   0 165   0   0]\n",
            " [  0   0 260   0   0]]\n",
            "                 precision    recall  f1-score   support\n",
            "\n",
            "  Sleep stage R       0.00      0.00      0.00       216\n",
            "  Sleep stage W       0.00      0.00      0.00        55\n",
            "Sleep stage 3/4       0.39      1.00      0.56       448\n",
            "  Sleep stage 1       0.00      0.00      0.00       165\n",
            "  Sleep stage 2       0.00      0.00      0.00       260\n",
            "\n",
            "       accuracy                           0.39      1144\n",
            "      macro avg       0.08      0.20      0.11      1144\n",
            "   weighted avg       0.15      0.39      0.22      1144\n",
            "\n",
            "--------------------------------------------------------\n",
            "Accuracy score: 0.3273453093812375\n",
            "[[  0   0 176   0   0]\n",
            " [  0   0  21   0   0]\n",
            " [  0   0 328   0   0]\n",
            " [  0   0 215   0   0]\n",
            " [  0   0 262   0   0]]\n",
            "                 precision    recall  f1-score   support\n",
            "\n",
            "  Sleep stage R       0.00      0.00      0.00       176\n",
            "  Sleep stage W       0.00      0.00      0.00        21\n",
            "Sleep stage 3/4       0.33      1.00      0.49       328\n",
            "  Sleep stage 1       0.00      0.00      0.00       215\n",
            "  Sleep stage 2       0.00      0.00      0.00       262\n",
            "\n",
            "       accuracy                           0.33      1002\n",
            "      macro avg       0.07      0.20      0.10      1002\n",
            "   weighted avg       0.11      0.33      0.16      1002\n",
            "\n",
            "--------------------------------------------------------\n",
            "Accuracy score: 0.4024896265560166\n",
            "[[  0   0 138   0   0]\n",
            " [  0   0  29   0   0]\n",
            " [  0   0 388   0   0]\n",
            " [  0   0 291   0   0]\n",
            " [  0   0 118   0   0]]\n",
            "                 precision    recall  f1-score   support\n",
            "\n",
            "  Sleep stage R       0.00      0.00      0.00       138\n",
            "  Sleep stage W       0.00      0.00      0.00        29\n",
            "Sleep stage 3/4       0.40      1.00      0.57       388\n",
            "  Sleep stage 1       0.00      0.00      0.00       291\n",
            "  Sleep stage 2       0.00      0.00      0.00       118\n",
            "\n",
            "       accuracy                           0.40       964\n",
            "      macro avg       0.08      0.20      0.11       964\n",
            "   weighted avg       0.16      0.40      0.23       964\n",
            "\n",
            "--------------------------------------------------------\n",
            "Accuracy score: 0.542671009771987\n",
            "[[  0   0 188   0   0]\n",
            " [  0   0 118   0   0]\n",
            " [  0   0 833   0   0]\n",
            " [  0   0 110   0   0]\n",
            " [  0   0 286   0   0]]\n",
            "                 precision    recall  f1-score   support\n",
            "\n",
            "  Sleep stage R       0.00      0.00      0.00       188\n",
            "  Sleep stage W       0.00      0.00      0.00       118\n",
            "Sleep stage 3/4       0.54      1.00      0.70       833\n",
            "  Sleep stage 1       0.00      0.00      0.00       110\n",
            "  Sleep stage 2       0.00      0.00      0.00       286\n",
            "\n",
            "       accuracy                           0.54      1535\n",
            "      macro avg       0.11      0.20      0.14      1535\n",
            "   weighted avg       0.29      0.54      0.38      1535\n",
            "\n",
            "--------------------------------------------------------\n",
            "Accuracy score: 0.5273972602739726\n",
            "[[  0   0 263   0   0]\n",
            " [  0   0  39   0   0]\n",
            " [  0   0 539   0   0]\n",
            " [  0   0   4   0   0]\n",
            " [  0   0 177   0   0]]\n",
            "                 precision    recall  f1-score   support\n",
            "\n",
            "  Sleep stage R       0.00      0.00      0.00       263\n",
            "  Sleep stage W       0.00      0.00      0.00        39\n",
            "Sleep stage 3/4       0.53      1.00      0.69       539\n",
            "  Sleep stage 1       0.00      0.00      0.00         4\n",
            "  Sleep stage 2       0.00      0.00      0.00       177\n",
            "\n",
            "       accuracy                           0.53      1022\n",
            "      macro avg       0.11      0.20      0.14      1022\n",
            "   weighted avg       0.28      0.53      0.36      1022\n",
            "\n",
            "--------------------------------------------------------\n"
          ]
        },
        {
          "output_type": "stream",
          "name": "stderr",
          "text": [
            "/usr/local/lib/python3.7/dist-packages/sklearn/metrics/_classification.py:1308: UndefinedMetricWarning: Precision and F-score are ill-defined and being set to 0.0 in labels with no predicted samples. Use `zero_division` parameter to control this behavior.\n",
            "  _warn_prf(average, modifier, msg_start, len(result))\n",
            "/usr/local/lib/python3.7/dist-packages/sklearn/metrics/_classification.py:1308: UndefinedMetricWarning: Precision and F-score are ill-defined and being set to 0.0 in labels with no predicted samples. Use `zero_division` parameter to control this behavior.\n",
            "  _warn_prf(average, modifier, msg_start, len(result))\n",
            "/usr/local/lib/python3.7/dist-packages/sklearn/metrics/_classification.py:1308: UndefinedMetricWarning: Precision and F-score are ill-defined and being set to 0.0 in labels with no predicted samples. Use `zero_division` parameter to control this behavior.\n",
            "  _warn_prf(average, modifier, msg_start, len(result))\n",
            "/usr/local/lib/python3.7/dist-packages/sklearn/metrics/_classification.py:1308: UndefinedMetricWarning: Precision and F-score are ill-defined and being set to 0.0 in labels with no predicted samples. Use `zero_division` parameter to control this behavior.\n",
            "  _warn_prf(average, modifier, msg_start, len(result))\n",
            "/usr/local/lib/python3.7/dist-packages/sklearn/metrics/_classification.py:1308: UndefinedMetricWarning: Precision and F-score are ill-defined and being set to 0.0 in labels with no predicted samples. Use `zero_division` parameter to control this behavior.\n",
            "  _warn_prf(average, modifier, msg_start, len(result))\n",
            "/usr/local/lib/python3.7/dist-packages/sklearn/metrics/_classification.py:1308: UndefinedMetricWarning: Precision and F-score are ill-defined and being set to 0.0 in labels with no predicted samples. Use `zero_division` parameter to control this behavior.\n",
            "  _warn_prf(average, modifier, msg_start, len(result))\n",
            "/usr/local/lib/python3.7/dist-packages/sklearn/metrics/_classification.py:1308: UndefinedMetricWarning: Precision and F-score are ill-defined and being set to 0.0 in labels with no predicted samples. Use `zero_division` parameter to control this behavior.\n",
            "  _warn_prf(average, modifier, msg_start, len(result))\n",
            "/usr/local/lib/python3.7/dist-packages/sklearn/metrics/_classification.py:1308: UndefinedMetricWarning: Precision and F-score are ill-defined and being set to 0.0 in labels with no predicted samples. Use `zero_division` parameter to control this behavior.\n",
            "  _warn_prf(average, modifier, msg_start, len(result))\n",
            "/usr/local/lib/python3.7/dist-packages/sklearn/metrics/_classification.py:1308: UndefinedMetricWarning: Precision and F-score are ill-defined and being set to 0.0 in labels with no predicted samples. Use `zero_division` parameter to control this behavior.\n",
            "  _warn_prf(average, modifier, msg_start, len(result))\n",
            "/usr/local/lib/python3.7/dist-packages/sklearn/metrics/_classification.py:1308: UndefinedMetricWarning: Precision and F-score are ill-defined and being set to 0.0 in labels with no predicted samples. Use `zero_division` parameter to control this behavior.\n",
            "  _warn_prf(average, modifier, msg_start, len(result))\n",
            "/usr/local/lib/python3.7/dist-packages/sklearn/metrics/_classification.py:1308: UndefinedMetricWarning: Precision and F-score are ill-defined and being set to 0.0 in labels with no predicted samples. Use `zero_division` parameter to control this behavior.\n",
            "  _warn_prf(average, modifier, msg_start, len(result))\n",
            "/usr/local/lib/python3.7/dist-packages/sklearn/metrics/_classification.py:1308: UndefinedMetricWarning: Precision and F-score are ill-defined and being set to 0.0 in labels with no predicted samples. Use `zero_division` parameter to control this behavior.\n",
            "  _warn_prf(average, modifier, msg_start, len(result))\n",
            "/usr/local/lib/python3.7/dist-packages/sklearn/metrics/_classification.py:1308: UndefinedMetricWarning: Precision and F-score are ill-defined and being set to 0.0 in labels with no predicted samples. Use `zero_division` parameter to control this behavior.\n",
            "  _warn_prf(average, modifier, msg_start, len(result))\n",
            "/usr/local/lib/python3.7/dist-packages/sklearn/metrics/_classification.py:1308: UndefinedMetricWarning: Precision and F-score are ill-defined and being set to 0.0 in labels with no predicted samples. Use `zero_division` parameter to control this behavior.\n",
            "  _warn_prf(average, modifier, msg_start, len(result))\n",
            "/usr/local/lib/python3.7/dist-packages/sklearn/metrics/_classification.py:1308: UndefinedMetricWarning: Precision and F-score are ill-defined and being set to 0.0 in labels with no predicted samples. Use `zero_division` parameter to control this behavior.\n",
            "  _warn_prf(average, modifier, msg_start, len(result))\n"
          ]
        }
      ],
      "source": [
        " from sklearn.linear_model import SGDClassifier\n",
        " sgd = SGDClassifier(max_iter=1000, random_state=20,tol=1e-3)\n",
        "#mlp.fit(x1,y1)\n",
        "sgd.partial_fit(globals()['x'+str(1)], globals()['y'+str(1)],[1,2,3,4,5]) \n",
        "for i in range(1,16):\n",
        "   sgd.partial_fit(globals()['x'+str(i+1)], globals()['y'+str(i+1)]) \n",
        "for i in range(16,21):\n",
        "    y_pred = sgd.predict(globals()['x'+str(i+1)])\n",
        "\n",
        "    acc = accuracy_score(globals()['y'+str(i+1)], y_pred)\n",
        "\n",
        "    print(\"Accuracy score: {}\".format(acc))\n",
        "    print(confusion_matrix(globals()['y'+str(i+1)], y_pred))\n",
        "    print(classification_report(globals()['y'+str(i+1)], y_pred, target_names={'Sleep stage W',\n",
        "                    'Sleep stage 1',\n",
        "                    'Sleep stage 2',\n",
        "                    'Sleep stage 3/4',\n",
        "                    'Sleep stage R'}))\n",
        "    print('--------------------------------------------------------')\n",
        "\n"
      ]
    },
    {
      "cell_type": "code",
      "execution_count": null,
      "metadata": {
        "id": "_pf4YSy-e88z",
        "colab": {
          "base_uri": "https://localhost:8080/"
        },
        "outputId": "d195c4fb-986d-443c-8c7f-46d9207e8cce"
      },
      "outputs": [
        {
          "output_type": "stream",
          "name": "stdout",
          "text": [
            "Accuracy score: 0.5052447552447552\n",
            "[[109  10  41  18  38]\n",
            " [  5   3  30   2  15]\n",
            " [ 40   6 255 111  36]\n",
            " [ 21   0  10 134   0]\n",
            " [ 60   0 118   5  77]]\n",
            "                 precision    recall  f1-score   support\n",
            "\n",
            "  Sleep stage R       0.46      0.50      0.48       216\n",
            "  Sleep stage W       0.16      0.05      0.08        55\n",
            "Sleep stage 3/4       0.56      0.57      0.57       448\n",
            "  Sleep stage 1       0.50      0.81      0.62       165\n",
            "  Sleep stage 2       0.46      0.30      0.36       260\n",
            "\n",
            "       accuracy                           0.51      1144\n",
            "      macro avg       0.43      0.45      0.42      1144\n",
            "   weighted avg       0.49      0.51      0.49      1144\n",
            "\n",
            "--------------------------------------------------------\n",
            "Accuracy score: 0.34331337325349304\n",
            "[[ 48   8  59  31  30]\n",
            " [  9   1   9   1   1]\n",
            " [119   6 113  58  32]\n",
            " [ 95   0  16 104   0]\n",
            " [ 42  17 116   9  78]]\n",
            "                 precision    recall  f1-score   support\n",
            "\n",
            "  Sleep stage R       0.15      0.27      0.20       176\n",
            "  Sleep stage W       0.03      0.05      0.04        21\n",
            "Sleep stage 3/4       0.36      0.34      0.35       328\n",
            "  Sleep stage 1       0.51      0.48      0.50       215\n",
            "  Sleep stage 2       0.55      0.30      0.39       262\n",
            "\n",
            "       accuracy                           0.34      1002\n",
            "      macro avg       0.32      0.29      0.29      1002\n",
            "   weighted avg       0.40      0.34      0.36      1002\n",
            "\n",
            "--------------------------------------------------------\n",
            "Accuracy score: 0.6504149377593361\n",
            "[[ 92   1  23  15   7]\n",
            " [  2   0   8   0  19]\n",
            " [ 20   5 280  15  68]\n",
            " [ 61   2  40 187   1]\n",
            " [ 23   7  20   0  68]]\n",
            "                 precision    recall  f1-score   support\n",
            "\n",
            "  Sleep stage R       0.46      0.67      0.55       138\n",
            "  Sleep stage W       0.00      0.00      0.00        29\n",
            "Sleep stage 3/4       0.75      0.72      0.74       388\n",
            "  Sleep stage 1       0.86      0.64      0.74       291\n",
            "  Sleep stage 2       0.42      0.58      0.48       118\n",
            "\n",
            "       accuracy                           0.65       964\n",
            "      macro avg       0.50      0.52      0.50       964\n",
            "   weighted avg       0.68      0.65      0.66       964\n",
            "\n",
            "--------------------------------------------------------\n",
            "Accuracy score: 0.6247557003257329\n",
            "[[ 98   8  21  28  33]\n",
            " [ 17   8  29   3  61]\n",
            " [ 38   8 699  20  68]\n",
            " [ 10   0  11  89   0]\n",
            " [ 75  12 132   2  65]]\n",
            "                 precision    recall  f1-score   support\n",
            "\n",
            "  Sleep stage R       0.41      0.52      0.46       188\n",
            "  Sleep stage W       0.22      0.07      0.10       118\n",
            "Sleep stage 3/4       0.78      0.84      0.81       833\n",
            "  Sleep stage 1       0.63      0.81      0.71       110\n",
            "  Sleep stage 2       0.29      0.23      0.25       286\n",
            "\n",
            "       accuracy                           0.62      1535\n",
            "      macro avg       0.47      0.49      0.47      1535\n",
            "   weighted avg       0.59      0.62      0.60      1535\n",
            "\n",
            "--------------------------------------------------------\n",
            "Accuracy score: 0.47847358121330724\n",
            "[[123   4  93  30  13]\n",
            " [  5   0  27   1   6]\n",
            " [109   0 304  20 106]\n",
            " [  0   0   2   2   0]\n",
            " [ 69   8  39   1  60]]\n",
            "                 precision    recall  f1-score   support\n",
            "\n",
            "  Sleep stage R       0.40      0.47      0.43       263\n",
            "  Sleep stage W       0.00      0.00      0.00        39\n",
            "Sleep stage 3/4       0.65      0.56      0.61       539\n",
            "  Sleep stage 1       0.04      0.50      0.07         4\n",
            "  Sleep stage 2       0.32      0.34      0.33       177\n",
            "\n",
            "       accuracy                           0.48      1022\n",
            "      macro avg       0.28      0.37      0.29      1022\n",
            "   weighted avg       0.50      0.48      0.49      1022\n",
            "\n",
            "--------------------------------------------------------\n"
          ]
        }
      ],
      "source": [
        "from sklearn.neighbors import KNeighborsClassifier\n",
        "#Create the Model\n",
        "clf = KNeighborsClassifier(n_neighbors=1)\n",
        "clf.fit(globals()['x'+str(1)], globals()['y'+str(1)]) \n",
        "for i in range(1,16):\n",
        "   clf.fit(globals()['x'+str(i+1)], globals()['y'+str(i+1)]) \n",
        "for i in range(16,21):\n",
        "    y_pred = clf.predict(globals()['x'+str(i+1)])\n",
        "\n",
        "    acc = accuracy_score(globals()['y'+str(i+1)], y_pred)\n",
        "\n",
        "    print(\"Accuracy score: {}\".format(acc))\n",
        "    print(confusion_matrix(globals()['y'+str(i+1)], y_pred))\n",
        "    print(classification_report(globals()['y'+str(i+1)], y_pred, target_names={'Sleep stage W',\n",
        "                    'Sleep stage 1',\n",
        "                    'Sleep stage 2',\n",
        "                    'Sleep stage 3/4',\n",
        "                    'Sleep stage R'}))\n",
        "    print('--------------------------------------------------------')\n"
      ]
    },
    {
      "cell_type": "code",
      "execution_count": null,
      "metadata": {
        "id": "dcxZdB1be_SD",
        "colab": {
          "base_uri": "https://localhost:8080/"
        },
        "outputId": "3e5e15dc-2ad0-4a0a-f324-7ce85f2500d8"
      },
      "outputs": [
        {
          "output_type": "stream",
          "name": "stdout",
          "text": [
            "Accuracy score: 0.5008741258741258\n",
            "[[105   2  79  17  13]\n",
            " [  8   1  42   1   3]\n",
            " [ 36   6 255 121  30]\n",
            " [ 25   0   3 137   0]\n",
            " [ 50   0 127   8  75]]\n",
            "                 precision    recall  f1-score   support\n",
            "\n",
            "  Sleep stage R       0.47      0.49      0.48       216\n",
            "  Sleep stage W       0.11      0.02      0.03        55\n",
            "Sleep stage 3/4       0.50      0.57      0.53       448\n",
            "  Sleep stage 1       0.48      0.83      0.61       165\n",
            "  Sleep stage 2       0.62      0.29      0.39       260\n",
            "\n",
            "       accuracy                           0.50      1144\n",
            "      macro avg       0.44      0.44      0.41      1144\n",
            "   weighted avg       0.50      0.50      0.48      1144\n",
            "\n",
            "--------------------------------------------------------\n",
            "Accuracy score: 0.27644710578842313\n",
            "[[ 42   5  78  41  10]\n",
            " [ 11   0  10   0   0]\n",
            " [127   7 115  55  24]\n",
            " [117   0  11  87   0]\n",
            " [ 50   6 169   4  33]]\n",
            "                 precision    recall  f1-score   support\n",
            "\n",
            "  Sleep stage R       0.12      0.24      0.16       176\n",
            "  Sleep stage W       0.00      0.00      0.00        21\n",
            "Sleep stage 3/4       0.30      0.35      0.32       328\n",
            "  Sleep stage 1       0.47      0.40      0.43       215\n",
            "  Sleep stage 2       0.49      0.13      0.20       262\n",
            "\n",
            "       accuracy                           0.28      1002\n",
            "      macro avg       0.28      0.22      0.22      1002\n",
            "   weighted avg       0.35      0.28      0.28      1002\n",
            "\n",
            "--------------------------------------------------------\n",
            "Accuracy score: 0.6006224066390041\n",
            "[[ 81   1  29  23   4]\n",
            " [  4   0  18   0   7]\n",
            " [ 29   4 312  16  27]\n",
            " [ 74   2  43 171   1]\n",
            " [ 13   1  89   0  15]]\n",
            "                 precision    recall  f1-score   support\n",
            "\n",
            "  Sleep stage R       0.40      0.59      0.48       138\n",
            "  Sleep stage W       0.00      0.00      0.00        29\n",
            "Sleep stage 3/4       0.64      0.80      0.71       388\n",
            "  Sleep stage 1       0.81      0.59      0.68       291\n",
            "  Sleep stage 2       0.28      0.13      0.17       118\n",
            "\n",
            "       accuracy                           0.60       964\n",
            "      macro avg       0.43      0.42      0.41       964\n",
            "   weighted avg       0.59      0.60      0.58       964\n",
            "\n",
            "--------------------------------------------------------\n",
            "Accuracy score: 0.6104234527687297\n",
            "[[ 83   0  56  42   7]\n",
            " [ 12   2  69   3  32]\n",
            " [ 37   4 744  32  16]\n",
            " [  9   0  15  86   0]\n",
            " [ 69   5 186   4  22]]\n",
            "                 precision    recall  f1-score   support\n",
            "\n",
            "  Sleep stage R       0.40      0.44      0.42       188\n",
            "  Sleep stage W       0.18      0.02      0.03       118\n",
            "Sleep stage 3/4       0.70      0.89      0.78       833\n",
            "  Sleep stage 1       0.51      0.78      0.62       110\n",
            "  Sleep stage 2       0.29      0.08      0.12       286\n",
            "\n",
            "       accuracy                           0.61      1535\n",
            "      macro avg       0.41      0.44      0.39      1535\n",
            "   weighted avg       0.53      0.61      0.54      1535\n",
            "\n",
            "--------------------------------------------------------\n",
            "Accuracy score: 0.44129158512720157\n",
            "[[122   3  97  28  13]\n",
            " [  4   0  33   1   1]\n",
            " [ 96   0 307  17 119]\n",
            " [  0   0   2   2   0]\n",
            " [ 78   2  75   2  20]]\n",
            "                 precision    recall  f1-score   support\n",
            "\n",
            "  Sleep stage R       0.41      0.46      0.43       263\n",
            "  Sleep stage W       0.00      0.00      0.00        39\n",
            "Sleep stage 3/4       0.60      0.57      0.58       539\n",
            "  Sleep stage 1       0.04      0.50      0.07         4\n",
            "  Sleep stage 2       0.13      0.11      0.12       177\n",
            "\n",
            "       accuracy                           0.44      1022\n",
            "      macro avg       0.23      0.33      0.24      1022\n",
            "   weighted avg       0.44      0.44      0.44      1022\n",
            "\n",
            "--------------------------------------------------------\n"
          ]
        }
      ],
      "source": [
        "#AdaBoost example with training and test set\n",
        "# ====================================================================== #Import AdaBoost ensemble model\n",
        "from sklearn.ensemble import AdaBoostClassifier\n",
        "#Import Tree model as a base classifier\n",
        "from sklearn import tree\n",
        "####Create an AdaBoost Ensemble Classifier\n",
        "\n",
        "clf=AdaBoostClassifier(tree.DecisionTreeClassifier(),n_estimators=100,algorithm='SAMME', random_state=None,learning_rate=0.8)\n",
        "#Train the model using the training sets \n",
        "clf.fit(globals()['x'+str(1)], globals()['y'+str(1)]) \n",
        "for i in range(1,16):\n",
        "   clf.fit(globals()['x'+str(i+1)], globals()['y'+str(i+1)]) \n",
        "for i in range(16,21):\n",
        "    y_pred = clf.predict(globals()['x'+str(i+1)])\n",
        "\n",
        "    acc = accuracy_score(globals()['y'+str(i+1)], y_pred)\n",
        "\n",
        "    print(\"Accuracy score: {}\".format(acc))\n",
        "    print(confusion_matrix(globals()['y'+str(i+1)], y_pred))\n",
        "    print(classification_report(globals()['y'+str(i+1)], y_pred, target_names={'Sleep stage W',\n",
        "                    'Sleep stage 1',\n",
        "                    'Sleep stage 2',\n",
        "                    'Sleep stage 3/4',\n",
        "                    'Sleep stage R'}))\n",
        "    print('--------------------------------------------------------')"
      ]
    },
    {
      "cell_type": "code",
      "execution_count": null,
      "metadata": {
        "id": "NlcIEe5KfCG1",
        "colab": {
          "base_uri": "https://localhost:8080/"
        },
        "outputId": "299053a7-0633-4bca-f9fb-53c0161c32e3"
      },
      "outputs": [
        {
          "output_type": "stream",
          "name": "stdout",
          "text": [
            "Accuracy score: 0.4562937062937063\n",
            "[[ 90   0  70  15  41]\n",
            " [  5   0  43   2   5]\n",
            " [ 12   0 269 149  18]\n",
            " [ 20   0  10 134   1]\n",
            " [ 26   0 199   6  29]]\n",
            "                 precision    recall  f1-score   support\n",
            "\n",
            "  Sleep stage R       0.59      0.42      0.49       216\n",
            "  Sleep stage W       0.00      0.00      0.00        55\n",
            "Sleep stage 3/4       0.46      0.60      0.52       448\n",
            "  Sleep stage 1       0.44      0.81      0.57       165\n",
            "  Sleep stage 2       0.31      0.11      0.16       260\n",
            "\n",
            "       accuracy                           0.46      1144\n",
            "      macro avg       0.36      0.39      0.35      1144\n",
            "   weighted avg       0.42      0.46      0.41      1144\n",
            "\n",
            "--------------------------------------------------------\n",
            "Accuracy score: 0.3203592814371258\n",
            "[[ 30   0  74  50  22]\n",
            " [  9   0   9   1   2]\n",
            " [ 93   0  76  97  62]\n",
            " [ 61   0   3 150   1]\n",
            " [ 38   0 153   6  65]]\n",
            "                 precision    recall  f1-score   support\n",
            "\n",
            "  Sleep stage R       0.13      0.17      0.15       176\n",
            "  Sleep stage W       0.00      0.00      0.00        21\n",
            "Sleep stage 3/4       0.24      0.23      0.24       328\n",
            "  Sleep stage 1       0.49      0.70      0.58       215\n",
            "  Sleep stage 2       0.43      0.25      0.31       262\n",
            "\n",
            "       accuracy                           0.32      1002\n",
            "      macro avg       0.26      0.27      0.26      1002\n",
            "   weighted avg       0.32      0.32      0.31      1002\n",
            "\n",
            "--------------------------------------------------------\n",
            "Accuracy score: 0.6753112033195021\n",
            "[[ 71   0  25  37   5]\n",
            " [  0   0  20   0   9]\n",
            " [  2   0 338  14  34]\n",
            " [ 31   0  35 224   1]\n",
            " [  1   1  98   0  18]]\n",
            "                 precision    recall  f1-score   support\n",
            "\n",
            "  Sleep stage R       0.68      0.51      0.58       138\n",
            "  Sleep stage W       0.00      0.00      0.00        29\n",
            "Sleep stage 3/4       0.66      0.87      0.75       388\n",
            "  Sleep stage 1       0.81      0.77      0.79       291\n",
            "  Sleep stage 2       0.27      0.15      0.19       118\n",
            "\n",
            "       accuracy                           0.68       964\n",
            "      macro avg       0.48      0.46      0.46       964\n",
            "   weighted avg       0.64      0.68      0.65       964\n",
            "\n",
            "--------------------------------------------------------\n",
            "Accuracy score: 0.6228013029315961\n",
            "[[ 65   0  59  42  22]\n",
            " [  8   2  84   2  22]\n",
            " [ 14   0 735  27  57]\n",
            " [  2   0   8 100   0]\n",
            " [ 45   0 183   4  54]]\n",
            "                 precision    recall  f1-score   support\n",
            "\n",
            "  Sleep stage R       0.49      0.35      0.40       188\n",
            "  Sleep stage W       1.00      0.02      0.03       118\n",
            "Sleep stage 3/4       0.69      0.88      0.77       833\n",
            "  Sleep stage 1       0.57      0.91      0.70       110\n",
            "  Sleep stage 2       0.35      0.19      0.24       286\n",
            "\n",
            "       accuracy                           0.62      1535\n",
            "      macro avg       0.62      0.47      0.43      1535\n",
            "   weighted avg       0.62      0.62      0.57      1535\n",
            "\n",
            "--------------------------------------------------------\n",
            "Accuracy score: 0.6115459882583171\n",
            "[[100   0 112  34  17]\n",
            " [  3   0  34   0   2]\n",
            " [ 18   0 492  19  10]\n",
            " [  0   0   1   3   0]\n",
            " [ 69   3  72   3  30]]\n",
            "                 precision    recall  f1-score   support\n",
            "\n",
            "  Sleep stage R       0.53      0.38      0.44       263\n",
            "  Sleep stage W       0.00      0.00      0.00        39\n",
            "Sleep stage 3/4       0.69      0.91      0.79       539\n",
            "  Sleep stage 1       0.05      0.75      0.10         4\n",
            "  Sleep stage 2       0.51      0.17      0.25       177\n",
            "\n",
            "       accuracy                           0.61      1022\n",
            "      macro avg       0.36      0.44      0.32      1022\n",
            "   weighted avg       0.59      0.61      0.57      1022\n",
            "\n",
            "--------------------------------------------------------\n"
          ]
        },
        {
          "output_type": "stream",
          "name": "stderr",
          "text": [
            "/usr/local/lib/python3.7/dist-packages/sklearn/metrics/_classification.py:1308: UndefinedMetricWarning: Precision and F-score are ill-defined and being set to 0.0 in labels with no predicted samples. Use `zero_division` parameter to control this behavior.\n",
            "  _warn_prf(average, modifier, msg_start, len(result))\n",
            "/usr/local/lib/python3.7/dist-packages/sklearn/metrics/_classification.py:1308: UndefinedMetricWarning: Precision and F-score are ill-defined and being set to 0.0 in labels with no predicted samples. Use `zero_division` parameter to control this behavior.\n",
            "  _warn_prf(average, modifier, msg_start, len(result))\n",
            "/usr/local/lib/python3.7/dist-packages/sklearn/metrics/_classification.py:1308: UndefinedMetricWarning: Precision and F-score are ill-defined and being set to 0.0 in labels with no predicted samples. Use `zero_division` parameter to control this behavior.\n",
            "  _warn_prf(average, modifier, msg_start, len(result))\n",
            "/usr/local/lib/python3.7/dist-packages/sklearn/metrics/_classification.py:1308: UndefinedMetricWarning: Precision and F-score are ill-defined and being set to 0.0 in labels with no predicted samples. Use `zero_division` parameter to control this behavior.\n",
            "  _warn_prf(average, modifier, msg_start, len(result))\n",
            "/usr/local/lib/python3.7/dist-packages/sklearn/metrics/_classification.py:1308: UndefinedMetricWarning: Precision and F-score are ill-defined and being set to 0.0 in labels with no predicted samples. Use `zero_division` parameter to control this behavior.\n",
            "  _warn_prf(average, modifier, msg_start, len(result))\n",
            "/usr/local/lib/python3.7/dist-packages/sklearn/metrics/_classification.py:1308: UndefinedMetricWarning: Precision and F-score are ill-defined and being set to 0.0 in labels with no predicted samples. Use `zero_division` parameter to control this behavior.\n",
            "  _warn_prf(average, modifier, msg_start, len(result))\n"
          ]
        }
      ],
      "source": [
        "#Gradient boosting example with training and test set\n",
        " #Import Gradient Boosting ensemble model\n",
        "from sklearn.ensemble import GradientBoostingClassifier\n",
        "\n",
        "#Create the Model\n",
        "clf = GradientBoostingClassifier(n_estimators=100, learning_rate=1.0,max_depth=1, random_state=4)\n",
        "#Train the model using the training sets \n",
        "clf.fit(globals()['x'+str(1)], globals()['y'+str(1)]) \n",
        "for i in range(1,16):\n",
        "   clf.fit(globals()['x'+str(i+1)], globals()['y'+str(i+1)]) \n",
        "for i in range(16,21):\n",
        "    y_pred = clf.predict(globals()['x'+str(i+1)])\n",
        "\n",
        "    acc = accuracy_score(globals()['y'+str(i+1)], y_pred)\n",
        "\n",
        "    print(\"Accuracy score: {}\".format(acc))\n",
        "    print(confusion_matrix(globals()['y'+str(i+1)], y_pred))\n",
        "    print(classification_report(globals()['y'+str(i+1)], y_pred, target_names={'Sleep stage W',\n",
        "                    'Sleep stage 1',\n",
        "                    'Sleep stage 2',\n",
        "                    'Sleep stage 3/4',\n",
        "                    'Sleep stage R'}))\n",
        "    print('--------------------------------------------------------')"
      ]
    },
    {
      "cell_type": "code",
      "execution_count": null,
      "metadata": {
        "id": "1lTLuNprfErG",
        "colab": {
          "base_uri": "https://localhost:8080/"
        },
        "outputId": "79be8b03-3671-4526-de65-80812064136d"
      },
      "outputs": [
        {
          "output_type": "stream",
          "name": "stdout",
          "text": [
            "Accuracy score: 0.43006993006993005\n",
            "[[ 62   0  74  69  11]\n",
            " [  5   0  42   6   2]\n",
            " [ 17   0 265 166   0]\n",
            " [  0   0   0 165   0]\n",
            " [ 25   0 206  29   0]]\n",
            "                 precision    recall  f1-score   support\n",
            "\n",
            "  Sleep stage R       0.57      0.29      0.38       216\n",
            "  Sleep stage W       0.00      0.00      0.00        55\n",
            "Sleep stage 3/4       0.45      0.59      0.51       448\n",
            "  Sleep stage 1       0.38      1.00      0.55       165\n",
            "  Sleep stage 2       0.00      0.00      0.00       260\n",
            "\n",
            "       accuracy                           0.43      1144\n",
            "      macro avg       0.28      0.38      0.29      1144\n",
            "   weighted avg       0.34      0.43      0.35      1144\n",
            "\n",
            "--------------------------------------------------------\n",
            "Accuracy score: 0.3413173652694611\n",
            "[[ 43   0  76  52   5]\n",
            " [  8   0  13   0   0]\n",
            " [141   0 173  14   0]\n",
            " [ 99   0   9 107   0]\n",
            " [ 71   0 168   4  19]]\n",
            "                 precision    recall  f1-score   support\n",
            "\n",
            "  Sleep stage R       0.12      0.24      0.16       176\n",
            "  Sleep stage W       0.00      0.00      0.00        21\n",
            "Sleep stage 3/4       0.39      0.53      0.45       328\n",
            "  Sleep stage 1       0.60      0.50      0.55       215\n",
            "  Sleep stage 2       0.79      0.07      0.13       262\n",
            "\n",
            "       accuracy                           0.34      1002\n",
            "      macro avg       0.38      0.27      0.26      1002\n",
            "   weighted avg       0.49      0.34      0.33      1002\n",
            "\n",
            "--------------------------------------------------------\n",
            "Accuracy score: 0.770746887966805\n",
            "[[101   0  34   3   0]\n",
            " [  0   0  16   1  12]\n",
            " [  3   0 355   5  25]\n",
            " [ 23   0  59 209   0]\n",
            " [  2   0  38   0  78]]\n",
            "                 precision    recall  f1-score   support\n",
            "\n",
            "  Sleep stage R       0.78      0.73      0.76       138\n",
            "  Sleep stage W       0.00      0.00      0.00        29\n",
            "Sleep stage 3/4       0.71      0.91      0.80       388\n",
            "  Sleep stage 1       0.96      0.72      0.82       291\n",
            "  Sleep stage 2       0.68      0.66      0.67       118\n",
            "\n",
            "       accuracy                           0.77       964\n",
            "      macro avg       0.63      0.61      0.61       964\n",
            "   weighted avg       0.77      0.77      0.76       964\n",
            "\n",
            "--------------------------------------------------------\n",
            "Accuracy score: 0.6371335504885993\n",
            "[[ 80   0  32  55  21]\n",
            " [ 10   0  70  16  22]\n",
            " [ 12   0 797  22   2]\n",
            " [  3   0  17  90   0]\n",
            " [ 64   0 202   9  11]]\n",
            "                 precision    recall  f1-score   support\n",
            "\n",
            "  Sleep stage R       0.47      0.43      0.45       188\n",
            "  Sleep stage W       0.00      0.00      0.00       118\n",
            "Sleep stage 3/4       0.71      0.96      0.82       833\n",
            "  Sleep stage 1       0.47      0.82      0.60       110\n",
            "  Sleep stage 2       0.20      0.04      0.06       286\n",
            "\n",
            "       accuracy                           0.64      1535\n",
            "      macro avg       0.37      0.45      0.39      1535\n",
            "   weighted avg       0.52      0.64      0.55      1535\n",
            "\n",
            "--------------------------------------------------------\n",
            "Accuracy score: 0.550880626223092\n",
            "[[ 67   0 117  79   0]\n",
            " [  3   0  36   0   0]\n",
            " [ 18   0 484  37   0]\n",
            " [  0   0   0   4   0]\n",
            " [ 82   0  84   3   8]]\n",
            "                 precision    recall  f1-score   support\n",
            "\n",
            "  Sleep stage R       0.39      0.25      0.31       263\n",
            "  Sleep stage W       0.00      0.00      0.00        39\n",
            "Sleep stage 3/4       0.67      0.90      0.77       539\n",
            "  Sleep stage 1       0.03      1.00      0.06         4\n",
            "  Sleep stage 2       1.00      0.05      0.09       177\n",
            "\n",
            "       accuracy                           0.55      1022\n",
            "      macro avg       0.42      0.44      0.25      1022\n",
            "   weighted avg       0.63      0.55      0.50      1022\n",
            "\n",
            "--------------------------------------------------------\n"
          ]
        },
        {
          "output_type": "stream",
          "name": "stderr",
          "text": [
            "/usr/local/lib/python3.7/dist-packages/sklearn/metrics/_classification.py:1308: UndefinedMetricWarning: Precision and F-score are ill-defined and being set to 0.0 in labels with no predicted samples. Use `zero_division` parameter to control this behavior.\n",
            "  _warn_prf(average, modifier, msg_start, len(result))\n",
            "/usr/local/lib/python3.7/dist-packages/sklearn/metrics/_classification.py:1308: UndefinedMetricWarning: Precision and F-score are ill-defined and being set to 0.0 in labels with no predicted samples. Use `zero_division` parameter to control this behavior.\n",
            "  _warn_prf(average, modifier, msg_start, len(result))\n",
            "/usr/local/lib/python3.7/dist-packages/sklearn/metrics/_classification.py:1308: UndefinedMetricWarning: Precision and F-score are ill-defined and being set to 0.0 in labels with no predicted samples. Use `zero_division` parameter to control this behavior.\n",
            "  _warn_prf(average, modifier, msg_start, len(result))\n",
            "/usr/local/lib/python3.7/dist-packages/sklearn/metrics/_classification.py:1308: UndefinedMetricWarning: Precision and F-score are ill-defined and being set to 0.0 in labels with no predicted samples. Use `zero_division` parameter to control this behavior.\n",
            "  _warn_prf(average, modifier, msg_start, len(result))\n",
            "/usr/local/lib/python3.7/dist-packages/sklearn/metrics/_classification.py:1308: UndefinedMetricWarning: Precision and F-score are ill-defined and being set to 0.0 in labels with no predicted samples. Use `zero_division` parameter to control this behavior.\n",
            "  _warn_prf(average, modifier, msg_start, len(result))\n",
            "/usr/local/lib/python3.7/dist-packages/sklearn/metrics/_classification.py:1308: UndefinedMetricWarning: Precision and F-score are ill-defined and being set to 0.0 in labels with no predicted samples. Use `zero_division` parameter to control this behavior.\n",
            "  _warn_prf(average, modifier, msg_start, len(result))\n",
            "/usr/local/lib/python3.7/dist-packages/sklearn/metrics/_classification.py:1308: UndefinedMetricWarning: Precision and F-score are ill-defined and being set to 0.0 in labels with no predicted samples. Use `zero_division` parameter to control this behavior.\n",
            "  _warn_prf(average, modifier, msg_start, len(result))\n",
            "/usr/local/lib/python3.7/dist-packages/sklearn/metrics/_classification.py:1308: UndefinedMetricWarning: Precision and F-score are ill-defined and being set to 0.0 in labels with no predicted samples. Use `zero_division` parameter to control this behavior.\n",
            "  _warn_prf(average, modifier, msg_start, len(result))\n",
            "/usr/local/lib/python3.7/dist-packages/sklearn/metrics/_classification.py:1308: UndefinedMetricWarning: Precision and F-score are ill-defined and being set to 0.0 in labels with no predicted samples. Use `zero_division` parameter to control this behavior.\n",
            "  _warn_prf(average, modifier, msg_start, len(result))\n",
            "/usr/local/lib/python3.7/dist-packages/sklearn/metrics/_classification.py:1308: UndefinedMetricWarning: Precision and F-score are ill-defined and being set to 0.0 in labels with no predicted samples. Use `zero_division` parameter to control this behavior.\n",
            "  _warn_prf(average, modifier, msg_start, len(result))\n",
            "/usr/local/lib/python3.7/dist-packages/sklearn/metrics/_classification.py:1308: UndefinedMetricWarning: Precision and F-score are ill-defined and being set to 0.0 in labels with no predicted samples. Use `zero_division` parameter to control this behavior.\n",
            "  _warn_prf(average, modifier, msg_start, len(result))\n",
            "/usr/local/lib/python3.7/dist-packages/sklearn/metrics/_classification.py:1308: UndefinedMetricWarning: Precision and F-score are ill-defined and being set to 0.0 in labels with no predicted samples. Use `zero_division` parameter to control this behavior.\n",
            "  _warn_prf(average, modifier, msg_start, len(result))\n",
            "/usr/local/lib/python3.7/dist-packages/sklearn/metrics/_classification.py:1308: UndefinedMetricWarning: Precision and F-score are ill-defined and being set to 0.0 in labels with no predicted samples. Use `zero_division` parameter to control this behavior.\n",
            "  _warn_prf(average, modifier, msg_start, len(result))\n",
            "/usr/local/lib/python3.7/dist-packages/sklearn/metrics/_classification.py:1308: UndefinedMetricWarning: Precision and F-score are ill-defined and being set to 0.0 in labels with no predicted samples. Use `zero_division` parameter to control this behavior.\n",
            "  _warn_prf(average, modifier, msg_start, len(result))\n",
            "/usr/local/lib/python3.7/dist-packages/sklearn/metrics/_classification.py:1308: UndefinedMetricWarning: Precision and F-score are ill-defined and being set to 0.0 in labels with no predicted samples. Use `zero_division` parameter to control this behavior.\n",
            "  _warn_prf(average, modifier, msg_start, len(result))\n"
          ]
        }
      ],
      "source": [
        "#Import LDA model\n",
        "from sklearn.discriminant_analysis import LinearDiscriminantAnalysis \n",
        "#Create a LDA Classifier\n",
        "clf = LinearDiscriminantAnalysis(solver='lsqr', shrinkage=None)\n",
        "#Train the model using the training sets \n",
        "clf.fit(globals()['x'+str(1)], globals()['y'+str(1)]) \n",
        "for i in range(1,16):\n",
        "   clf.fit(globals()['x'+str(i+1)], globals()['y'+str(i+1)]) \n",
        "for i in range(16,21):\n",
        "    y_pred = clf.predict(globals()['x'+str(i+1)])\n",
        "\n",
        "    acc = accuracy_score(globals()['y'+str(i+1)], y_pred)\n",
        "\n",
        "    print(\"Accuracy score: {}\".format(acc))\n",
        "    print(confusion_matrix(globals()['y'+str(i+1)], y_pred))\n",
        "    print(classification_report(globals()['y'+str(i+1)], y_pred, target_names={'Sleep stage W',\n",
        "                    'Sleep stage 1',\n",
        "                    'Sleep stage 2',\n",
        "                    'Sleep stage 3/4',\n",
        "                    'Sleep stage R'}))\n",
        "    print('--------------------------------------------------------')"
      ]
    },
    {
      "cell_type": "code",
      "execution_count": null,
      "metadata": {
        "id": "Fthxjx1jfHBb",
        "colab": {
          "base_uri": "https://localhost:8080/"
        },
        "outputId": "fc77dd76-4ea8-4546-bad6-ff598eb08086"
      },
      "outputs": [
        {
          "output_type": "stream",
          "name": "stdout",
          "text": [
            "Accuracy score: 0.458041958041958\n",
            "[[ 91   0  87  22  16]\n",
            " [  5   0  34   4  12]\n",
            " [ 19   0 247 175   7]\n",
            " [  6   0   0 159   0]\n",
            " [ 32   0 190  11  27]]\n",
            "                 precision    recall  f1-score   support\n",
            "\n",
            "  Sleep stage R       0.59      0.42      0.49       216\n",
            "  Sleep stage W       0.00      0.00      0.00        55\n",
            "Sleep stage 3/4       0.44      0.55      0.49       448\n",
            "  Sleep stage 1       0.43      0.96      0.59       165\n",
            "  Sleep stage 2       0.44      0.10      0.17       260\n",
            "\n",
            "       accuracy                           0.46      1144\n",
            "      macro avg       0.38      0.41      0.35      1144\n",
            "   weighted avg       0.45      0.46      0.41      1144\n",
            "\n",
            "--------------------------------------------------------\n",
            "Accuracy score: 0.4121756487025948\n",
            "[[ 31   0  75  52  18]\n",
            " [  5   0  14   0   2]\n",
            " [100   0 190  38   0]\n",
            " [ 59   0   3 153   0]\n",
            " [ 17   0 202   4  39]]\n",
            "                 precision    recall  f1-score   support\n",
            "\n",
            "  Sleep stage R       0.15      0.18      0.16       176\n",
            "  Sleep stage W       0.00      0.00      0.00        21\n",
            "Sleep stage 3/4       0.39      0.58      0.47       328\n",
            "  Sleep stage 1       0.62      0.71      0.66       215\n",
            "  Sleep stage 2       0.66      0.15      0.24       262\n",
            "\n",
            "       accuracy                           0.41      1002\n",
            "      macro avg       0.36      0.32      0.31      1002\n",
            "   weighted avg       0.46      0.41      0.39      1002\n",
            "\n",
            "--------------------------------------------------------\n",
            "Accuracy score: 0.7282157676348547\n",
            "[[ 86   0  30  15   7]\n",
            " [  0   0   8   0  21]\n",
            " [  6   0 283   6  93]\n",
            " [ 20   0  38 233   0]\n",
            " [  1   0  17   0 100]]\n",
            "                 precision    recall  f1-score   support\n",
            "\n",
            "  Sleep stage R       0.76      0.62      0.69       138\n",
            "  Sleep stage W       0.00      0.00      0.00        29\n",
            "Sleep stage 3/4       0.75      0.73      0.74       388\n",
            "  Sleep stage 1       0.92      0.80      0.86       291\n",
            "  Sleep stage 2       0.45      0.85      0.59       118\n",
            "\n",
            "       accuracy                           0.73       964\n",
            "      macro avg       0.58      0.60      0.57       964\n",
            "   weighted avg       0.74      0.73      0.73       964\n",
            "\n",
            "--------------------------------------------------------\n",
            "Accuracy score: 0.6156351791530945\n",
            "[[ 61   0  54  53  20]\n",
            " [  8   0  39  12  59]\n",
            " [  9   0 718  28  78]\n",
            " [  0   0   4 106   0]\n",
            " [ 21   0 196   9  60]]\n",
            "                 precision    recall  f1-score   support\n",
            "\n",
            "  Sleep stage R       0.62      0.32      0.43       188\n",
            "  Sleep stage W       0.00      0.00      0.00       118\n",
            "Sleep stage 3/4       0.71      0.86      0.78       833\n",
            "  Sleep stage 1       0.51      0.96      0.67       110\n",
            "  Sleep stage 2       0.28      0.21      0.24       286\n",
            "\n",
            "       accuracy                           0.62      1535\n",
            "      macro avg       0.42      0.47      0.42      1535\n",
            "   weighted avg       0.55      0.62      0.57      1535\n",
            "\n",
            "--------------------------------------------------------\n",
            "Accuracy score: 0.6262230919765166\n",
            "[[114   0 113  32   4]\n",
            " [  3   0  30   0   6]\n",
            " [ 20   0 471  26  22]\n",
            " [  0   0   0   4   0]\n",
            " [ 54   0  67   5  51]]\n",
            "                 precision    recall  f1-score   support\n",
            "\n",
            "  Sleep stage R       0.60      0.43      0.50       263\n",
            "  Sleep stage W       0.00      0.00      0.00        39\n",
            "Sleep stage 3/4       0.69      0.87      0.77       539\n",
            "  Sleep stage 1       0.06      1.00      0.11         4\n",
            "  Sleep stage 2       0.61      0.29      0.39       177\n",
            "\n",
            "       accuracy                           0.63      1022\n",
            "      macro avg       0.39      0.52      0.36      1022\n",
            "   weighted avg       0.63      0.63      0.60      1022\n",
            "\n",
            "--------------------------------------------------------\n"
          ]
        },
        {
          "output_type": "stream",
          "name": "stderr",
          "text": [
            "/usr/local/lib/python3.7/dist-packages/sklearn/metrics/_classification.py:1308: UndefinedMetricWarning: Precision and F-score are ill-defined and being set to 0.0 in labels with no predicted samples. Use `zero_division` parameter to control this behavior.\n",
            "  _warn_prf(average, modifier, msg_start, len(result))\n",
            "/usr/local/lib/python3.7/dist-packages/sklearn/metrics/_classification.py:1308: UndefinedMetricWarning: Precision and F-score are ill-defined and being set to 0.0 in labels with no predicted samples. Use `zero_division` parameter to control this behavior.\n",
            "  _warn_prf(average, modifier, msg_start, len(result))\n",
            "/usr/local/lib/python3.7/dist-packages/sklearn/metrics/_classification.py:1308: UndefinedMetricWarning: Precision and F-score are ill-defined and being set to 0.0 in labels with no predicted samples. Use `zero_division` parameter to control this behavior.\n",
            "  _warn_prf(average, modifier, msg_start, len(result))\n",
            "/usr/local/lib/python3.7/dist-packages/sklearn/metrics/_classification.py:1308: UndefinedMetricWarning: Precision and F-score are ill-defined and being set to 0.0 in labels with no predicted samples. Use `zero_division` parameter to control this behavior.\n",
            "  _warn_prf(average, modifier, msg_start, len(result))\n",
            "/usr/local/lib/python3.7/dist-packages/sklearn/metrics/_classification.py:1308: UndefinedMetricWarning: Precision and F-score are ill-defined and being set to 0.0 in labels with no predicted samples. Use `zero_division` parameter to control this behavior.\n",
            "  _warn_prf(average, modifier, msg_start, len(result))\n",
            "/usr/local/lib/python3.7/dist-packages/sklearn/metrics/_classification.py:1308: UndefinedMetricWarning: Precision and F-score are ill-defined and being set to 0.0 in labels with no predicted samples. Use `zero_division` parameter to control this behavior.\n",
            "  _warn_prf(average, modifier, msg_start, len(result))\n",
            "/usr/local/lib/python3.7/dist-packages/sklearn/metrics/_classification.py:1308: UndefinedMetricWarning: Precision and F-score are ill-defined and being set to 0.0 in labels with no predicted samples. Use `zero_division` parameter to control this behavior.\n",
            "  _warn_prf(average, modifier, msg_start, len(result))\n",
            "/usr/local/lib/python3.7/dist-packages/sklearn/metrics/_classification.py:1308: UndefinedMetricWarning: Precision and F-score are ill-defined and being set to 0.0 in labels with no predicted samples. Use `zero_division` parameter to control this behavior.\n",
            "  _warn_prf(average, modifier, msg_start, len(result))\n",
            "/usr/local/lib/python3.7/dist-packages/sklearn/metrics/_classification.py:1308: UndefinedMetricWarning: Precision and F-score are ill-defined and being set to 0.0 in labels with no predicted samples. Use `zero_division` parameter to control this behavior.\n",
            "  _warn_prf(average, modifier, msg_start, len(result))\n",
            "/usr/local/lib/python3.7/dist-packages/sklearn/metrics/_classification.py:1308: UndefinedMetricWarning: Precision and F-score are ill-defined and being set to 0.0 in labels with no predicted samples. Use `zero_division` parameter to control this behavior.\n",
            "  _warn_prf(average, modifier, msg_start, len(result))\n",
            "/usr/local/lib/python3.7/dist-packages/sklearn/metrics/_classification.py:1308: UndefinedMetricWarning: Precision and F-score are ill-defined and being set to 0.0 in labels with no predicted samples. Use `zero_division` parameter to control this behavior.\n",
            "  _warn_prf(average, modifier, msg_start, len(result))\n",
            "/usr/local/lib/python3.7/dist-packages/sklearn/metrics/_classification.py:1308: UndefinedMetricWarning: Precision and F-score are ill-defined and being set to 0.0 in labels with no predicted samples. Use `zero_division` parameter to control this behavior.\n",
            "  _warn_prf(average, modifier, msg_start, len(result))\n",
            "/usr/local/lib/python3.7/dist-packages/sklearn/metrics/_classification.py:1308: UndefinedMetricWarning: Precision and F-score are ill-defined and being set to 0.0 in labels with no predicted samples. Use `zero_division` parameter to control this behavior.\n",
            "  _warn_prf(average, modifier, msg_start, len(result))\n",
            "/usr/local/lib/python3.7/dist-packages/sklearn/metrics/_classification.py:1308: UndefinedMetricWarning: Precision and F-score are ill-defined and being set to 0.0 in labels with no predicted samples. Use `zero_division` parameter to control this behavior.\n",
            "  _warn_prf(average, modifier, msg_start, len(result))\n",
            "/usr/local/lib/python3.7/dist-packages/sklearn/metrics/_classification.py:1308: UndefinedMetricWarning: Precision and F-score are ill-defined and being set to 0.0 in labels with no predicted samples. Use `zero_division` parameter to control this behavior.\n",
            "  _warn_prf(average, modifier, msg_start, len(result))\n"
          ]
        }
      ],
      "source": [
        "#Import Gaussian Naive Bayes model\n",
        "from sklearn.naive_bayes import GaussianNB\n",
        "#Create a Gaussian Classifier\n",
        "clf = GaussianNB()\n",
        "#Train the model using the training sets\n",
        "clf.fit(globals()['x'+str(1)], globals()['y'+str(1)]) \n",
        "for i in range(1,16):\n",
        "   clf.fit(globals()['x'+str(i+1)], globals()['y'+str(i+1)]) \n",
        "for i in range(16,21):\n",
        "    y_pred = clf.predict(globals()['x'+str(i+1)])\n",
        "\n",
        "    acc = accuracy_score(globals()['y'+str(i+1)], y_pred)\n",
        "\n",
        "    print(\"Accuracy score: {}\".format(acc))\n",
        "    print(confusion_matrix(globals()['y'+str(i+1)], y_pred))\n",
        "    print(classification_report(globals()['y'+str(i+1)], y_pred, target_names={'Sleep stage W',\n",
        "                    'Sleep stage 1',\n",
        "                    'Sleep stage 2',\n",
        "                    'Sleep stage 3/4',\n",
        "                    'Sleep stage R'}))\n",
        "    print('--------------------------------------------------------')"
      ]
    },
    {
      "cell_type": "code",
      "execution_count": null,
      "metadata": {
        "id": "11_pvvTPfJch",
        "colab": {
          "base_uri": "https://localhost:8080/"
        },
        "outputId": "f4f2760f-d431-47c9-d8a8-0fa65618a9f3"
      },
      "outputs": [
        {
          "output_type": "stream",
          "name": "stdout",
          "text": [
            "Accuracy score: 0.5034965034965035\n",
            "[[109   0  54  20  33]\n",
            " [ 10   0  35   1   9]\n",
            " [ 57   0 250 128  13]\n",
            " [ 17   0   0 148   0]\n",
            " [ 72   0 114   5  69]]\n",
            "                 precision    recall  f1-score   support\n",
            "\n",
            "  Sleep stage R       0.41      0.50      0.45       216\n",
            "  Sleep stage W       0.00      0.00      0.00        55\n",
            "Sleep stage 3/4       0.55      0.56      0.55       448\n",
            "  Sleep stage 1       0.49      0.90      0.63       165\n",
            "  Sleep stage 2       0.56      0.27      0.36       260\n",
            "\n",
            "       accuracy                           0.50      1144\n",
            "      macro avg       0.40      0.45      0.40      1144\n",
            "   weighted avg       0.49      0.50      0.48      1144\n",
            "\n",
            "--------------------------------------------------------\n",
            "Accuracy score: 0.3003992015968064\n",
            "[[ 56   0  62  43  15]\n",
            " [ 11   0   9   0   1]\n",
            " [166   0 112  35  15]\n",
            " [146   0   1  68   0]\n",
            " [ 57   0 137   3  65]]\n",
            "                 precision    recall  f1-score   support\n",
            "\n",
            "  Sleep stage R       0.13      0.32      0.18       176\n",
            "  Sleep stage W       0.00      0.00      0.00        21\n",
            "Sleep stage 3/4       0.35      0.34      0.35       328\n",
            "  Sleep stage 1       0.46      0.32      0.37       215\n",
            "  Sleep stage 2       0.68      0.25      0.36       262\n",
            "\n",
            "       accuracy                           0.30      1002\n",
            "      macro avg       0.32      0.24      0.25      1002\n",
            "   weighted avg       0.41      0.30      0.32      1002\n",
            "\n",
            "--------------------------------------------------------\n",
            "Accuracy score: 0.6732365145228216\n",
            "[[108   0  21   2   7]\n",
            " [  1   0   9   0  19]\n",
            " [  6   0 330   9  43]\n",
            " [ 83   0  35 173   0]\n",
            " [  3   0  77   0  38]]\n",
            "                 precision    recall  f1-score   support\n",
            "\n",
            "  Sleep stage R       0.54      0.78      0.64       138\n",
            "  Sleep stage W       0.00      0.00      0.00        29\n",
            "Sleep stage 3/4       0.70      0.85      0.77       388\n",
            "  Sleep stage 1       0.94      0.59      0.73       291\n",
            "  Sleep stage 2       0.36      0.32      0.34       118\n",
            "\n",
            "       accuracy                           0.67       964\n",
            "      macro avg       0.51      0.51      0.49       964\n",
            "   weighted avg       0.69      0.67      0.66       964\n",
            "\n",
            "--------------------------------------------------------\n",
            "Accuracy score: 0.6651465798045603\n",
            "[[ 98   0  25  32  33]\n",
            " [ 25   0  45   1  47]\n",
            " [ 30   0 753  21  29]\n",
            " [  5   0   3 102   0]\n",
            " [ 65   0 151   2  68]]\n",
            "                 precision    recall  f1-score   support\n",
            "\n",
            "  Sleep stage R       0.44      0.52      0.48       188\n",
            "  Sleep stage W       0.00      0.00      0.00       118\n",
            "Sleep stage 3/4       0.77      0.90      0.83       833\n",
            "  Sleep stage 1       0.65      0.93      0.76       110\n",
            "  Sleep stage 2       0.38      0.24      0.29       286\n",
            "\n",
            "       accuracy                           0.67      1535\n",
            "      macro avg       0.45      0.52      0.47      1535\n",
            "   weighted avg       0.59      0.67      0.62      1535\n",
            "\n",
            "--------------------------------------------------------\n",
            "Accuracy score: 0.5195694716242661\n",
            "[[126   0  86  27  24]\n",
            " [  3   0  31   0   5]\n",
            " [ 22   0 347  14 156]\n",
            " [  0   0   0   4   0]\n",
            " [ 79   0  44   0  54]]\n",
            "                 precision    recall  f1-score   support\n",
            "\n",
            "  Sleep stage R       0.55      0.48      0.51       263\n",
            "  Sleep stage W       0.00      0.00      0.00        39\n",
            "Sleep stage 3/4       0.68      0.64      0.66       539\n",
            "  Sleep stage 1       0.09      1.00      0.16         4\n",
            "  Sleep stage 2       0.23      0.31      0.26       177\n",
            "\n",
            "       accuracy                           0.52      1022\n",
            "      macro avg       0.31      0.49      0.32      1022\n",
            "   weighted avg       0.54      0.52      0.53      1022\n",
            "\n",
            "--------------------------------------------------------\n"
          ]
        },
        {
          "output_type": "stream",
          "name": "stderr",
          "text": [
            "/usr/local/lib/python3.7/dist-packages/sklearn/discriminant_analysis.py:878: UserWarning: Variables are collinear\n",
            "  warnings.warn(\"Variables are collinear\")\n",
            "/usr/local/lib/python3.7/dist-packages/sklearn/discriminant_analysis.py:878: UserWarning: Variables are collinear\n",
            "  warnings.warn(\"Variables are collinear\")\n",
            "/usr/local/lib/python3.7/dist-packages/sklearn/discriminant_analysis.py:878: UserWarning: Variables are collinear\n",
            "  warnings.warn(\"Variables are collinear\")\n",
            "/usr/local/lib/python3.7/dist-packages/sklearn/discriminant_analysis.py:878: UserWarning: Variables are collinear\n",
            "  warnings.warn(\"Variables are collinear\")\n",
            "/usr/local/lib/python3.7/dist-packages/sklearn/discriminant_analysis.py:878: UserWarning: Variables are collinear\n",
            "  warnings.warn(\"Variables are collinear\")\n",
            "/usr/local/lib/python3.7/dist-packages/sklearn/discriminant_analysis.py:878: UserWarning: Variables are collinear\n",
            "  warnings.warn(\"Variables are collinear\")\n",
            "/usr/local/lib/python3.7/dist-packages/sklearn/discriminant_analysis.py:878: UserWarning: Variables are collinear\n",
            "  warnings.warn(\"Variables are collinear\")\n",
            "/usr/local/lib/python3.7/dist-packages/sklearn/discriminant_analysis.py:878: UserWarning: Variables are collinear\n",
            "  warnings.warn(\"Variables are collinear\")\n",
            "/usr/local/lib/python3.7/dist-packages/sklearn/discriminant_analysis.py:878: UserWarning: Variables are collinear\n",
            "  warnings.warn(\"Variables are collinear\")\n",
            "/usr/local/lib/python3.7/dist-packages/sklearn/discriminant_analysis.py:878: UserWarning: Variables are collinear\n",
            "  warnings.warn(\"Variables are collinear\")\n",
            "/usr/local/lib/python3.7/dist-packages/sklearn/discriminant_analysis.py:878: UserWarning: Variables are collinear\n",
            "  warnings.warn(\"Variables are collinear\")\n",
            "/usr/local/lib/python3.7/dist-packages/sklearn/discriminant_analysis.py:878: UserWarning: Variables are collinear\n",
            "  warnings.warn(\"Variables are collinear\")\n",
            "/usr/local/lib/python3.7/dist-packages/sklearn/discriminant_analysis.py:878: UserWarning: Variables are collinear\n",
            "  warnings.warn(\"Variables are collinear\")\n",
            "/usr/local/lib/python3.7/dist-packages/sklearn/discriminant_analysis.py:878: UserWarning: Variables are collinear\n",
            "  warnings.warn(\"Variables are collinear\")\n",
            "/usr/local/lib/python3.7/dist-packages/sklearn/discriminant_analysis.py:878: UserWarning: Variables are collinear\n",
            "  warnings.warn(\"Variables are collinear\")\n",
            "/usr/local/lib/python3.7/dist-packages/sklearn/discriminant_analysis.py:878: UserWarning: Variables are collinear\n",
            "  warnings.warn(\"Variables are collinear\")\n",
            "/usr/local/lib/python3.7/dist-packages/sklearn/metrics/_classification.py:1308: UndefinedMetricWarning: Precision and F-score are ill-defined and being set to 0.0 in labels with no predicted samples. Use `zero_division` parameter to control this behavior.\n",
            "  _warn_prf(average, modifier, msg_start, len(result))\n",
            "/usr/local/lib/python3.7/dist-packages/sklearn/metrics/_classification.py:1308: UndefinedMetricWarning: Precision and F-score are ill-defined and being set to 0.0 in labels with no predicted samples. Use `zero_division` parameter to control this behavior.\n",
            "  _warn_prf(average, modifier, msg_start, len(result))\n",
            "/usr/local/lib/python3.7/dist-packages/sklearn/metrics/_classification.py:1308: UndefinedMetricWarning: Precision and F-score are ill-defined and being set to 0.0 in labels with no predicted samples. Use `zero_division` parameter to control this behavior.\n",
            "  _warn_prf(average, modifier, msg_start, len(result))\n",
            "/usr/local/lib/python3.7/dist-packages/sklearn/metrics/_classification.py:1308: UndefinedMetricWarning: Precision and F-score are ill-defined and being set to 0.0 in labels with no predicted samples. Use `zero_division` parameter to control this behavior.\n",
            "  _warn_prf(average, modifier, msg_start, len(result))\n",
            "/usr/local/lib/python3.7/dist-packages/sklearn/metrics/_classification.py:1308: UndefinedMetricWarning: Precision and F-score are ill-defined and being set to 0.0 in labels with no predicted samples. Use `zero_division` parameter to control this behavior.\n",
            "  _warn_prf(average, modifier, msg_start, len(result))\n",
            "/usr/local/lib/python3.7/dist-packages/sklearn/metrics/_classification.py:1308: UndefinedMetricWarning: Precision and F-score are ill-defined and being set to 0.0 in labels with no predicted samples. Use `zero_division` parameter to control this behavior.\n",
            "  _warn_prf(average, modifier, msg_start, len(result))\n",
            "/usr/local/lib/python3.7/dist-packages/sklearn/metrics/_classification.py:1308: UndefinedMetricWarning: Precision and F-score are ill-defined and being set to 0.0 in labels with no predicted samples. Use `zero_division` parameter to control this behavior.\n",
            "  _warn_prf(average, modifier, msg_start, len(result))\n",
            "/usr/local/lib/python3.7/dist-packages/sklearn/metrics/_classification.py:1308: UndefinedMetricWarning: Precision and F-score are ill-defined and being set to 0.0 in labels with no predicted samples. Use `zero_division` parameter to control this behavior.\n",
            "  _warn_prf(average, modifier, msg_start, len(result))\n",
            "/usr/local/lib/python3.7/dist-packages/sklearn/metrics/_classification.py:1308: UndefinedMetricWarning: Precision and F-score are ill-defined and being set to 0.0 in labels with no predicted samples. Use `zero_division` parameter to control this behavior.\n",
            "  _warn_prf(average, modifier, msg_start, len(result))\n",
            "/usr/local/lib/python3.7/dist-packages/sklearn/metrics/_classification.py:1308: UndefinedMetricWarning: Precision and F-score are ill-defined and being set to 0.0 in labels with no predicted samples. Use `zero_division` parameter to control this behavior.\n",
            "  _warn_prf(average, modifier, msg_start, len(result))\n",
            "/usr/local/lib/python3.7/dist-packages/sklearn/metrics/_classification.py:1308: UndefinedMetricWarning: Precision and F-score are ill-defined and being set to 0.0 in labels with no predicted samples. Use `zero_division` parameter to control this behavior.\n",
            "  _warn_prf(average, modifier, msg_start, len(result))\n",
            "/usr/local/lib/python3.7/dist-packages/sklearn/metrics/_classification.py:1308: UndefinedMetricWarning: Precision and F-score are ill-defined and being set to 0.0 in labels with no predicted samples. Use `zero_division` parameter to control this behavior.\n",
            "  _warn_prf(average, modifier, msg_start, len(result))\n",
            "/usr/local/lib/python3.7/dist-packages/sklearn/metrics/_classification.py:1308: UndefinedMetricWarning: Precision and F-score are ill-defined and being set to 0.0 in labels with no predicted samples. Use `zero_division` parameter to control this behavior.\n",
            "  _warn_prf(average, modifier, msg_start, len(result))\n",
            "/usr/local/lib/python3.7/dist-packages/sklearn/metrics/_classification.py:1308: UndefinedMetricWarning: Precision and F-score are ill-defined and being set to 0.0 in labels with no predicted samples. Use `zero_division` parameter to control this behavior.\n",
            "  _warn_prf(average, modifier, msg_start, len(result))\n",
            "/usr/local/lib/python3.7/dist-packages/sklearn/metrics/_classification.py:1308: UndefinedMetricWarning: Precision and F-score are ill-defined and being set to 0.0 in labels with no predicted samples. Use `zero_division` parameter to control this behavior.\n",
            "  _warn_prf(average, modifier, msg_start, len(result))\n"
          ]
        }
      ],
      "source": [
        "from sklearn.discriminant_analysis import QuadraticDiscriminantAnalysis\n",
        "clf = QuadraticDiscriminantAnalysis(store_covariance=True) \n",
        "#Train the model using the training sets\n",
        "clf.fit(globals()['x'+str(1)], globals()['y'+str(1)]) \n",
        "for i in range(1,16):\n",
        "   clf.fit(globals()['x'+str(i+1)], globals()['y'+str(i+1)]) \n",
        "for i in range(16,21):\n",
        "    y_pred = clf.predict(globals()['x'+str(i+1)])\n",
        "\n",
        "    acc = accuracy_score(globals()['y'+str(i+1)], y_pred)\n",
        "\n",
        "    print(\"Accuracy score: {}\".format(acc))\n",
        "    print(confusion_matrix(globals()['y'+str(i+1)], y_pred))\n",
        "    print(classification_report(globals()['y'+str(i+1)], y_pred, target_names={'Sleep stage W',\n",
        "                    'Sleep stage 1',\n",
        "                    'Sleep stage 2',\n",
        "                    'Sleep stage 3/4',\n",
        "                    'Sleep stage R'}))\n",
        "    print('--------------------------------------------------------')"
      ]
    },
    {
      "cell_type": "code",
      "execution_count": null,
      "metadata": {
        "id": "g75EM-m3fMJb",
        "colab": {
          "base_uri": "https://localhost:8080/"
        },
        "outputId": "97d16bf8-ffa1-40aa-bb02-17aceb3edd27"
      },
      "outputs": [
        {
          "output_type": "stream",
          "name": "stdout",
          "text": [
            "Accuracy score: 0.3916083916083916\n",
            "[[  0   0 216   0   0]\n",
            " [  0   0  55   0   0]\n",
            " [  0   0 448   0   0]\n",
            " [  0   0 165   0   0]\n",
            " [  0   0 260   0   0]]\n",
            "                 precision    recall  f1-score   support\n",
            "\n",
            "  Sleep stage R       0.00      0.00      0.00       216\n",
            "  Sleep stage W       0.00      0.00      0.00        55\n",
            "Sleep stage 3/4       0.39      1.00      0.56       448\n",
            "  Sleep stage 1       0.00      0.00      0.00       165\n",
            "  Sleep stage 2       0.00      0.00      0.00       260\n",
            "\n",
            "       accuracy                           0.39      1144\n",
            "      macro avg       0.08      0.20      0.11      1144\n",
            "   weighted avg       0.15      0.39      0.22      1144\n",
            "\n",
            "--------------------------------------------------------\n",
            "Accuracy score: 0.3273453093812375\n",
            "[[  0   0 176   0   0]\n",
            " [  0   0  21   0   0]\n",
            " [  0   0 328   0   0]\n",
            " [  0   0 215   0   0]\n",
            " [  0   0 262   0   0]]\n",
            "                 precision    recall  f1-score   support\n",
            "\n",
            "  Sleep stage R       0.00      0.00      0.00       176\n",
            "  Sleep stage W       0.00      0.00      0.00        21\n",
            "Sleep stage 3/4       0.33      1.00      0.49       328\n",
            "  Sleep stage 1       0.00      0.00      0.00       215\n",
            "  Sleep stage 2       0.00      0.00      0.00       262\n",
            "\n",
            "       accuracy                           0.33      1002\n",
            "      macro avg       0.07      0.20      0.10      1002\n",
            "   weighted avg       0.11      0.33      0.16      1002\n",
            "\n",
            "--------------------------------------------------------\n",
            "Accuracy score: 0.4024896265560166\n",
            "[[  0   0 138   0   0]\n",
            " [  0   0  29   0   0]\n",
            " [  0   0 388   0   0]\n",
            " [  0   0 291   0   0]\n",
            " [  0   0 118   0   0]]\n",
            "                 precision    recall  f1-score   support\n",
            "\n",
            "  Sleep stage R       0.00      0.00      0.00       138\n",
            "  Sleep stage W       0.00      0.00      0.00        29\n",
            "Sleep stage 3/4       0.40      1.00      0.57       388\n",
            "  Sleep stage 1       0.00      0.00      0.00       291\n",
            "  Sleep stage 2       0.00      0.00      0.00       118\n",
            "\n",
            "       accuracy                           0.40       964\n",
            "      macro avg       0.08      0.20      0.11       964\n",
            "   weighted avg       0.16      0.40      0.23       964\n",
            "\n",
            "--------------------------------------------------------\n",
            "Accuracy score: 0.542671009771987\n",
            "[[  0   0 188   0   0]\n",
            " [  0   0 118   0   0]\n",
            " [  0   0 833   0   0]\n",
            " [  0   0 110   0   0]\n",
            " [  0   0 286   0   0]]\n",
            "                 precision    recall  f1-score   support\n",
            "\n",
            "  Sleep stage R       0.00      0.00      0.00       188\n",
            "  Sleep stage W       0.00      0.00      0.00       118\n",
            "Sleep stage 3/4       0.54      1.00      0.70       833\n",
            "  Sleep stage 1       0.00      0.00      0.00       110\n",
            "  Sleep stage 2       0.00      0.00      0.00       286\n",
            "\n",
            "       accuracy                           0.54      1535\n",
            "      macro avg       0.11      0.20      0.14      1535\n",
            "   weighted avg       0.29      0.54      0.38      1535\n",
            "\n",
            "--------------------------------------------------------\n",
            "Accuracy score: 0.5273972602739726\n",
            "[[  0   0 263   0   0]\n",
            " [  0   0  39   0   0]\n",
            " [  0   0 539   0   0]\n",
            " [  0   0   4   0   0]\n",
            " [  0   0 177   0   0]]\n",
            "                 precision    recall  f1-score   support\n",
            "\n",
            "  Sleep stage R       0.00      0.00      0.00       263\n",
            "  Sleep stage W       0.00      0.00      0.00        39\n",
            "Sleep stage 3/4       0.53      1.00      0.69       539\n",
            "  Sleep stage 1       0.00      0.00      0.00         4\n",
            "  Sleep stage 2       0.00      0.00      0.00       177\n",
            "\n",
            "       accuracy                           0.53      1022\n",
            "      macro avg       0.11      0.20      0.14      1022\n",
            "   weighted avg       0.28      0.53      0.36      1022\n",
            "\n",
            "--------------------------------------------------------\n"
          ]
        },
        {
          "output_type": "stream",
          "name": "stderr",
          "text": [
            "/usr/local/lib/python3.7/dist-packages/sklearn/metrics/_classification.py:1308: UndefinedMetricWarning: Precision and F-score are ill-defined and being set to 0.0 in labels with no predicted samples. Use `zero_division` parameter to control this behavior.\n",
            "  _warn_prf(average, modifier, msg_start, len(result))\n",
            "/usr/local/lib/python3.7/dist-packages/sklearn/metrics/_classification.py:1308: UndefinedMetricWarning: Precision and F-score are ill-defined and being set to 0.0 in labels with no predicted samples. Use `zero_division` parameter to control this behavior.\n",
            "  _warn_prf(average, modifier, msg_start, len(result))\n",
            "/usr/local/lib/python3.7/dist-packages/sklearn/metrics/_classification.py:1308: UndefinedMetricWarning: Precision and F-score are ill-defined and being set to 0.0 in labels with no predicted samples. Use `zero_division` parameter to control this behavior.\n",
            "  _warn_prf(average, modifier, msg_start, len(result))\n",
            "/usr/local/lib/python3.7/dist-packages/sklearn/metrics/_classification.py:1308: UndefinedMetricWarning: Precision and F-score are ill-defined and being set to 0.0 in labels with no predicted samples. Use `zero_division` parameter to control this behavior.\n",
            "  _warn_prf(average, modifier, msg_start, len(result))\n",
            "/usr/local/lib/python3.7/dist-packages/sklearn/metrics/_classification.py:1308: UndefinedMetricWarning: Precision and F-score are ill-defined and being set to 0.0 in labels with no predicted samples. Use `zero_division` parameter to control this behavior.\n",
            "  _warn_prf(average, modifier, msg_start, len(result))\n",
            "/usr/local/lib/python3.7/dist-packages/sklearn/metrics/_classification.py:1308: UndefinedMetricWarning: Precision and F-score are ill-defined and being set to 0.0 in labels with no predicted samples. Use `zero_division` parameter to control this behavior.\n",
            "  _warn_prf(average, modifier, msg_start, len(result))\n",
            "/usr/local/lib/python3.7/dist-packages/sklearn/metrics/_classification.py:1308: UndefinedMetricWarning: Precision and F-score are ill-defined and being set to 0.0 in labels with no predicted samples. Use `zero_division` parameter to control this behavior.\n",
            "  _warn_prf(average, modifier, msg_start, len(result))\n",
            "/usr/local/lib/python3.7/dist-packages/sklearn/metrics/_classification.py:1308: UndefinedMetricWarning: Precision and F-score are ill-defined and being set to 0.0 in labels with no predicted samples. Use `zero_division` parameter to control this behavior.\n",
            "  _warn_prf(average, modifier, msg_start, len(result))\n",
            "/usr/local/lib/python3.7/dist-packages/sklearn/metrics/_classification.py:1308: UndefinedMetricWarning: Precision and F-score are ill-defined and being set to 0.0 in labels with no predicted samples. Use `zero_division` parameter to control this behavior.\n",
            "  _warn_prf(average, modifier, msg_start, len(result))\n",
            "/usr/local/lib/python3.7/dist-packages/sklearn/metrics/_classification.py:1308: UndefinedMetricWarning: Precision and F-score are ill-defined and being set to 0.0 in labels with no predicted samples. Use `zero_division` parameter to control this behavior.\n",
            "  _warn_prf(average, modifier, msg_start, len(result))\n",
            "/usr/local/lib/python3.7/dist-packages/sklearn/metrics/_classification.py:1308: UndefinedMetricWarning: Precision and F-score are ill-defined and being set to 0.0 in labels with no predicted samples. Use `zero_division` parameter to control this behavior.\n",
            "  _warn_prf(average, modifier, msg_start, len(result))\n",
            "/usr/local/lib/python3.7/dist-packages/sklearn/metrics/_classification.py:1308: UndefinedMetricWarning: Precision and F-score are ill-defined and being set to 0.0 in labels with no predicted samples. Use `zero_division` parameter to control this behavior.\n",
            "  _warn_prf(average, modifier, msg_start, len(result))\n",
            "/usr/local/lib/python3.7/dist-packages/sklearn/metrics/_classification.py:1308: UndefinedMetricWarning: Precision and F-score are ill-defined and being set to 0.0 in labels with no predicted samples. Use `zero_division` parameter to control this behavior.\n",
            "  _warn_prf(average, modifier, msg_start, len(result))\n",
            "/usr/local/lib/python3.7/dist-packages/sklearn/metrics/_classification.py:1308: UndefinedMetricWarning: Precision and F-score are ill-defined and being set to 0.0 in labels with no predicted samples. Use `zero_division` parameter to control this behavior.\n",
            "  _warn_prf(average, modifier, msg_start, len(result))\n",
            "/usr/local/lib/python3.7/dist-packages/sklearn/metrics/_classification.py:1308: UndefinedMetricWarning: Precision and F-score are ill-defined and being set to 0.0 in labels with no predicted samples. Use `zero_division` parameter to control this behavior.\n",
            "  _warn_prf(average, modifier, msg_start, len(result))\n"
          ]
        }
      ],
      "source": [
        "from sklearn import svm\n",
        "from sklearn.svm import SVC\n",
        "from sklearn.metrics import confusion_matrix \n",
        "from sklearn.metrics import accuracy_score\n",
        "clf=SVC(kernel='poly',C=1,degree=2,coef0=1.001 ,gamma='auto')\n",
        "clf.fit(globals()['x'+str(1)], globals()['y'+str(1)]) \n",
        "for i in range(1,16):\n",
        "   clf.fit(globals()['x'+str(i+1)], globals()['y'+str(i+1)]) \n",
        "for i in range(16,21):\n",
        "    y_pred = clf.predict(globals()['x'+str(i+1)])\n",
        "\n",
        "    acc = accuracy_score(globals()['y'+str(i+1)], y_pred)\n",
        "\n",
        "    print(\"Accuracy score: {}\".format(acc))\n",
        "    print(confusion_matrix(globals()['y'+str(i+1)], y_pred))\n",
        "    print(classification_report(globals()['y'+str(i+1)], y_pred, target_names={'Sleep stage W',\n",
        "                    'Sleep stage 1',\n",
        "                    'Sleep stage 2',\n",
        "                    'Sleep stage 3/4',\n",
        "                    'Sleep stage R'}))\n",
        "    print('--------------------------------------------------------')"
      ]
    }
  ],
  "metadata": {
    "accelerator": "GPU",
    "colab": {
      "collapsed_sections": [],
      "name": "Ass2_20180028_20180047.ipynb",
      "provenance": []
    },
    "kernelspec": {
      "display_name": "Python 3",
      "name": "python3"
    },
    "language_info": {
      "name": "python"
    }
  },
  "nbformat": 4,
  "nbformat_minor": 0
}